{
  "cells": [
    {
      "cell_type": "markdown",
      "metadata": {
        "id": "kDd-jnFWaczi"
      },
      "source": [
        "## Implement utility classes and methods for knowledge base and model checking"
      ]
    },
    {
      "cell_type": "code",
      "execution_count": 29,
      "metadata": {
        "id": "xwanb3R-aB5J"
      },
      "outputs": [],
      "source": [
        "import itertools\n",
        "\n",
        "class Sentence():\n",
        "\n",
        "    def evaluate(self, model):\n",
        "        \"\"\"Evaluates the logical sentence.\"\"\"\n",
        "        raise Exception(\"nothing to evaluate\")\n",
        "\n",
        "    def formula(self):\n",
        "        \"\"\"Returns string formula representing logical sentence.\"\"\"\n",
        "        return \"\"\n",
        "\n",
        "    def symbols(self):\n",
        "        \"\"\"Returns a set of all symbols in the logical sentence.\"\"\"\n",
        "        return set()\n",
        "\n",
        "    @classmethod\n",
        "    def validate(cls, sentence):\n",
        "        if not isinstance(sentence, Sentence):\n",
        "            raise TypeError(\"must be a logical sentence\")\n",
        "\n",
        "    @classmethod\n",
        "    def parenthesize(cls, s):\n",
        "        \"\"\"Parenthesizes an expression if not already parenthesized.\"\"\"\n",
        "        def balanced(s):\n",
        "            \"\"\"Checks if a string has balanced parentheses.\"\"\"\n",
        "            count = 0\n",
        "            for c in s:\n",
        "                if c == \"(\":\n",
        "                    count += 1\n",
        "                elif c == \")\":\n",
        "                    if count <= 0:\n",
        "                        return False\n",
        "                    count -= 1\n",
        "            return count == 0\n",
        "        if not len(s) or s.isalpha() or (\n",
        "            s[0] == \"(\" and s[-1] == \")\" and balanced(s[1:-1])\n",
        "        ):\n",
        "            return s\n",
        "        else:\n",
        "            return f\"({s})\"\n",
        "\n",
        "\n",
        "class Symbol(Sentence):\n",
        "\n",
        "    def __init__(self, name):\n",
        "        self.name = name\n",
        "\n",
        "    def __eq__(self, other):\n",
        "        return isinstance(other, Symbol) and self.name == other.name\n",
        "\n",
        "    def __hash__(self):\n",
        "        return hash((\"symbol\", self.name))\n",
        "\n",
        "    def __repr__(self):\n",
        "        return self.name\n",
        "\n",
        "    def evaluate(self, model):\n",
        "        try:\n",
        "            return bool(model[self.name])\n",
        "        except KeyError:\n",
        "            raise EvaluationException(f\"variable {self.name} not in model\")\n",
        "\n",
        "    def formula(self):\n",
        "        return self.name\n",
        "\n",
        "    def symbols(self):\n",
        "        return {self.name}\n",
        "\n",
        "\n",
        "class Not(Sentence):\n",
        "    def __init__(self, operand):\n",
        "        Sentence.validate(operand)\n",
        "        self.operand = operand\n",
        "\n",
        "    def __eq__(self, other):\n",
        "        return isinstance(other, Not) and self.operand == other.operand\n",
        "\n",
        "    def __hash__(self):\n",
        "        return hash((\"not\", hash(self.operand)))\n",
        "\n",
        "    def __repr__(self):\n",
        "        return f\"Not({self.operand})\"\n",
        "\n",
        "    def evaluate(self, model):\n",
        "        return not self.operand.evaluate(model)\n",
        "\n",
        "    def formula(self):\n",
        "        return \"¬\" + Sentence.parenthesize(self.operand.formula())\n",
        "\n",
        "    def symbols(self):\n",
        "        return self.operand.symbols()\n",
        "\n",
        "\n",
        "class And(Sentence):\n",
        "    def __init__(self, *conjuncts):\n",
        "        for conjunct in conjuncts:\n",
        "            Sentence.validate(conjunct)\n",
        "        self.conjuncts = list(conjuncts)\n",
        "\n",
        "    def __eq__(self, other):\n",
        "        return isinstance(other, And) and self.conjuncts == other.conjuncts\n",
        "\n",
        "    def __hash__(self):\n",
        "        return hash(\n",
        "            (\"and\", tuple(hash(conjunct) for conjunct in self.conjuncts))\n",
        "        )\n",
        "\n",
        "    def __repr__(self):\n",
        "        conjunctions = \", \".join(\n",
        "            [str(conjunct) for conjunct in self.conjuncts]\n",
        "        )\n",
        "        return f\"And({conjunctions})\"\n",
        "\n",
        "    def add(self, conjunct):\n",
        "        Sentence.validate(conjunct)\n",
        "        self.conjuncts.append(conjunct)\n",
        "\n",
        "    def evaluate(self, model):\n",
        "        return all(conjunct.evaluate(model) for conjunct in self.conjuncts)\n",
        "\n",
        "    def formula(self):\n",
        "        if len(self.conjuncts) == 1:\n",
        "            return self.conjuncts[0].formula()\n",
        "        return \" ∧ \".join([Sentence.parenthesize(conjunct.formula())\n",
        "                           for conjunct in self.conjuncts])\n",
        "\n",
        "    def symbols(self):\n",
        "        return set.union(*[conjunct.symbols() for conjunct in self.conjuncts])\n",
        "\n",
        "\n",
        "class Or(Sentence):\n",
        "    def __init__(self, *disjuncts):\n",
        "        for disjunct in disjuncts:\n",
        "            Sentence.validate(disjunct)\n",
        "        self.disjuncts = list(disjuncts)\n",
        "\n",
        "    def __eq__(self, other):\n",
        "        return isinstance(other, Or) and self.disjuncts == other.disjuncts\n",
        "\n",
        "    def __hash__(self):\n",
        "        return hash(\n",
        "            (\"or\", tuple(hash(disjunct) for disjunct in self.disjuncts))\n",
        "        )\n",
        "\n",
        "    def __repr__(self):\n",
        "        disjuncts = \", \".join([str(disjunct) for disjunct in self.disjuncts])\n",
        "        return f\"Or({disjuncts})\"\n",
        "\n",
        "    def evaluate(self, model):\n",
        "        return any(disjunct.evaluate(model) for disjunct in self.disjuncts)\n",
        "\n",
        "    def formula(self):\n",
        "        if len(self.disjuncts) == 1:\n",
        "            return self.disjuncts[0].formula()\n",
        "        return \" ∨  \".join([Sentence.parenthesize(disjunct.formula())\n",
        "                            for disjunct in self.disjuncts])\n",
        "\n",
        "    def symbols(self):\n",
        "        return set.union(*[disjunct.symbols() for disjunct in self.disjuncts])\n",
        "\n",
        "\n",
        "class Implication(Sentence):\n",
        "    def __init__(self, antecedent, consequent):\n",
        "        Sentence.validate(antecedent)\n",
        "        Sentence.validate(consequent)\n",
        "        self.antecedent = antecedent\n",
        "        self.consequent = consequent\n",
        "\n",
        "    def __eq__(self, other):\n",
        "        return (isinstance(other, Implication)\n",
        "                and self.antecedent == other.antecedent\n",
        "                and self.consequent == other.consequent)\n",
        "\n",
        "    def __hash__(self):\n",
        "        return hash((\"implies\", hash(self.antecedent), hash(self.consequent)))\n",
        "\n",
        "    def __repr__(self):\n",
        "        return f\"Implication({self.antecedent}, {self.consequent})\"\n",
        "\n",
        "    def evaluate(self, model):\n",
        "        return ((not self.antecedent.evaluate(model))\n",
        "                or self.consequent.evaluate(model))\n",
        "\n",
        "    def formula(self):\n",
        "        antecedent = Sentence.parenthesize(self.antecedent.formula())\n",
        "        consequent = Sentence.parenthesize(self.consequent.formula())\n",
        "        return f\"{antecedent} => {consequent}\"\n",
        "\n",
        "    def symbols(self):\n",
        "        return set.union(self.antecedent.symbols(), self.consequent.symbols())\n",
        "\n",
        "\n",
        "class Biconditional(Sentence):\n",
        "    def __init__(self, left, right):\n",
        "        Sentence.validate(left)\n",
        "        Sentence.validate(right)\n",
        "        self.left = left\n",
        "        self.right = right\n",
        "\n",
        "    def __eq__(self, other):\n",
        "        return (isinstance(other, Biconditional)\n",
        "                and self.left == other.left\n",
        "                and self.right == other.right)\n",
        "\n",
        "    def __hash__(self):\n",
        "        return hash((\"biconditional\", hash(self.left), hash(self.right)))\n",
        "\n",
        "    def __repr__(self):\n",
        "        return f\"Biconditional({self.left}, {self.right})\"\n",
        "\n",
        "    def evaluate(self, model):\n",
        "        return ((self.left.evaluate(model)\n",
        "                 and self.right.evaluate(model))\n",
        "                or (not self.left.evaluate(model)\n",
        "                    and not self.right.evaluate(model)))\n",
        "\n",
        "    def formula(self):\n",
        "        left = Sentence.parenthesize(str(self.left))\n",
        "        right = Sentence.parenthesize(str(self.right))\n",
        "        return f\"{left} <=> {right}\"\n",
        "\n",
        "    def symbols(self):\n",
        "        return set.union(self.left.symbols(), self.right.symbols())\n",
        "\n",
        "\n",
        "def model_check(knowledge, query):\n",
        "    \"\"\"Checks if knowledge base entails query.\"\"\"\n",
        "\n",
        "    def check_all(knowledge, query, symbols, model):\n",
        "        \"\"\"Checks if knowledge base entails query, given a particular model.\"\"\"\n",
        "\n",
        "        # If model has an assignment for each symbol\n",
        "        if not symbols:\n",
        "\n",
        "            # If knowledge base is true in model, then query must also be true\n",
        "            if knowledge.evaluate(model):\n",
        "                return query.evaluate(model)\n",
        "            return True\n",
        "        else:\n",
        "\n",
        "            # Choose one of the remaining unused symbols\n",
        "            remaining = symbols.copy()\n",
        "            p = remaining.pop()\n",
        "\n",
        "            # Create a model where the symbol is true\n",
        "            model_true = model.copy()\n",
        "            model_true[p] = True\n",
        "\n",
        "            # Create a model where the symbol is false\n",
        "            model_false = model.copy()\n",
        "            model_false[p] = False\n",
        "\n",
        "            # Ensure entailment holds in both models\n",
        "            return (check_all(knowledge, query, remaining, model_true) and\n",
        "                    check_all(knowledge, query, remaining, model_false))\n",
        "\n",
        "    # Get all symbols in both knowledge and query\n",
        "    symbols = set.union(knowledge.symbols(), query.symbols())\n",
        "\n",
        "    # Check that knowledge entails query\n",
        "    return check_all(knowledge, query, symbols, dict())\n"
      ]
    },
    {
      "cell_type": "markdown",
      "metadata": {
        "id": "0ERpde74a6Ft"
      },
      "source": [
        "## Example 1 - What did Harry Potter do to day?"
      ]
    },
    {
      "cell_type": "markdown",
      "metadata": {
        "id": "OQVTnULveuLI"
      },
      "source": [
        "Consider the following sentences:\n",
        "\n",
        "1. If it didn’t rain, Harry visited Hagrid today.\n",
        "2. Harry visited Hagrid or Dumbledore today, but not both.\n",
        "3. Harry visited Dumbledore today.\n",
        "\n",
        "Construct a knowledge base represents the knowledge above and use the knowledge base to answer the following question:\n",
        "1. Was it rain today?\n",
        "2. Did Harry visit Hagrid today?"
      ]
    },
    {
      "cell_type": "code",
      "execution_count": null,
      "metadata": {
        "id": "wDLMwcQcbMJg"
      },
      "outputs": [
        {
          "name": "stdout",
          "output_type": "stream",
          "text": [
            "Was it rain today? True\n",
            "Did Harry visit Hagrid today? False\n"
          ]
        }
      ],
      "source": [
        "# Create new classes, each having a name, or a symbol, representing each proposition.\n",
        "rain = Symbol(\"rain\")       # It was raining.\n",
        "hagrid = Symbol(\"hagrid\")   # Harry visited Hagrid\n",
        "dumbledore = Symbol(\"dumbledore\") # Harry visited Dumbledore\n",
        "\n",
        "knowledge = And(  # Starting from the \"And\" logical connective, becasue each proposition represents knowledge that we know to be true.\n",
        "    Implication(Not(rain), hagrid), # ¬(It is raining) → (Harry visited Hagrid)\n",
        "    Or(hagrid, dumbledore),         # (Harry visited Hagrid) ∨ (Harry visited Dumbledore).\n",
        "    Not(And(hagrid, dumbledore)),   # ¬(Harry visited Hagrid ∧ Harry visited Dumbledore) i.e. Harry did not visit both Hagrid and Dumbledore.\n",
        "    dumbledore  # Harry visited Dumbledore. Note that while previous propositions contained multiple symbols with connectors,\n",
        "                # this is a proposition consisting of one symbol. This means that we take as a fact that,\n",
        "                # in this KB, Harry visited Dumbledore.\n",
        ")\n",
        "\n",
        "print(\"Was it rain today?\", model_check(knowledge, rain))\n",
        "print(\"Did Harry visit Hagrid today?\", model_check(knowledge, hagrid))\n"
      ]
    },
    {
      "cell_type": "markdown",
      "metadata": {
        "id": "6DZVE6v-c0Uf"
      },
      "source": [
        "## Example 2 - A Quidditch"
      ]
    },
    {
      "cell_type": "markdown",
      "metadata": {
        "id": "Sn9OxfEme6K2"
      },
      "source": [
        "In a quidditch game, Harry can play seeker or beater for Gryffindor team. Ron can play either seeker or keeper, and Oliver always plays keeper. The game has only one seeker, two beater, and one keeper.\n",
        "The Gryffindor team always lose when Ron plays keeper. However, the team won on last Sunday.\n",
        "\n",
        "Create neccessary symbols to represent all the propositions above and construct a knowledge base that contains as much knowledge as possible.\n",
        "Use the model checking on the knowledge base to answer the the following questions about the game on last Sunday:\n",
        "1. Did Oliver play keeper?\n",
        "2. Did Ron play keeper?\n",
        "3. Did Ron play seeker?\n",
        "4. Did Harry play seeker?\n",
        "5. Did Harry play beater?"
      ]
    },
    {
      "cell_type": "code",
      "execution_count": 31,
      "metadata": {
        "id": "iqPMnf-_djEN"
      },
      "outputs": [
        {
          "name": "stdout",
          "output_type": "stream",
          "text": [
            "Did Oliver play keeper? True\n",
            "Did Ron play keeper? False\n",
            "Did Ron play seeker? True\n",
            "Did Harry play seeker? False\n",
            "Did Harry play beater? True\n"
          ]
        }
      ],
      "source": [
        "# Create new classes, each having a name, or a symbol, representing each proposition.\n",
        "harrySeeker = Symbol(\"harrySeeker\")   # Harry plays seeker\n",
        "harryBeater = Symbol(\"harryBeater\")   # Harry plays beater\n",
        "ronSeeker = Symbol(\"ronSeeker\")       # Ron plays seeker\n",
        "ronKeeper = Symbol(\"ronKeeper\")       # Ron plays keeper\n",
        "oliverKeeper = Symbol(\"oliverKeeper\")             # Oliver plays keeper\n",
        "gryffindor = Symbol(\"gryffindor\") # Gryffindor wins\n",
        "\n",
        "knowledge = And(\n",
        "    # Add statements to construct the knowledge base\n",
        "    Or(harrySeeker, harryBeater),           # Harry can play seeker or beater\n",
        "    Not(And(harrySeeker, harryBeater)),     # Harry can't play both seeker and beater in a game\n",
        "    Or(ronSeeker, ronKeeper),               # Ron can play seeker or Keeper\n",
        "    Not(And(ronSeeker, ronKeeper)),         # Ron can't play both seeker and keeper in a game\n",
        "    \n",
        "    Biconditional(harrySeeker, Not(ronSeeker)), # Only one seeker in the game (Harry or Ron)\n",
        "    oliverKeeper,                           # Oliver always plays keeper\n",
        "    \n",
        "    Implication(ronKeeper, Not(gryffindor)),# If Ron plays keeper, Gryffindor won't win\n",
        "    gryffindor                              # Gryffindor wins\n",
        ")\n",
        "\n",
        "# Answer the questions\n",
        "print(\"Did Oliver play keeper?\", model_check(knowledge, oliverKeeper))\n",
        "print(\"Did Ron play keeper?\", model_check(knowledge, ronKeeper))\n",
        "print(\"Did Ron play seeker?\", model_check(knowledge, ronSeeker))\n",
        "print(\"Did Harry play seeker?\", model_check(knowledge, harrySeeker))\n",
        "print(\"Did Harry play beater?\", model_check(knowledge, harryBeater))"
      ]
    },
    {
      "cell_type": "markdown",
      "metadata": {
        "id": "RPZvf5fNfM-R"
      },
      "source": [
        "## Example 3 - A textbook\n",
        "\n"
      ]
    },
    {
      "cell_type": "markdown",
      "metadata": {
        "id": "_uldiKdCfFjx"
      },
      "source": [
        "A textbook is the be translated into at least one of seven languages: Arabic, Chinese, French, German, Hindi, Russian, and Spanish, according to the following conditions:\n",
        "\n",
        "1.   If it is translated into French, it is translated into German.\n",
        "2.   If it is translated into Arabic or Chinese or both, it will not be translated into Russian.\n",
        "3. If it is not translated into Arabic, it is translated into Hindi.\n",
        "4. If it is translated into Spanish, it will not be translated into German.\n",
        "\n",
        "Assume that the textbook is translated into French and Russian, list all possible languages into which the textbook is translated."
      ]
    },
    {
      "cell_type": "code",
      "execution_count": 32,
      "metadata": {
        "id": "jgi1ZQRyXElr"
      },
      "outputs": [
        {
          "name": "stdout",
          "output_type": "stream",
          "text": [
            "Checking which languages the textbook is translated into:\n",
            "- French\n",
            "- German\n",
            "- Hindi\n",
            "- Russian\n"
          ]
        }
      ],
      "source": [
        "arabic = Symbol(\"Arabic\")     # Textbook is translated to Arabic\n",
        "chinese = Symbol(\"Chinese\")   # Textbook is translated to Chinese\n",
        "french = Symbol(\"French\")     # Textbook is translated to French\n",
        "german = Symbol(\"German\")     # Textbook is translated to German\n",
        "hindi = Symbol(\"Hindi\")       # Textbook is translated to Hindi\n",
        "russian = Symbol(\"Russian\")   # Textbook is translated to Russian\n",
        "spanish = Symbol(\"Spanish\")   # Textbook is translated to Spanish\n",
        "\n",
        "knowledge = And(\n",
        "    # Add statements to construct the knowledge base\n",
        "    Implication(french, german),\n",
        "    Implication(Or(arabic, chinese), Not(russian)),\n",
        "    Implication(Not(arabic), hindi),\n",
        "    Implication(spanish, Not(german)),\n",
        "    \n",
        "    # Known facts\n",
        "    french,\n",
        "    russian\n",
        ")\n",
        "\n",
        "# List all possible languages into which the textbook is translated\n",
        "possible_languages = []\n",
        "languages = [arabic, chinese, french, german, hindi, russian, spanish]\n",
        "\n",
        "print(\"Checking which languages the textbook is translated into:\")\n",
        "for lang in languages:\n",
        "    if model_check(knowledge, lang):\n",
        "        print(f\"- {lang.name}\")"
      ]
    },
    {
      "cell_type": "markdown",
      "metadata": {
        "id": "1aTeu3lkt3ls"
      },
      "source": [
        "## Example 4 - The Clue game\n"
      ]
    },
    {
      "cell_type": "markdown",
      "metadata": {
        "id": "97-ThzlYhlj5"
      },
      "source": [
        "### Introduction\n",
        "Clue (or Cluedo) is a classic detective board game. In Clue, a murder was committed by a *person*, using a *tool* in a *location*, and players move from room to room in a mansion to solve a murder mystery.\n",
        "\n",
        "People, tools, and locations are represented by cards. One card of each category is picked at random and put in an envelope, and it is up to the participants to uncover who done it, with what, and where?.\n",
        "\n",
        "Players must move to a room and then make a suggestion against a character saying they did it in that room with a specific weapon. The player to the left must show one of any cards mentioned if in that player's hand. Through deductive reasoning each player must figure out which character, weapon, and location are in the secret file.\n",
        "\n",
        "To do this, each player must uncover what cards are in other players hands by making more and more suggestions. Once a player knows what cards the other players are holding, they will know what cards are in the secret file, and then make an accusation. If correct, the player wins, but if incorrect, the player must return the cards to the file without revealing them and may no longer make suggestions or accusations.\n",
        "\n",
        "We will use the Model Checking algorithm from before to uncover the mystery. In our model, we mark as True items that we know are related to the murder and False otherwise.\n",
        "\n",
        "For our purposes, suppose we have three people: *Mustard*, *Plum*, and *Scarlet*, three tools: *knife*, *revolver*, and *wrench*, and three locations: *ballroom*, *kitchen*, and *library*.\n",
        "\n",
        "### Step 1\n",
        "We can start creating our knowledge base by adding the rules of the game. We know for certain that one person is the murderer, that one tool was used, and that the murder happened in one location. This can be represented in propositional logic the following way:\n",
        "  \n",
        "(Mustard ∨ Plum ∨ Scarlet)\n",
        "\n",
        "(knife ∨ revolver ∨ wrench)\n",
        "\n",
        "(ballroom ∨ kitchen ∨ library)\n"
      ]
    },
    {
      "cell_type": "code",
      "execution_count": 33,
      "metadata": {
        "id": "cQ41uBdpPUQ-"
      },
      "outputs": [
        {
          "name": "stdout",
          "output_type": "stream",
          "text": [
            "Mustard: MAYBE\n",
            "Plum: MAYBE\n",
            "Scarlet: MAYBE\n",
            "ballroom: MAYBE\n",
            "kitchen: MAYBE\n",
            "library: MAYBE\n",
            "knife: MAYBE\n",
            "revolver: MAYBE\n",
            "wrench: MAYBE\n"
          ]
        }
      ],
      "source": [
        "mustard = Symbol(\"Mustard\")\n",
        "plum = Symbol(\"Plum\")\n",
        "scarlet = Symbol(\"Scarlet\")\n",
        "characters = [mustard, plum, scarlet]\n",
        "\n",
        "ballroom = Symbol(\"ballroom\")\n",
        "kitchen = Symbol(\"kitchen\")\n",
        "library = Symbol(\"library\")\n",
        "rooms = [ballroom, kitchen, library]\n",
        "\n",
        "knife = Symbol(\"knife\")\n",
        "revolver = Symbol(\"revolver\")\n",
        "wrench = Symbol(\"wrench\")\n",
        "weapons = [knife, revolver, wrench]\n",
        "\n",
        "symbols = characters + rooms + weapons\n",
        "\n",
        "# check for items (characters, rooms, weapons) that are related to the murder.\n",
        "def check_knowledge(knowledge):\n",
        "    for symbol in symbols:\n",
        "        if model_check(knowledge, symbol):\n",
        "            print(f\"{symbol}: YES\")\n",
        "        elif not model_check(knowledge, Not(symbol)):\n",
        "            print(f\"{symbol}: MAYBE\")\n",
        "\n",
        "# There must be a person, room, and weapon.\n",
        "knowledge = And(\n",
        "    Or(mustard, plum, scarlet),\n",
        "    Or(ballroom, kitchen, library),\n",
        "    Or(knife, revolver, wrench)\n",
        ")\n",
        "\n",
        "check_knowledge(knowledge)"
      ]
    },
    {
      "cell_type": "markdown",
      "metadata": {
        "id": "WK2nw5GJQpv4"
      },
      "source": [
        "### Step 2\n",
        "The game starts with each player seeing three cards: one person, one tool, and one location, thus knowing that they are not related to the murder. Players do not share the information that they saw in these cards.\n",
        "\n",
        "Suppose our player gets the cards of *Mustard*, *kitchen*, and *revolver*. Thus, we know that these are not related to the murder and we can add the following proposition to our KB:\n",
        "\n",
        "¬(Mustard)\n",
        "\n",
        "¬(kitchen)\n",
        "\n",
        "¬(revolver)"
      ]
    },
    {
      "cell_type": "code",
      "execution_count": 34,
      "metadata": {
        "id": "sBYQRJNXPmGp"
      },
      "outputs": [
        {
          "name": "stdout",
          "output_type": "stream",
          "text": [
            "Plum: MAYBE\n",
            "Scarlet: MAYBE\n",
            "ballroom: MAYBE\n",
            "library: MAYBE\n",
            "knife: MAYBE\n",
            "wrench: MAYBE\n"
          ]
        }
      ],
      "source": [
        "# Three initial cards\n",
        "knowledge.add(And(\n",
        "    Not(mustard), Not(kitchen), Not(revolver)\n",
        "))\n",
        "\n",
        "check_knowledge(knowledge)"
      ]
    },
    {
      "cell_type": "markdown",
      "metadata": {
        "id": "Pn-ZZnfKRYiK"
      },
      "source": [
        "### Step 3\n",
        "In other situations in the game, one can make a guess, suggesting one combination of person, tool and location.\n",
        "\n",
        "Suppose that the guess is that *Scarlet* used a *wrench* to commit the crime in the *library*. If this guess is wrong, then the following proposition can be deduced and added to the KB:\n",
        "\n",
        "(¬Scarlet ∨ ¬library ∨ ¬wrench)"
      ]
    },
    {
      "cell_type": "code",
      "execution_count": 35,
      "metadata": {
        "id": "m3Zfn2X3Smcs"
      },
      "outputs": [
        {
          "name": "stdout",
          "output_type": "stream",
          "text": [
            "Plum: MAYBE\n",
            "Scarlet: MAYBE\n",
            "ballroom: MAYBE\n",
            "library: MAYBE\n",
            "knife: MAYBE\n",
            "wrench: MAYBE\n"
          ]
        }
      ],
      "source": [
        "# Making a wrong guess\n",
        "knowledge.add(Or(\n",
        "    Not(scarlet), Not(library), Not(wrench)\n",
        "))\n",
        "\n",
        "check_knowledge(knowledge)"
      ]
    },
    {
      "cell_type": "markdown",
      "metadata": {
        "id": "Jf9lIcZfS4T8"
      },
      "source": [
        "### Step 4\n",
        "The game continues, and suppose that other players show us two cards: the *Plum* card and the *ballroom* card. Thus, we know that Mr *Plum* and the *ballroom* are not related to the murder. Then we can add the following proposition to our KB:\n",
        "\n",
        "¬(Plum)\n",
        "\n",
        "¬(ballroom)"
      ]
    },
    {
      "cell_type": "code",
      "execution_count": 36,
      "metadata": {
        "id": "Nn7FZIWeT6dE"
      },
      "outputs": [
        {
          "name": "stdout",
          "output_type": "stream",
          "text": [
            "Scarlet: YES\n",
            "library: YES\n",
            "knife: YES\n"
          ]
        }
      ],
      "source": [
        "# Known two cards\n",
        "knowledge.add(Not(plum))\n",
        "knowledge.add(Not(ballroom))\n",
        "\n",
        "check_knowledge(knowledge)"
      ]
    },
    {
      "cell_type": "markdown",
      "metadata": {
        "id": "aMYzhCdoUNu9"
      },
      "source": [
        "And now, using multiple previous pieces of data, we can deduce that *Scarlet* committed the murder with a *knife* in the *library*.\n",
        "\n",
        "We can conclude that the murderer is *Scarlet*, since it has to be one of *Mustard*, *Plum*, and *Scarlet*, and we have evidence that the first two are not the murdered.\n",
        "\n",
        "We can deduce that it’s the *library* because it has to be either the *ballroom*, the *kitchen*, or the *library*, and the first two were proven to not be the locations.\n",
        "\n",
        "However, when someone guessed *Scarlet*, *library*, *wrench*, the guess was false. Thus, at least one of the elements in this statement has to be false. Since we know both *Scarlet* and *library* to be true, we know that the *wrench* is the false part here.\n",
        "\n",
        "Since one of the three instruments has to be true, and it’s not the *wrench* nor the *revolver*, we can conclude that it is the *knife*."
      ]
    },
    {
      "cell_type": "markdown",
      "metadata": {
        "id": "nRDzXGOzX3iY"
      },
      "source": [
        "## Example 5 - The Mastermind game"
      ]
    },
    {
      "cell_type": "markdown",
      "metadata": {
        "id": "sxsOazcilWXr"
      },
      "source": [
        "### Introduction\n",
        "Another type of puzzle that can be solved using propositional logic is a Mastermind game.\n",
        "\n",
        "In this game, player one arranges colors in a certain order, and then player two has to guess this order.\n",
        "\n",
        "Each turn, player two makes a guess, and player one gives back a number, indicating how many colors player two got right.\n",
        "\n",
        "Let’s simulate a game with three colors. Suppose player two suggests the following ordering:"
      ]
    },
    {
      "cell_type": "markdown",
      "metadata": {
        "id": "_iI3FNVdlpDc"
      },
      "source": [
        "![mastermind01.png](data:image/png;base64,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)"
      ]
    },
    {
      "cell_type": "markdown",
      "metadata": {
        "id": "T7z4yrptm4E5"
      },
      "source": [
        "1.   In the first guess, the player two arranges three colors as GBR (Green Blue Red). The player one answers 0, thus the player two knows that there isn't any color which is in the correct position.\n",
        "2.   Based on this information, player two tries to switch the locations of two colors in the second guess, GRB. The player one answer 1, thus we know that one color is in the correct position, and the other two are in the wrong place.\n",
        "3.   The player two continue switching the locations of two colors in the third guess, BRG. The player one answer 0, which means no color is in the correct position. Through deductive reasoning, the player two will figure out the correct positions of the three colors.\n",
        "4.   The player two concludes the correct positions of three colors, GBR. The player one answer 3, and the game is over."
      ]
    },
    {
      "cell_type": "markdown",
      "metadata": {
        "id": "z2Q3JauYpah5"
      },
      "source": [
        "### Simulation\n",
        "Representing this game in propositional logic would require us to have (number of colors)² atomic propositions.\n",
        "\n",
        "So, in the case of three colors, we would have the propositions red0, red1, red2, blue0, blue1, blue2, green0, green1, green2 … standing for color and position.\n",
        "\n",
        "The next step would be representing the rules of the game in propositional logic (that there is only one color in each position and no colors repeat) and adding them to the KB.\n",
        "\n",
        "The final step would be adding all the clues that we have to the KB. In our case, we would add that, in the first guess, no position was right, and in the second guess, two positions were wrong and one was right. In the third guess, none was right.\n",
        "\n",
        "Using this knowledge, a Model Checking algorithm can give us the solution to the puzzle."
      ]
    },
    {
      "cell_type": "code",
      "execution_count": 37,
      "metadata": {
        "id": "MQTchxY0wB8P"
      },
      "outputs": [
        {
          "name": "stdout",
          "output_type": "stream",
          "text": [
            "red0: YES\n",
            "green1: YES\n",
            "blue2: YES\n"
          ]
        }
      ],
      "source": [
        "colors = [\"red\", \"blue\", \"green\"]\n",
        "\n",
        "# Create necessary symbols: red0, red1, red2, blue0, blue1, blue2\n",
        "# green0, green1, green2\n",
        "symbols = []\n",
        "for i in range(3):\n",
        "    for color in colors:\n",
        "        symbols.append(Symbol(f\"{color}{i}\"))\n",
        "\n",
        "knowledge = And()\n",
        "\n",
        "# Each color has a position.\n",
        "for color in colors:\n",
        "    knowledge.add(Or(\n",
        "        Symbol(f\"{color}0\"),\n",
        "        Symbol(f\"{color}1\"),\n",
        "        Symbol(f\"{color}2\"),\n",
        "    ))\n",
        "\n",
        "# Only one position per color, for example:\n",
        "# red0 -> Not(red1)\n",
        "# red0 -> Not(red2)\n",
        "for color in colors:\n",
        "    for i in range(3):\n",
        "        for j in range(3):\n",
        "            if i != j:\n",
        "                knowledge.add(Implication(\n",
        "                    Symbol(f\"{color}{i}\"), Not(Symbol(f\"{color}{j}\"))\n",
        "                ))\n",
        "\n",
        "# Only one color per position, for example:\n",
        "# red0 -> Not(blue0)\n",
        "# red0 -> Not(green0)\n",
        "for i in range(3):\n",
        "    for c1 in colors:\n",
        "        for c2 in colors:\n",
        "            if c1 != c2:\n",
        "                knowledge.add(Implication(\n",
        "                    Symbol(f\"{c1}{i}\"), Not(Symbol(f\"{c2}{i}\"))\n",
        "                ))\n",
        "\n",
        "# The first guess\n",
        "knowledge.add(And(\n",
        "    Not(Symbol(\"green0\")), Not(Symbol(\"blue1\")), Not(Symbol(\"red2\"))\n",
        "))\n",
        "\n",
        "# The second guess\n",
        "knowledge.add(Or(\n",
        "    And(Symbol(\"green0\"), Not(Symbol(\"red1\")), Not(Symbol(\"blue2\"))),\n",
        "    And(Symbol(\"red1\"), Not(Symbol(\"green0\")), Not(Symbol(\"blue2\"))),\n",
        "    And(Symbol(\"blue2\"), Not(Symbol(\"green0\")), Not(Symbol(\"red1\")))\n",
        "))\n",
        "\n",
        "# The third guess\n",
        "knowledge.add(And(\n",
        "    Not(Symbol(\"blue0\")), Not(Symbol(\"red1\")), Not(Symbol(\"green2\"))\n",
        "))\n",
        "\n",
        "check_knowledge(knowledge)"
      ]
    },
    {
      "cell_type": "markdown",
      "metadata": {
        "id": "JsI1xIpBBpmR"
      },
      "source": [
        "## Exercise 1\n"
      ]
    },
    {
      "cell_type": "markdown",
      "metadata": {
        "id": "P4w2-49UeFd6"
      },
      "source": [
        "Simulate the Clue game with four people: *Alice*, *Dave*, *Eddie*, and *Frida*; four tools: *rope*, *poison*, *bow*, and *dagger*; four locations: *garden*, *chamber*, *library* and *temple*.\n",
        "\n",
        "The following steps should be simulated:\n",
        "\n",
        "Step 1: Create knowledge base by adding the rules of the game\n",
        "\n",
        "(Alice ∨ Dave ∨ Eddie ∨ Frida)\n",
        "\n",
        "(rope ∨ poison ∨ bow ∨ dagger)\n",
        "\n",
        "(garden ∨ chamber ∨ library ∨ temple)\n",
        "\n",
        "Step 2: You gets three initial cards of: Dave, Libary, and Poison.\n",
        "\n",
        "Step 3: Some players make the following wrong guesses:\n",
        "\n",
        "*  *Alice* used a *rope* to commit the crime in the *garden*.\n",
        "*  *Eddie* used a *dagger* to commit the crime in the *temple*.\n",
        "*  *Frida* used a *bow* to commit the crime in the *garden*.\n",
        "*  *Frida* used a *rope* to commit the crime in the *temple*.\n",
        "*  *Eddie* used a *bow* to commit the crime in the *temple*.\n",
        "*  *Eddie* used a *bow* to commit the crime in the *chamber*.\n",
        "\n",
        "Step 4: Some players show the following cards: Alice, Dagger, Garden, Rope, Temple\n"
      ]
    },
    {
      "cell_type": "code",
      "execution_count": 38,
      "metadata": {
        "id": "8E6s5VffdyrQ"
      },
      "outputs": [
        {
          "name": "stdout",
          "output_type": "stream",
          "text": [
            "Alice: NO\n",
            "Dave: NO\n",
            "Eddie: NO\n",
            "Frida: YES\n",
            "garden: NO\n",
            "chamber: YES\n",
            "library: NO\n",
            "temple: NO\n",
            "rope: NO\n",
            "poison: NO\n",
            "bow: YES\n",
            "dagger: NO\n"
          ]
        }
      ],
      "source": [
        "# INSERT YOUR ANSWER HERE\n",
        "# Define characters, rooms, and weapons\n",
        "alice = Symbol(\"Alice\")\n",
        "dave = Symbol(\"Dave\")\n",
        "eddie = Symbol(\"Eddie\")\n",
        "frida = Symbol(\"Frida\")\n",
        "characters = [alice, dave, eddie, frida]\n",
        "\n",
        "rope = Symbol(\"rope\")\n",
        "poison = Symbol(\"poison\")\n",
        "bow = Symbol(\"bow\")\n",
        "dagger = Symbol(\"dagger\")\n",
        "weapons = [rope, poison, bow, dagger]\n",
        "\n",
        "garden = Symbol(\"garden\")\n",
        "chamber = Symbol(\"chamber\")\n",
        "library = Symbol(\"library\")\n",
        "temple = Symbol(\"temple\")\n",
        "rooms = [garden, chamber, library, temple]\n",
        "\n",
        "symbols = characters + rooms + weapons\n",
        "\n",
        "# check for items (characters, rooms, weapons) that are related to the murder.\n",
        "def check_knowledge(knowledge):\n",
        "    for symbol in symbols:\n",
        "        if model_check(knowledge, symbol):\n",
        "            print(f\"{symbol}: YES\")\n",
        "        elif model_check(knowledge, Not(symbol)):\n",
        "            print(f\"{symbol}: NO\")\n",
        "        else:\n",
        "            print(f\"{symbol}: MAYBE\")\n",
        "\n",
        "# Step 1: Create knowledge base with game rules\n",
        "knowledge = And(\n",
        "    Or(alice, dave, eddie, frida),\n",
        "    Or(rope, poison, bow, dagger),\n",
        "    Or(garden, chamber, library, temple)\n",
        ")\n",
        "\n",
        "# Step 2: Add initial cards (they are NOT the solution)\n",
        "knowledge.add(Not(dave))\n",
        "knowledge.add(Not(library))\n",
        "knowledge.add(Not(poison))\n",
        "\n",
        "# Step 3: Add wrong guesses\n",
        "# A wrong guess (A and B and C) means Not(And(A, B, C)), which is equivalent to Or(Not(A), Not(B), Not(C))\n",
        "knowledge.add(Or(Not(alice), Not(rope), Not(garden)))\n",
        "knowledge.add(Or(Not(eddie), Not(dagger), Not(temple)))\n",
        "knowledge.add(Or(Not(frida), Not(bow), Not(garden)))\n",
        "knowledge.add(Or(Not(frida), Not(rope), Not(temple)))\n",
        "knowledge.add(Or(Not(eddie), Not(bow), Not(temple)))\n",
        "knowledge.add(Or(Not(eddie), Not(bow), Not(chamber)))\n",
        "\n",
        "\n",
        "# Step 4: Add cards shown by other players (they are NOT the solution)\n",
        "knowledge.add(Not(alice))\n",
        "knowledge.add(Not(dagger))\n",
        "knowledge.add(Not(garden))\n",
        "knowledge.add(Not(rope))\n",
        "knowledge.add(Not(temple))\n",
        "\n",
        "# Check the final knowledge\n",
        "check_knowledge(knowledge)"
      ]
    },
    {
      "cell_type": "markdown",
      "metadata": {
        "id": "dnLvcLFytbZC"
      },
      "source": [
        "## Exercise 2"
      ]
    },
    {
      "cell_type": "markdown",
      "metadata": {
        "id": "53XS_Q1NeXpu"
      },
      "source": [
        "Simulate the Mastermind game with four colors. Suppose player two suggests the following ordering:"
      ]
    },
    {
      "cell_type": "markdown",
      "metadata": {
        "id": "aoUmWLuJ1hLD"
      },
      "source": [
        "![mastermind02.png](data:image/png;base64,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)"
      ]
    },
    {
      "cell_type": "code",
      "execution_count": 39,
      "metadata": {
        "id": "Ps6FTjFxd7UH"
      },
      "outputs": [
        {
          "name": "stdout",
          "output_type": "stream",
          "text": [
            "red0: YES\n",
            "blue0: YES\n",
            "green0: YES\n",
            "yellow0: YES\n",
            "red1: YES\n",
            "blue1: YES\n",
            "green1: YES\n",
            "yellow1: YES\n",
            "red2: YES\n",
            "blue2: YES\n",
            "green2: YES\n",
            "yellow2: YES\n",
            "red3: YES\n",
            "blue3: YES\n",
            "green3: YES\n",
            "yellow3: YES\n"
          ]
        }
      ],
      "source": [
        "# INSERT YOUR ANSWER HERE\n",
        "from itertools import combinations\n",
        "\n",
        "colors = [\"red\", \"blue\", \"green\", \"yellow\"]\n",
        "symbols = []\n",
        "for i in range(4):\n",
        "    for color in colors:\n",
        "        symbols.append(Symbol(f\"{color}{i}\"))\n",
        "\n",
        "knowledge = And()\n",
        "\n",
        "# Each color has a position.\n",
        "for color in colors:\n",
        "    knowledge.add(Or(\n",
        "        Symbol(f\"{color}0\"), Symbol(f\"{color}1\"),\n",
        "        Symbol(f\"{color}2\"), Symbol(f\"{color}3\")\n",
        "    ))\n",
        "\n",
        "# Only one position per color.\n",
        "for color in colors:\n",
        "    for i in range(4):\n",
        "        for j in range(4):\n",
        "            if i != j:\n",
        "                knowledge.add(Implication(\n",
        "                    Symbol(f\"{color}{i}\"), Not(Symbol(f\"{color}{j}\"))\n",
        "                ))\n",
        "\n",
        "# Only one color per position.\n",
        "for i in range(4):\n",
        "    for c1 in colors:\n",
        "        for c2 in colors:\n",
        "            if c1 != c2:\n",
        "                knowledge.add(Implication(\n",
        "                    Symbol(f\"{c1}{i}\"), Not(Symbol(f\"{c2}{i}\"))\n",
        "                ))\n",
        "\n",
        "# Helper function to add \"exactly N are correct\" knowledge\n",
        "def add_guess_knowledge(guess, n):\n",
        "    symbols_in_guess = [Symbol(f\"{color}{i}\") for i, color in enumerate(guess)]\n",
        "    \n",
        "    # Generate all combinations of n correct symbols\n",
        "    correct_combinations = list(combinations(symbols_in_guess, n))\n",
        "    \n",
        "    clauses = []\n",
        "    for correct_combo in correct_combinations:\n",
        "        # For this combination, these are true and the rest are false\n",
        "        clause = And()\n",
        "        for s in symbols_in_guess:\n",
        "            if s in correct_combo:\n",
        "                clause.add(s)\n",
        "            else:\n",
        "                clause.add(Not(s))\n",
        "        clauses.append(clause)\n",
        "    \n",
        "    # The overall knowledge is that one of these clauses must be true\n",
        "    knowledge.add(Or(*clauses))\n",
        "\n",
        "# Guess 1: RBYG -> 1 correct\n",
        "add_guess_knowledge([\"red\", \"blue\", \"yellow\", \"green\"], 1)\n",
        "\n",
        "# Guess 2: BGRY -> 2 correct\n",
        "add_guess_knowledge([\"blue\", \"green\", \"red\", \"yellow\"], 2)\n",
        "\n",
        "# Guess 3: GYRB -> 1 correct\n",
        "add_guess_knowledge([\"green\", \"yellow\", \"red\", \"blue\"], 1)\n",
        "\n",
        "\n",
        "def check_knowledge(knowledge):\n",
        "    for symbol in symbols:\n",
        "        if model_check(knowledge, symbol):\n",
        "            print(f\"{symbol}: YES\")\n",
        "\n",
        "check_knowledge(knowledge)"
      ]
    },
    {
      "cell_type": "markdown",
      "metadata": {
        "id": "HnV6Q01-2UCh"
      },
      "source": [
        "## Exercise 3\n"
      ]
    },
    {
      "cell_type": "markdown",
      "metadata": {
        "id": "kIK1J53qehw5"
      },
      "source": [
        "Construct a knowledge base and use the model checking on the knowledge base to solve the following logic puzzle.\n",
        "\n",
        "Four different people, *Gilderoy*, *Pomona*, *Minerva*, and *Horace*, are assigned to four different houses, *Gryffindor*, *Hufflepuff*, *Ravenclaw*, and *Slytherin*.\n",
        "\n",
        "There is exactly one person in each house, and the following propositions are correct:\n",
        "\n",
        "1.   *Ponoma* belongs to either the *Hufflepuff* or the *Slytherin* house\n",
        "2.   *Minerva* doesn't belong to the *Ravenclaw* house\n",
        "3.   *Horace* belongs to the *Slytherin* house\n",
        "\n",
        "Please answer the question: Who belongs to which house?"
      ]
    },
    {
      "cell_type": "code",
      "execution_count": 40,
      "metadata": {
        "id": "fNyT791yeeeM"
      },
      "outputs": [
        {
          "name": "stdout",
          "output_type": "stream",
          "text": [
            "Who belongs to which house?\n",
            "GilderoyRavenclaw: YES\n",
            "PomonaHufflepuff: YES\n",
            "MinervaGryffindor: YES\n",
            "HoraceSlytherin: YES\n"
          ]
        }
      ],
      "source": [
        "# INSERT YOUR ANSWER HERE\n",
        "people = [\"Gilderoy\", \"Pomona\", \"Minerva\", \"Horace\"]\n",
        "houses = [\"Gryffindor\", \"Hufflepuff\", \"Ravenclaw\", \"Slytherin\"]\n",
        "symbols = [Symbol(f\"{p}{h}\") for p in people for h in houses]\n",
        "\n",
        "knowledge = And()\n",
        "\n",
        "# Each person belongs to a house.\n",
        "for person in people:\n",
        "    knowledge.add(Or(\n",
        "        *[Symbol(f\"{person}{house}\") for house in houses]\n",
        "    ))\n",
        "\n",
        "# Only one house per person.\n",
        "for person in people:\n",
        "    for h1 in houses:\n",
        "        for h2 in houses:\n",
        "            if h1 != h2:\n",
        "                knowledge.add(Implication(\n",
        "                    Symbol(f\"{person}{h1}\"), Not(Symbol(f\"{person}{h2}\"))\n",
        "                ))\n",
        "\n",
        "# Only one person per house.\n",
        "for house in houses:\n",
        "    for p1 in people:\n",
        "        for p2 in people:\n",
        "            if p1 != p2:\n",
        "                knowledge.add(Implication(\n",
        "                    Symbol(f\"{p1}{house}\"), Not(Symbol(f\"{p2}{house}\"))\n",
        "                ))\n",
        "\n",
        "# Clues\n",
        "# 1. Pomona belongs to either Hufflepuff or Slytherin\n",
        "knowledge.add(Or(Symbol(\"PomonaHufflepuff\"), Symbol(\"PomonaSlytherin\")))\n",
        "\n",
        "# 2. Minerva doesn't belong to Ravenclaw\n",
        "knowledge.add(Not(Symbol(\"MinervaRavenclaw\")))\n",
        "\n",
        "# 3. Horace belongs to Slytherin\n",
        "knowledge.add(Symbol(\"HoraceSlytherin\"))\n",
        "\n",
        "\n",
        "def check_knowledge(knowledge):\n",
        "    for symbol in symbols:\n",
        "        if model_check(knowledge, symbol):\n",
        "            print(f\"{symbol}: YES\")\n",
        "\n",
        "print(\"Who belongs to which house?\")\n",
        "check_knowledge(knowledge)"
      ]
    }
  ],
  "metadata": {
    "colab": {
      "collapsed_sections": [
        "kDd-jnFWaczi"
      ],
      "provenance": []
    },
    "kernelspec": {
      "display_name": ".venv",
      "language": "python",
      "name": "python3"
    },
    "language_info": {
      "codemirror_mode": {
        "name": "ipython",
        "version": 3
      },
      "file_extension": ".py",
      "mimetype": "text/x-python",
      "name": "python",
      "nbconvert_exporter": "python",
      "pygments_lexer": "ipython3",
      "version": "3.12.3"
    }
  },
  "nbformat": 4,
  "nbformat_minor": 0
}
