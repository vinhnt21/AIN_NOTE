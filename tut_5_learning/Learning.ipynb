{
  "cells": [
    {
      "cell_type": "markdown",
      "metadata": {
        "id": "HL7IVoNcIhXn"
      },
      "source": [
        "# Machine learning with Scikit-learn\n",
        "\n",
        "Scikit-learn is an open source machine learning library that supports supervised and unsupervised machine learning.\n",
        "\n",
        "It also provides various tools for model fitting, data preprocessing, model selection, model evaluation, and many other utilities.\n",
        "\n",
        "In this tutorial section, we will perform simple supervised machine learning tasks using scikit-learn:\n",
        "\n",
        "* Inspecting dataset using pandas and seaborn packages\n",
        "* Peform classification with algorithms like K-Nearest Neighbor, Perceptron and Support Vector Machine from the scikit-learn.\n",
        "* Evaluate a machine learning model\n"
      ]
    },
    {
      "cell_type": "markdown",
      "metadata": {
        "id": "fbSgrLYoJNwW"
      },
      "source": [
        "# Working with the Penguin Dataset\n",
        "The palmerpenguins data contains size measurements for three penguin species observed on three islands in the Palmer Archipelago, Antarctica.\n",
        "\n",
        "We will use a subset of the original Penguin dataset. In this set, the physical attributes measured are bill length and flipper length of three Penguin species: Adelie, Chinstrap and Gentoo.\n",
        "\n",
        "The subset (**penguins.csv**) can be downloaded from the following link:\n",
        "\n",
        "[https://drive.google.com/file/d/1hEi1VYWNkE1F_DJP2oroafDSKWM-F6xB/view?usp=sharing](https://drive.google.com/file/d/1hEi1VYWNkE1F_DJP2oroafDSKWM-F6xB/view?usp=sharing)\n"
      ]
    },
    {
      "cell_type": "markdown",
      "metadata": {
        "id": "VELCS3BV9h0Z"
      },
      "source": [
        "## Data inspection\n",
        "Data inspection is an important and necessary step in machine learning because it allows data scientists to understand the characteristics of their data and identify potential problems or issues with it.\n",
        "By carefully inspecting the data, data scientists can ensure that the data is accurate, complete, and most importantly relevant to the problem they are trying to solve.\n",
        "For our data inspection, we will be using the following packages:\n",
        "\n",
        "1.   Pandas, which is a standard data analysis package\n",
        "2.   Seaborn, which can help us create beautiful visualizations of our data\n",
        "\n",
        "We can import the packages as follows:"
      ]
    },
    {
      "cell_type": "code",
      "execution_count": 34,
      "metadata": {},
      "outputs": [
        {
          "name": "stdout",
          "output_type": "stream",
          "text": [
            "Requirement already satisfied: pandas in /media/vinhnt21/Vinh/Work/HANU/TA_AIN/.venv/lib/python3.12/site-packages (2.3.3)\n",
            "Requirement already satisfied: seaborn in /media/vinhnt21/Vinh/Work/HANU/TA_AIN/.venv/lib/python3.12/site-packages (0.13.2)\n",
            "Requirement already satisfied: numpy>=1.26.0 in /media/vinhnt21/Vinh/Work/HANU/TA_AIN/.venv/lib/python3.12/site-packages (from pandas) (2.3.3)\n",
            "Requirement already satisfied: python-dateutil>=2.8.2 in /media/vinhnt21/Vinh/Work/HANU/TA_AIN/.venv/lib/python3.12/site-packages (from pandas) (2.9.0.post0)\n",
            "Requirement already satisfied: pytz>=2020.1 in /media/vinhnt21/Vinh/Work/HANU/TA_AIN/.venv/lib/python3.12/site-packages (from pandas) (2025.2)\n",
            "Requirement already satisfied: tzdata>=2022.7 in /media/vinhnt21/Vinh/Work/HANU/TA_AIN/.venv/lib/python3.12/site-packages (from pandas) (2025.2)\n",
            "Requirement already satisfied: matplotlib!=3.6.1,>=3.4 in /media/vinhnt21/Vinh/Work/HANU/TA_AIN/.venv/lib/python3.12/site-packages (from seaborn) (3.10.6)\n",
            "Requirement already satisfied: contourpy>=1.0.1 in /media/vinhnt21/Vinh/Work/HANU/TA_AIN/.venv/lib/python3.12/site-packages (from matplotlib!=3.6.1,>=3.4->seaborn) (1.3.3)\n",
            "Requirement already satisfied: cycler>=0.10 in /media/vinhnt21/Vinh/Work/HANU/TA_AIN/.venv/lib/python3.12/site-packages (from matplotlib!=3.6.1,>=3.4->seaborn) (0.12.1)\n",
            "Requirement already satisfied: fonttools>=4.22.0 in /media/vinhnt21/Vinh/Work/HANU/TA_AIN/.venv/lib/python3.12/site-packages (from matplotlib!=3.6.1,>=3.4->seaborn) (4.60.1)\n",
            "Requirement already satisfied: kiwisolver>=1.3.1 in /media/vinhnt21/Vinh/Work/HANU/TA_AIN/.venv/lib/python3.12/site-packages (from matplotlib!=3.6.1,>=3.4->seaborn) (1.4.9)\n",
            "Requirement already satisfied: packaging>=20.0 in /media/vinhnt21/Vinh/Work/HANU/TA_AIN/.venv/lib/python3.12/site-packages (from matplotlib!=3.6.1,>=3.4->seaborn) (25.0)\n",
            "Requirement already satisfied: pillow>=8 in /media/vinhnt21/Vinh/Work/HANU/TA_AIN/.venv/lib/python3.12/site-packages (from matplotlib!=3.6.1,>=3.4->seaborn) (11.3.0)\n",
            "Requirement already satisfied: pyparsing>=2.3.1 in /media/vinhnt21/Vinh/Work/HANU/TA_AIN/.venv/lib/python3.12/site-packages (from matplotlib!=3.6.1,>=3.4->seaborn) (3.2.5)\n",
            "Requirement already satisfied: six>=1.5 in /media/vinhnt21/Vinh/Work/HANU/TA_AIN/.venv/lib/python3.12/site-packages (from python-dateutil>=2.8.2->pandas) (1.17.0)\n"
          ]
        }
      ],
      "source": [
        "! pip install pandas seaborn"
      ]
    },
    {
      "cell_type": "code",
      "execution_count": 35,
      "metadata": {
        "id": "otXv-rPr-ZZW"
      },
      "outputs": [],
      "source": [
        "import pandas as pd\n",
        "import seaborn as sns"
      ]
    },
    {
      "cell_type": "markdown",
      "metadata": {
        "id": "88K62wvb2li9"
      },
      "source": [
        "## Load the dataset\n",
        "To load the data, we need to use the appropriate command depending on the type of data file we have.\n",
        "\n",
        "For example, if we have a CSV file, we can load it using the `read_csv()` method from Pandas, like this:"
      ]
    },
    {
      "cell_type": "code",
      "execution_count": 36,
      "metadata": {
        "colab": {
          "base_uri": "https://localhost:8080/",
          "height": 287
        },
        "id": "5x3mMmgUQvLd",
        "outputId": "29cf5b66-ac93-485a-a22b-724ba1f4c693"
      },
      "outputs": [],
      "source": [
        "data = pd.read_csv('penguins.csv')"
      ]
    },
    {
      "cell_type": "markdown",
      "metadata": {
        "id": "8DwTlH142_Zs"
      },
      "source": [
        "## Basic info about data\n",
        "\n",
        "To get basic information about the data, we can use the `info()` method from Pandas.\n",
        "\n",
        "This will print out a range of information about the data, including the number of entries and columns, the data types of each column, and the number of non-null entries.\n",
        "\n",
        "This information is useful for understanding the general structure of the data and for identifying potential issues or inconsistencies that need to be addressed. The following information is then shown:"
      ]
    },
    {
      "cell_type": "code",
      "execution_count": 37,
      "metadata": {
        "id": "ploRRVzz_L9S"
      },
      "outputs": [
        {
          "name": "stdout",
          "output_type": "stream",
          "text": [
            "<class 'pandas.core.frame.DataFrame'>\n",
            "RangeIndex: 344 entries, 0 to 343\n",
            "Data columns (total 3 columns):\n",
            " #   Column             Non-Null Count  Dtype  \n",
            "---  ------             --------------  -----  \n",
            " 0   species            344 non-null    object \n",
            " 1   bill_length_mm     342 non-null    float64\n",
            " 2   flipper_length_mm  342 non-null    float64\n",
            "dtypes: float64(2), object(1)\n",
            "memory usage: 8.2+ KB\n"
          ]
        }
      ],
      "source": [
        "data.info()"
      ]
    },
    {
      "cell_type": "markdown",
      "metadata": {
        "id": "Uc1P1voK_w7h"
      },
      "source": [
        "### First look at data\n",
        "To get a first look at the data, we can use the `head()` and `tail()` methods from Pandas.\n",
        "\n",
        "Pandas `shape` property returns a tuple containing the number of rows and columns of the dataframe.\n",
        "\n",
        "Or you can print the data to see an overview of your data."
      ]
    },
    {
      "cell_type": "markdown",
      "metadata": {
        "id": "AZMBScb8AYic"
      },
      "source": [
        "Using Pandas `head()` method:"
      ]
    },
    {
      "cell_type": "code",
      "execution_count": 38,
      "metadata": {
        "id": "MEo-yTIN3sUX"
      },
      "outputs": [
        {
          "data": {
            "text/html": [
              "<div>\n",
              "<style scoped>\n",
              "    .dataframe tbody tr th:only-of-type {\n",
              "        vertical-align: middle;\n",
              "    }\n",
              "\n",
              "    .dataframe tbody tr th {\n",
              "        vertical-align: top;\n",
              "    }\n",
              "\n",
              "    .dataframe thead th {\n",
              "        text-align: right;\n",
              "    }\n",
              "</style>\n",
              "<table border=\"1\" class=\"dataframe\">\n",
              "  <thead>\n",
              "    <tr style=\"text-align: right;\">\n",
              "      <th></th>\n",
              "      <th>species</th>\n",
              "      <th>bill_length_mm</th>\n",
              "      <th>flipper_length_mm</th>\n",
              "    </tr>\n",
              "  </thead>\n",
              "  <tbody>\n",
              "    <tr>\n",
              "      <th>0</th>\n",
              "      <td>Adelie</td>\n",
              "      <td>39.1</td>\n",
              "      <td>181.0</td>\n",
              "    </tr>\n",
              "    <tr>\n",
              "      <th>1</th>\n",
              "      <td>Adelie</td>\n",
              "      <td>39.5</td>\n",
              "      <td>186.0</td>\n",
              "    </tr>\n",
              "    <tr>\n",
              "      <th>2</th>\n",
              "      <td>Adelie</td>\n",
              "      <td>40.3</td>\n",
              "      <td>195.0</td>\n",
              "    </tr>\n",
              "    <tr>\n",
              "      <th>3</th>\n",
              "      <td>Adelie</td>\n",
              "      <td>NaN</td>\n",
              "      <td>NaN</td>\n",
              "    </tr>\n",
              "    <tr>\n",
              "      <th>4</th>\n",
              "      <td>Adelie</td>\n",
              "      <td>36.7</td>\n",
              "      <td>193.0</td>\n",
              "    </tr>\n",
              "  </tbody>\n",
              "</table>\n",
              "</div>"
            ],
            "text/plain": [
              "  species  bill_length_mm  flipper_length_mm\n",
              "0  Adelie            39.1              181.0\n",
              "1  Adelie            39.5              186.0\n",
              "2  Adelie            40.3              195.0\n",
              "3  Adelie             NaN                NaN\n",
              "4  Adelie            36.7              193.0"
            ]
          },
          "execution_count": 38,
          "metadata": {},
          "output_type": "execute_result"
        }
      ],
      "source": [
        "data.head()"
      ]
    },
    {
      "cell_type": "markdown",
      "metadata": {
        "id": "_CNDX1hHAe2-"
      },
      "source": [
        "Using Pandas `tail()` method:"
      ]
    },
    {
      "cell_type": "code",
      "execution_count": 39,
      "metadata": {
        "id": "TVCHCAY0Aiy8"
      },
      "outputs": [
        {
          "data": {
            "text/html": [
              "<div>\n",
              "<style scoped>\n",
              "    .dataframe tbody tr th:only-of-type {\n",
              "        vertical-align: middle;\n",
              "    }\n",
              "\n",
              "    .dataframe tbody tr th {\n",
              "        vertical-align: top;\n",
              "    }\n",
              "\n",
              "    .dataframe thead th {\n",
              "        text-align: right;\n",
              "    }\n",
              "</style>\n",
              "<table border=\"1\" class=\"dataframe\">\n",
              "  <thead>\n",
              "    <tr style=\"text-align: right;\">\n",
              "      <th></th>\n",
              "      <th>species</th>\n",
              "      <th>bill_length_mm</th>\n",
              "      <th>flipper_length_mm</th>\n",
              "    </tr>\n",
              "  </thead>\n",
              "  <tbody>\n",
              "    <tr>\n",
              "      <th>339</th>\n",
              "      <td>Gentoo</td>\n",
              "      <td>NaN</td>\n",
              "      <td>NaN</td>\n",
              "    </tr>\n",
              "    <tr>\n",
              "      <th>340</th>\n",
              "      <td>Gentoo</td>\n",
              "      <td>46.8</td>\n",
              "      <td>215.0</td>\n",
              "    </tr>\n",
              "    <tr>\n",
              "      <th>341</th>\n",
              "      <td>Gentoo</td>\n",
              "      <td>50.4</td>\n",
              "      <td>222.0</td>\n",
              "    </tr>\n",
              "    <tr>\n",
              "      <th>342</th>\n",
              "      <td>Gentoo</td>\n",
              "      <td>45.2</td>\n",
              "      <td>212.0</td>\n",
              "    </tr>\n",
              "    <tr>\n",
              "      <th>343</th>\n",
              "      <td>Gentoo</td>\n",
              "      <td>49.9</td>\n",
              "      <td>213.0</td>\n",
              "    </tr>\n",
              "  </tbody>\n",
              "</table>\n",
              "</div>"
            ],
            "text/plain": [
              "    species  bill_length_mm  flipper_length_mm\n",
              "339  Gentoo             NaN                NaN\n",
              "340  Gentoo            46.8              215.0\n",
              "341  Gentoo            50.4              222.0\n",
              "342  Gentoo            45.2              212.0\n",
              "343  Gentoo            49.9              213.0"
            ]
          },
          "execution_count": 39,
          "metadata": {},
          "output_type": "execute_result"
        }
      ],
      "source": [
        "data.tail()"
      ]
    },
    {
      "cell_type": "markdown",
      "metadata": {
        "id": "pFvgwl5o3x3A"
      },
      "source": [
        "Pandas `shape` property returns a tuple containing the number of rows and columns of the dataframe:"
      ]
    },
    {
      "cell_type": "code",
      "execution_count": 40,
      "metadata": {
        "id": "OpaW9_t43yW-"
      },
      "outputs": [
        {
          "data": {
            "text/plain": [
              "(344, 3)"
            ]
          },
          "execution_count": 40,
          "metadata": {},
          "output_type": "execute_result"
        }
      ],
      "source": [
        "data.shape"
      ]
    },
    {
      "cell_type": "markdown",
      "metadata": {
        "id": "7Vi3cpbl4jcK"
      },
      "source": [
        "Or we can print the dataframe to see an overview of the data:"
      ]
    },
    {
      "cell_type": "code",
      "execution_count": 41,
      "metadata": {
        "id": "sIR9ZpVo4Wgj"
      },
      "outputs": [
        {
          "name": "stdout",
          "output_type": "stream",
          "text": [
            "    species  bill_length_mm  flipper_length_mm\n",
            "0    Adelie            39.1              181.0\n",
            "1    Adelie            39.5              186.0\n",
            "2    Adelie            40.3              195.0\n",
            "3    Adelie             NaN                NaN\n",
            "4    Adelie            36.7              193.0\n",
            "..      ...             ...                ...\n",
            "339  Gentoo             NaN                NaN\n",
            "340  Gentoo            46.8              215.0\n",
            "341  Gentoo            50.4              222.0\n",
            "342  Gentoo            45.2              212.0\n",
            "343  Gentoo            49.9              213.0\n",
            "\n",
            "[344 rows x 3 columns]\n"
          ]
        }
      ],
      "source": [
        "print(data)"
      ]
    },
    {
      "cell_type": "markdown",
      "metadata": {
        "id": "mJxSKju3A6b0"
      },
      "source": [
        "To get a descriptive statistical overview of the data, we can use the `described()` method from Pandas, like this:"
      ]
    },
    {
      "cell_type": "code",
      "execution_count": 42,
      "metadata": {
        "id": "XTrW0uvyA7ik"
      },
      "outputs": [
        {
          "data": {
            "text/html": [
              "<div>\n",
              "<style scoped>\n",
              "    .dataframe tbody tr th:only-of-type {\n",
              "        vertical-align: middle;\n",
              "    }\n",
              "\n",
              "    .dataframe tbody tr th {\n",
              "        vertical-align: top;\n",
              "    }\n",
              "\n",
              "    .dataframe thead th {\n",
              "        text-align: right;\n",
              "    }\n",
              "</style>\n",
              "<table border=\"1\" class=\"dataframe\">\n",
              "  <thead>\n",
              "    <tr style=\"text-align: right;\">\n",
              "      <th></th>\n",
              "      <th>bill_length_mm</th>\n",
              "      <th>flipper_length_mm</th>\n",
              "    </tr>\n",
              "  </thead>\n",
              "  <tbody>\n",
              "    <tr>\n",
              "      <th>count</th>\n",
              "      <td>342.000000</td>\n",
              "      <td>342.000000</td>\n",
              "    </tr>\n",
              "    <tr>\n",
              "      <th>mean</th>\n",
              "      <td>43.921930</td>\n",
              "      <td>200.915205</td>\n",
              "    </tr>\n",
              "    <tr>\n",
              "      <th>std</th>\n",
              "      <td>5.459584</td>\n",
              "      <td>14.061714</td>\n",
              "    </tr>\n",
              "    <tr>\n",
              "      <th>min</th>\n",
              "      <td>32.100000</td>\n",
              "      <td>172.000000</td>\n",
              "    </tr>\n",
              "    <tr>\n",
              "      <th>25%</th>\n",
              "      <td>39.225000</td>\n",
              "      <td>190.000000</td>\n",
              "    </tr>\n",
              "    <tr>\n",
              "      <th>50%</th>\n",
              "      <td>44.450000</td>\n",
              "      <td>197.000000</td>\n",
              "    </tr>\n",
              "    <tr>\n",
              "      <th>75%</th>\n",
              "      <td>48.500000</td>\n",
              "      <td>213.000000</td>\n",
              "    </tr>\n",
              "    <tr>\n",
              "      <th>max</th>\n",
              "      <td>59.600000</td>\n",
              "      <td>231.000000</td>\n",
              "    </tr>\n",
              "  </tbody>\n",
              "</table>\n",
              "</div>"
            ],
            "text/plain": [
              "       bill_length_mm  flipper_length_mm\n",
              "count      342.000000         342.000000\n",
              "mean        43.921930         200.915205\n",
              "std          5.459584          14.061714\n",
              "min         32.100000         172.000000\n",
              "25%         39.225000         190.000000\n",
              "50%         44.450000         197.000000\n",
              "75%         48.500000         213.000000\n",
              "max         59.600000         231.000000"
            ]
          },
          "execution_count": 42,
          "metadata": {},
          "output_type": "execute_result"
        }
      ],
      "source": [
        "data.describe()"
      ]
    },
    {
      "cell_type": "markdown",
      "metadata": {
        "id": "2AJgQPdh5MuF"
      },
      "source": [
        "## Check for missing values and duplicate rows\n",
        "We notice that there are some rows that don't have any value for `bill_length_mm` or `flipper_length_mm` columns.\n",
        "\n",
        "To check if the data has any missing values, we can use the `isnull()` and `sum()` methods from Pandas, like this:"
      ]
    },
    {
      "cell_type": "code",
      "execution_count": 43,
      "metadata": {
        "id": "0cK3g-yBBu3_"
      },
      "outputs": [
        {
          "name": "stdout",
          "output_type": "stream",
          "text": [
            "species              0\n",
            "bill_length_mm       2\n",
            "flipper_length_mm    2\n",
            "dtype: int64\n"
          ]
        }
      ],
      "source": [
        "print(data.isnull().sum())"
      ]
    },
    {
      "cell_type": "markdown",
      "metadata": {
        "id": "Es1rdCJLBw3y"
      },
      "source": [
        "In general, we couldn't work with rows that have some missing values. So we will remove all missing-value rows using `dropna(ignore_index=True)` method:"
      ]
    },
    {
      "cell_type": "code",
      "execution_count": 44,
      "metadata": {
        "id": "XxLL8U8GQ5hV"
      },
      "outputs": [
        {
          "name": "stdout",
          "output_type": "stream",
          "text": [
            "    species  bill_length_mm  flipper_length_mm\n",
            "0    Adelie            39.1              181.0\n",
            "1    Adelie            39.5              186.0\n",
            "2    Adelie            40.3              195.0\n",
            "3    Adelie            36.7              193.0\n",
            "4    Adelie            39.3              190.0\n",
            "..      ...             ...                ...\n",
            "337  Gentoo            47.2              214.0\n",
            "338  Gentoo            46.8              215.0\n",
            "339  Gentoo            50.4              222.0\n",
            "340  Gentoo            45.2              212.0\n",
            "341  Gentoo            49.9              213.0\n",
            "\n",
            "[342 rows x 3 columns]\n"
          ]
        }
      ],
      "source": [
        "data = data.dropna(ignore_index=True)\n",
        "print(data)"
      ]
    },
    {
      "cell_type": "markdown",
      "metadata": {
        "id": "rJdgekC_CkH6"
      },
      "source": [
        "To check if there are duplicate entries in the data, we can use the `duplicated()` method from Pandas.\n",
        "\n",
        "This will return a `True` value for each row that is a duplicate of another row, and a `False` value for each unique row.\n",
        "\n",
        "If there are any duplicate entries in the data, we can remove them using the `drop_duplicates(ignore_index=True)` method."
      ]
    },
    {
      "cell_type": "code",
      "execution_count": 45,
      "metadata": {
        "id": "KIFtXPRSCzz8"
      },
      "outputs": [
        {
          "name": "stdout",
          "output_type": "stream",
          "text": [
            "0      False\n",
            "1      False\n",
            "2      False\n",
            "3      False\n",
            "4      False\n",
            "       ...  \n",
            "337    False\n",
            "338     True\n",
            "339    False\n",
            "340    False\n",
            "341    False\n",
            "Length: 342, dtype: bool\n"
          ]
        }
      ],
      "source": [
        "print(data.duplicated())"
      ]
    },
    {
      "cell_type": "markdown",
      "metadata": {
        "id": "H0zoGHwR5w8H"
      },
      "source": [
        "## Short introduction to data visualization\n",
        "Data visualization can be a powerful tool for inspecting data and identifying patterns, trends, and anomalies.\n",
        "\n",
        "It allows you to quickly and easily explore the data, and get insights that might not be immediately obvious when looking at the raw data.\n",
        "\n",
        "In this section, we will work with the histogram and scatterplot."
      ]
    },
    {
      "cell_type": "markdown",
      "metadata": {
        "id": "zJZX6mL9DzzA"
      },
      "source": [
        "### Histogram\n",
        "\n",
        "Histograms are a type of graphical representation that shows the distribution of a dataset.\n",
        "\n",
        "They are particularly useful for understanding the shape of a distribution and identifying patterns, trends, and anomalies in the data.\n",
        "\n",
        "In the following, we will plot a histogram to compare the number of penguins in each species using Seaborn `histplot()` method:"
      ]
    },
    {
      "cell_type": "code",
      "execution_count": 46,
      "metadata": {
        "id": "QNStXDWEE5r0"
      },
      "outputs": [
        {
          "data": {
            "text/plain": [
              "<Axes: xlabel='species', ylabel='Count'>"
            ]
          },
          "execution_count": 46,
          "metadata": {},
          "output_type": "execute_result"
        },
        {
          "data": {
            "image/png": "[encoded data removed]",
            "text/plain": [
              "<Figure size 640x480 with 1 Axes>"
            ]
          },
          "metadata": {},
          "output_type": "display_data"
        }
      ],
      "source": [
        "sns.histplot(data=data, x=\"species\", hue=\"species\", shrink=0.8)"
      ]
    },
    {
      "cell_type": "markdown",
      "metadata": {
        "id": "R0OoGI0_8Z7n"
      },
      "source": [
        "### Scatterplot\n",
        "\n",
        "A scatter plot (aka scatter chart, scatter graph) uses dots to represent values for two different numeric variables.\n",
        "\n",
        "The position of each dot on the horizontal and vertical axis indicates values for an individual data point.\n",
        "\n",
        "Scatter plots are used to observe relationships between variables.\n",
        "\n",
        "In the following, In the following, we will create a scatter plot to observe the relationships between bill length and flipper length of penguins in each species using Seaborn `scatterplot()` method.\n",
        "\n",
        "The scatter plot suggests that we can use bill length and flipper length together to classify a penguin into its species."
      ]
    },
    {
      "cell_type": "code",
      "execution_count": 47,
      "metadata": {
        "id": "di9RY7b28kIW"
      },
      "outputs": [
        {
          "data": {
            "text/plain": [
              "<Axes: xlabel='flipper_length_mm', ylabel='bill_length_mm'>"
            ]
          },
          "execution_count": 47,
          "metadata": {},
          "output_type": "execute_result"
        },
        {
          "data": {
            "image/png": "[encoded data removed]",
            "text/plain": [
              "<Figure size 640x480 with 1 Axes>"
            ]
          },
          "metadata": {},
          "output_type": "display_data"
        }
      ],
      "source": [
        "sns.scatterplot(data=data, x=\"flipper_length_mm\", y=\"bill_length_mm\", hue=\"species\")"
      ]
    },
    {
      "cell_type": "markdown",
      "metadata": {
        "id": "yZenAp0AV_oX"
      },
      "source": [
        "# Working with scikit-learn\n",
        "In this section, we will discuss how to utilize the scikit-learn package to perform a classification task.\n",
        "\n",
        "Based on the scatter plot above, it appears that bill length and flipper length can help classify a penguin into its respective species.\n",
        "\n",
        "We will begin with data preparation:"
      ]
    },
    {
      "cell_type": "markdown",
      "metadata": {
        "id": "N_T26IZuiAAi"
      },
      "source": [
        "## Data preparation\n",
        "We will create `evidence` and `labels` lists:\n",
        "*   `evidence` should be a list of all of the evidence for each of the data points\n",
        "*   `labels` should be a list of all of the labels for each data point\n",
        "\n",
        "The `evidence` contains bill and flipper length. The values are extracted from the columns `bill_length_mm` and `flipper_length_mm` from the `data` Dataframe.\n",
        "\n",
        "The `labels` contains the values of the column `species` from the `data` Dataframe.\n",
        "\n",
        "The `to_numpy()` could be used to convert a dataframe to a numpy array."
      ]
    },
    {
      "cell_type": "code",
      "execution_count": 48,
      "metadata": {
        "id": "UrYqAxuMWGDw"
      },
      "outputs": [
        {
          "name": "stdout",
          "output_type": "stream",
          "text": [
            "    species  bill_length_mm  flipper_length_mm\n",
            "0    Adelie            39.1              181.0\n",
            "1    Adelie            39.5              186.0\n",
            "2    Adelie            40.3              195.0\n",
            "3    Adelie            36.7              193.0\n",
            "4    Adelie            39.3              190.0\n",
            "..      ...             ...                ...\n",
            "337  Gentoo            47.2              214.0\n",
            "338  Gentoo            46.8              215.0\n",
            "339  Gentoo            50.4              222.0\n",
            "340  Gentoo            45.2              212.0\n",
            "341  Gentoo            49.9              213.0\n",
            "\n",
            "[342 rows x 3 columns]\n"
          ]
        }
      ],
      "source": [
        "print(data)"
      ]
    },
    {
      "cell_type": "code",
      "execution_count": 49,
      "metadata": {
        "id": "59N54GqJXRS5"
      },
      "outputs": [
        {
          "name": "stdout",
          "output_type": "stream",
          "text": [
            "(342, 2)\n"
          ]
        }
      ],
      "source": [
        "evidence = data[['bill_length_mm','flipper_length_mm']].to_numpy()\n",
        "print(evidence.shape)"
      ]
    },
    {
      "cell_type": "code",
      "execution_count": 50,
      "metadata": {
        "id": "nipKinIwZnz9"
      },
      "outputs": [
        {
          "name": "stdout",
          "output_type": "stream",
          "text": [
            "(342,)\n"
          ]
        }
      ],
      "source": [
        "labels = data['species'].to_numpy()\n",
        "print(labels.shape)"
      ]
    },
    {
      "cell_type": "markdown",
      "metadata": {
        "id": "MqxsJ5pQlLJQ"
      },
      "source": [
        "## Train Test Splitting\n",
        "We have divided our data into `evidence` (`features` or X) and `labels` (`targets` or y).\n",
        "\n",
        "Now we continue dividing the data into `X_train`, `X_test`, `y_train` and `y_test`.\n",
        "\n",
        "The `X_train` and `y_train` sets are used for training and fitting the model.\n",
        "\n",
        "The `X_test` and `y_test` sets are used for testing the model if it’s predicting the right outputs/labels.\n",
        "\n",
        "The `train_test_split()` method is used to split our data into the train and test sets.\n",
        "\n",
        "The data will be shuffled by default before splitting. We can explicitly test the size of the train and test sets. It is suggested to keep our train sets larger than the test sets.\n"
      ]
    },
    {
      "cell_type": "code",
      "execution_count": 51,
      "metadata": {},
      "outputs": [
        {
          "name": "stdout",
          "output_type": "stream",
          "text": [
            "Requirement already satisfied: scikit-learn in /media/vinhnt21/Vinh/Work/HANU/TA_AIN/.venv/lib/python3.12/site-packages (1.7.2)\n",
            "Requirement already satisfied: numpy>=1.22.0 in /media/vinhnt21/Vinh/Work/HANU/TA_AIN/.venv/lib/python3.12/site-packages (from scikit-learn) (2.3.3)\n",
            "Requirement already satisfied: scipy>=1.8.0 in /media/vinhnt21/Vinh/Work/HANU/TA_AIN/.venv/lib/python3.12/site-packages (from scikit-learn) (1.16.2)\n",
            "Requirement already satisfied: joblib>=1.2.0 in /media/vinhnt21/Vinh/Work/HANU/TA_AIN/.venv/lib/python3.12/site-packages (from scikit-learn) (1.5.2)\n",
            "Requirement already satisfied: threadpoolctl>=3.1.0 in /media/vinhnt21/Vinh/Work/HANU/TA_AIN/.venv/lib/python3.12/site-packages (from scikit-learn) (3.6.0)\n"
          ]
        }
      ],
      "source": [
        "! pip install scikit-learn"
      ]
    },
    {
      "cell_type": "code",
      "execution_count": 52,
      "metadata": {
        "id": "HrGTGK7Gaxuw"
      },
      "outputs": [
        {
          "name": "stdout",
          "output_type": "stream",
          "text": [
            "Training set: (256, 2) - (256,)\n",
            "Testing set: (86, 2) - (86,)\n"
          ]
        }
      ],
      "source": [
        "from sklearn.model_selection import train_test_split\n",
        "X_training, X_testing, y_training, y_testing = train_test_split(evidence, labels, test_size=0.25)\n",
        "\n",
        "print(f'Training set: {X_training.shape} - {y_training.shape}')\n",
        "print(f'Testing set: {X_testing.shape} - {y_testing.shape}')\n"
      ]
    },
    {
      "cell_type": "markdown",
      "metadata": {
        "id": "9KtOzcDR26fK"
      },
      "source": [
        "# K-Nearest Neighbors Classification\n",
        "K-nearest neighbors (KNN) algorithm is a type of supervised machine learning algorithm which can be used for both classification as well as regression predictive problems. However, it is mainly used for classification predictive problems in industry.\n",
        "\n",
        "KNN has two important properties:\n",
        "* KNN is a lazy learning algorithm because it does not have a specialized training phase and uses all the data for training while classification.\n",
        "* KNN is also a non-parametric learning algorithm because it doesn’t assume anything about the underlying data.\n",
        "\n",
        "\n",
        "\n"
      ]
    },
    {
      "cell_type": "markdown",
      "metadata": {
        "id": "xej_r6jtH3mO"
      },
      "source": [
        "## Working with KNN model\n",
        "To define a KNN model, we can use the class KNeighborsClassifier from scikit-learn package."
      ]
    },
    {
      "cell_type": "code",
      "execution_count": 53,
      "metadata": {
        "id": "Y4Mda8NKbYF6"
      },
      "outputs": [],
      "source": [
        "from sklearn.neighbors import KNeighborsClassifier\n",
        "model = KNeighborsClassifier(n_neighbors=1)"
      ]
    },
    {
      "cell_type": "markdown",
      "metadata": {
        "id": "9if3lso9o-ST"
      },
      "source": [
        "To train the model, we can use `fit()` method:"
      ]
    },
    {
      "cell_type": "code",
      "execution_count": 54,
      "metadata": {
        "id": "4xpsGxMfpH_W"
      },
      "outputs": [
        {
          "data": {
            "text/html": [
              "<style>#sk-container-id-1 {\n",
              "  /* Definition of color scheme common for light and dark mode */\n",
              "  --sklearn-color-text: #000;\n",
              "  --sklearn-color-text-muted: #666;\n",
              "  --sklearn-color-line: gray;\n",
              "  /* Definition of color scheme for unfitted estimators */\n",
              "  --sklearn-color-unfitted-level-0: #fff5e6;\n",
              "  --sklearn-color-unfitted-level-1: #f6e4d2;\n",
              "  --sklearn-color-unfitted-level-2: #ffe0b3;\n",
              "  --sklearn-color-unfitted-level-3: chocolate;\n",
              "  /* Definition of color scheme for fitted estimators */\n",
              "  --sklearn-color-fitted-level-0: #f0f8ff;\n",
              "  --sklearn-color-fitted-level-1: #d4ebff;\n",
              "  --sklearn-color-fitted-level-2: #b3dbfd;\n",
              "  --sklearn-color-fitted-level-3: cornflowerblue;\n",
              "\n",
              "  /* Specific color for light theme */\n",
              "  --sklearn-color-text-on-default-background: var(--sg-text-color, var(--theme-code-foreground, var(--jp-content-font-color1, black)));\n",
              "  --sklearn-color-background: var(--sg-background-color, var(--theme-background, var(--jp-layout-color0, white)));\n",
              "  --sklearn-color-border-box: var(--sg-text-color, var(--theme-code-foreground, var(--jp-content-font-color1, black)));\n",
              "  --sklearn-color-icon: #696969;\n",
              "\n",
              "  @media (prefers-color-scheme: dark) {\n",
              "    /* Redefinition of color scheme for dark theme */\n",
              "    --sklearn-color-text-on-default-background: var(--sg-text-color, var(--theme-code-foreground, var(--jp-content-font-color1, white)));\n",
              "    --sklearn-color-background: var(--sg-background-color, var(--theme-background, var(--jp-layout-color0, #111)));\n",
              "    --sklearn-color-border-box: var(--sg-text-color, var(--theme-code-foreground, var(--jp-content-font-color1, white)));\n",
              "    --sklearn-color-icon: #878787;\n",
              "  }\n",
              "}\n",
              "\n",
              "#sk-container-id-1 {\n",
              "  color: var(--sklearn-color-text);\n",
              "}\n",
              "\n",
              "#sk-container-id-1 pre {\n",
              "  padding: 0;\n",
              "}\n",
              "\n",
              "#sk-container-id-1 input.sk-hidden--visually {\n",
              "  border: 0;\n",
              "  clip: rect(1px 1px 1px 1px);\n",
              "  clip: rect(1px, 1px, 1px, 1px);\n",
              "  height: 1px;\n",
              "  margin: -1px;\n",
              "  overflow: hidden;\n",
              "  padding: 0;\n",
              "  position: absolute;\n",
              "  width: 1px;\n",
              "}\n",
              "\n",
              "#sk-container-id-1 div.sk-dashed-wrapped {\n",
              "  border: 1px dashed var(--sklearn-color-line);\n",
              "  margin: 0 0.4em 0.5em 0.4em;\n",
              "  box-sizing: border-box;\n",
              "  padding-bottom: 0.4em;\n",
              "  background-color: var(--sklearn-color-background);\n",
              "}\n",
              "\n",
              "#sk-container-id-1 div.sk-container {\n",
              "  /* jupyter's `normalize.less` sets `[hidden] { display: none; }`\n",
              "     but bootstrap.min.css set `[hidden] { display: none !important; }`\n",
              "     so we also need the `!important` here to be able to override the\n",
              "     default hidden behavior on the sphinx rendered scikit-learn.org.\n",
              "     See: https://github.com/scikit-learn/scikit-learn/issues/21755 */\n",
              "  display: inline-block !important;\n",
              "  position: relative;\n",
              "}\n",
              "\n",
              "#sk-container-id-1 div.sk-text-repr-fallback {\n",
              "  display: none;\n",
              "}\n",
              "\n",
              "div.sk-parallel-item,\n",
              "div.sk-serial,\n",
              "div.sk-item {\n",
              "  /* draw centered vertical line to link estimators */\n",
              "  background-image: linear-gradient(var(--sklearn-color-text-on-default-background), var(--sklearn-color-text-on-default-background));\n",
              "  background-size: 2px 100%;\n",
              "  background-repeat: no-repeat;\n",
              "  background-position: center center;\n",
              "}\n",
              "\n",
              "/* Parallel-specific style estimator block */\n",
              "\n",
              "#sk-container-id-1 div.sk-parallel-item::after {\n",
              "  content: \"\";\n",
              "  width: 100%;\n",
              "  border-bottom: 2px solid var(--sklearn-color-text-on-default-background);\n",
              "  flex-grow: 1;\n",
              "}\n",
              "\n",
              "#sk-container-id-1 div.sk-parallel {\n",
              "  display: flex;\n",
              "  align-items: stretch;\n",
              "  justify-content: center;\n",
              "  background-color: var(--sklearn-color-background);\n",
              "  position: relative;\n",
              "}\n",
              "\n",
              "#sk-container-id-1 div.sk-parallel-item {\n",
              "  display: flex;\n",
              "  flex-direction: column;\n",
              "}\n",
              "\n",
              "#sk-container-id-1 div.sk-parallel-item:first-child::after {\n",
              "  align-self: flex-end;\n",
              "  width: 50%;\n",
              "}\n",
              "\n",
              "#sk-container-id-1 div.sk-parallel-item:last-child::after {\n",
              "  align-self: flex-start;\n",
              "  width: 50%;\n",
              "}\n",
              "\n",
              "#sk-container-id-1 div.sk-parallel-item:only-child::after {\n",
              "  width: 0;\n",
              "}\n",
              "\n",
              "/* Serial-specific style estimator block */\n",
              "\n",
              "#sk-container-id-1 div.sk-serial {\n",
              "  display: flex;\n",
              "  flex-direction: column;\n",
              "  align-items: center;\n",
              "  background-color: var(--sklearn-color-background);\n",
              "  padding-right: 1em;\n",
              "  padding-left: 1em;\n",
              "}\n",
              "\n",
              "\n",
              "/* Toggleable style: style used for estimator/Pipeline/ColumnTransformer box that is\n",
              "clickable and can be expanded/collapsed.\n",
              "- Pipeline and ColumnTransformer use this feature and define the default style\n",
              "- Estimators will overwrite some part of the style using the `sk-estimator` class\n",
              "*/\n",
              "\n",
              "/* Pipeline and ColumnTransformer style (default) */\n",
              "\n",
              "#sk-container-id-1 div.sk-toggleable {\n",
              "  /* Default theme specific background. It is overwritten whether we have a\n",
              "  specific estimator or a Pipeline/ColumnTransformer */\n",
              "  background-color: var(--sklearn-color-background);\n",
              "}\n",
              "\n",
              "/* Toggleable label */\n",
              "#sk-container-id-1 label.sk-toggleable__label {\n",
              "  cursor: pointer;\n",
              "  display: flex;\n",
              "  width: 100%;\n",
              "  margin-bottom: 0;\n",
              "  padding: 0.5em;\n",
              "  box-sizing: border-box;\n",
              "  text-align: center;\n",
              "  align-items: start;\n",
              "  justify-content: space-between;\n",
              "  gap: 0.5em;\n",
              "}\n",
              "\n",
              "#sk-container-id-1 label.sk-toggleable__label .caption {\n",
              "  font-size: 0.6rem;\n",
              "  font-weight: lighter;\n",
              "  color: var(--sklearn-color-text-muted);\n",
              "}\n",
              "\n",
              "#sk-container-id-1 label.sk-toggleable__label-arrow:before {\n",
              "  /* Arrow on the left of the label */\n",
              "  content: \"▸\";\n",
              "  float: left;\n",
              "  margin-right: 0.25em;\n",
              "  color: var(--sklearn-color-icon);\n",
              "}\n",
              "\n",
              "#sk-container-id-1 label.sk-toggleable__label-arrow:hover:before {\n",
              "  color: var(--sklearn-color-text);\n",
              "}\n",
              "\n",
              "/* Toggleable content - dropdown */\n",
              "\n",
              "#sk-container-id-1 div.sk-toggleable__content {\n",
              "  display: none;\n",
              "  text-align: left;\n",
              "  /* unfitted */\n",
              "  background-color: var(--sklearn-color-unfitted-level-0);\n",
              "}\n",
              "\n",
              "#sk-container-id-1 div.sk-toggleable__content.fitted {\n",
              "  /* fitted */\n",
              "  background-color: var(--sklearn-color-fitted-level-0);\n",
              "}\n",
              "\n",
              "#sk-container-id-1 div.sk-toggleable__content pre {\n",
              "  margin: 0.2em;\n",
              "  border-radius: 0.25em;\n",
              "  color: var(--sklearn-color-text);\n",
              "  /* unfitted */\n",
              "  background-color: var(--sklearn-color-unfitted-level-0);\n",
              "}\n",
              "\n",
              "#sk-container-id-1 div.sk-toggleable__content.fitted pre {\n",
              "  /* unfitted */\n",
              "  background-color: var(--sklearn-color-fitted-level-0);\n",
              "}\n",
              "\n",
              "#sk-container-id-1 input.sk-toggleable__control:checked~div.sk-toggleable__content {\n",
              "  /* Expand drop-down */\n",
              "  display: block;\n",
              "  width: 100%;\n",
              "  overflow: visible;\n",
              "}\n",
              "\n",
              "#sk-container-id-1 input.sk-toggleable__control:checked~label.sk-toggleable__label-arrow:before {\n",
              "  content: \"▾\";\n",
              "}\n",
              "\n",
              "/* Pipeline/ColumnTransformer-specific style */\n",
              "\n",
              "#sk-container-id-1 div.sk-label input.sk-toggleable__control:checked~label.sk-toggleable__label {\n",
              "  color: var(--sklearn-color-text);\n",
              "  background-color: var(--sklearn-color-unfitted-level-2);\n",
              "}\n",
              "\n",
              "#sk-container-id-1 div.sk-label.fitted input.sk-toggleable__control:checked~label.sk-toggleable__label {\n",
              "  background-color: var(--sklearn-color-fitted-level-2);\n",
              "}\n",
              "\n",
              "/* Estimator-specific style */\n",
              "\n",
              "/* Colorize estimator box */\n",
              "#sk-container-id-1 div.sk-estimator input.sk-toggleable__control:checked~label.sk-toggleable__label {\n",
              "  /* unfitted */\n",
              "  background-color: var(--sklearn-color-unfitted-level-2);\n",
              "}\n",
              "\n",
              "#sk-container-id-1 div.sk-estimator.fitted input.sk-toggleable__control:checked~label.sk-toggleable__label {\n",
              "  /* fitted */\n",
              "  background-color: var(--sklearn-color-fitted-level-2);\n",
              "}\n",
              "\n",
              "#sk-container-id-1 div.sk-label label.sk-toggleable__label,\n",
              "#sk-container-id-1 div.sk-label label {\n",
              "  /* The background is the default theme color */\n",
              "  color: var(--sklearn-color-text-on-default-background);\n",
              "}\n",
              "\n",
              "/* On hover, darken the color of the background */\n",
              "#sk-container-id-1 div.sk-label:hover label.sk-toggleable__label {\n",
              "  color: var(--sklearn-color-text);\n",
              "  background-color: var(--sklearn-color-unfitted-level-2);\n",
              "}\n",
              "\n",
              "/* Label box, darken color on hover, fitted */\n",
              "#sk-container-id-1 div.sk-label.fitted:hover label.sk-toggleable__label.fitted {\n",
              "  color: var(--sklearn-color-text);\n",
              "  background-color: var(--sklearn-color-fitted-level-2);\n",
              "}\n",
              "\n",
              "/* Estimator label */\n",
              "\n",
              "#sk-container-id-1 div.sk-label label {\n",
              "  font-family: monospace;\n",
              "  font-weight: bold;\n",
              "  display: inline-block;\n",
              "  line-height: 1.2em;\n",
              "}\n",
              "\n",
              "#sk-container-id-1 div.sk-label-container {\n",
              "  text-align: center;\n",
              "}\n",
              "\n",
              "/* Estimator-specific */\n",
              "#sk-container-id-1 div.sk-estimator {\n",
              "  font-family: monospace;\n",
              "  border: 1px dotted var(--sklearn-color-border-box);\n",
              "  border-radius: 0.25em;\n",
              "  box-sizing: border-box;\n",
              "  margin-bottom: 0.5em;\n",
              "  /* unfitted */\n",
              "  background-color: var(--sklearn-color-unfitted-level-0);\n",
              "}\n",
              "\n",
              "#sk-container-id-1 div.sk-estimator.fitted {\n",
              "  /* fitted */\n",
              "  background-color: var(--sklearn-color-fitted-level-0);\n",
              "}\n",
              "\n",
              "/* on hover */\n",
              "#sk-container-id-1 div.sk-estimator:hover {\n",
              "  /* unfitted */\n",
              "  background-color: var(--sklearn-color-unfitted-level-2);\n",
              "}\n",
              "\n",
              "#sk-container-id-1 div.sk-estimator.fitted:hover {\n",
              "  /* fitted */\n",
              "  background-color: var(--sklearn-color-fitted-level-2);\n",
              "}\n",
              "\n",
              "/* Specification for estimator info (e.g. \"i\" and \"?\") */\n",
              "\n",
              "/* Common style for \"i\" and \"?\" */\n",
              "\n",
              ".sk-estimator-doc-link,\n",
              "a:link.sk-estimator-doc-link,\n",
              "a:visited.sk-estimator-doc-link {\n",
              "  float: right;\n",
              "  font-size: smaller;\n",
              "  line-height: 1em;\n",
              "  font-family: monospace;\n",
              "  background-color: var(--sklearn-color-background);\n",
              "  border-radius: 1em;\n",
              "  height: 1em;\n",
              "  width: 1em;\n",
              "  text-decoration: none !important;\n",
              "  margin-left: 0.5em;\n",
              "  text-align: center;\n",
              "  /* unfitted */\n",
              "  border: var(--sklearn-color-unfitted-level-1) 1pt solid;\n",
              "  color: var(--sklearn-color-unfitted-level-1);\n",
              "}\n",
              "\n",
              ".sk-estimator-doc-link.fitted,\n",
              "a:link.sk-estimator-doc-link.fitted,\n",
              "a:visited.sk-estimator-doc-link.fitted {\n",
              "  /* fitted */\n",
              "  border: var(--sklearn-color-fitted-level-1) 1pt solid;\n",
              "  color: var(--sklearn-color-fitted-level-1);\n",
              "}\n",
              "\n",
              "/* On hover */\n",
              "div.sk-estimator:hover .sk-estimator-doc-link:hover,\n",
              ".sk-estimator-doc-link:hover,\n",
              "div.sk-label-container:hover .sk-estimator-doc-link:hover,\n",
              ".sk-estimator-doc-link:hover {\n",
              "  /* unfitted */\n",
              "  background-color: var(--sklearn-color-unfitted-level-3);\n",
              "  color: var(--sklearn-color-background);\n",
              "  text-decoration: none;\n",
              "}\n",
              "\n",
              "div.sk-estimator.fitted:hover .sk-estimator-doc-link.fitted:hover,\n",
              ".sk-estimator-doc-link.fitted:hover,\n",
              "div.sk-label-container:hover .sk-estimator-doc-link.fitted:hover,\n",
              ".sk-estimator-doc-link.fitted:hover {\n",
              "  /* fitted */\n",
              "  background-color: var(--sklearn-color-fitted-level-3);\n",
              "  color: var(--sklearn-color-background);\n",
              "  text-decoration: none;\n",
              "}\n",
              "\n",
              "/* Span, style for the box shown on hovering the info icon */\n",
              ".sk-estimator-doc-link span {\n",
              "  display: none;\n",
              "  z-index: 9999;\n",
              "  position: relative;\n",
              "  font-weight: normal;\n",
              "  right: .2ex;\n",
              "  padding: .5ex;\n",
              "  margin: .5ex;\n",
              "  width: min-content;\n",
              "  min-width: 20ex;\n",
              "  max-width: 50ex;\n",
              "  color: var(--sklearn-color-text);\n",
              "  box-shadow: 2pt 2pt 4pt #999;\n",
              "  /* unfitted */\n",
              "  background: var(--sklearn-color-unfitted-level-0);\n",
              "  border: .5pt solid var(--sklearn-color-unfitted-level-3);\n",
              "}\n",
              "\n",
              ".sk-estimator-doc-link.fitted span {\n",
              "  /* fitted */\n",
              "  background: var(--sklearn-color-fitted-level-0);\n",
              "  border: var(--sklearn-color-fitted-level-3);\n",
              "}\n",
              "\n",
              ".sk-estimator-doc-link:hover span {\n",
              "  display: block;\n",
              "}\n",
              "\n",
              "/* \"?\"-specific style due to the `<a>` HTML tag */\n",
              "\n",
              "#sk-container-id-1 a.estimator_doc_link {\n",
              "  float: right;\n",
              "  font-size: 1rem;\n",
              "  line-height: 1em;\n",
              "  font-family: monospace;\n",
              "  background-color: var(--sklearn-color-background);\n",
              "  border-radius: 1rem;\n",
              "  height: 1rem;\n",
              "  width: 1rem;\n",
              "  text-decoration: none;\n",
              "  /* unfitted */\n",
              "  color: var(--sklearn-color-unfitted-level-1);\n",
              "  border: var(--sklearn-color-unfitted-level-1) 1pt solid;\n",
              "}\n",
              "\n",
              "#sk-container-id-1 a.estimator_doc_link.fitted {\n",
              "  /* fitted */\n",
              "  border: var(--sklearn-color-fitted-level-1) 1pt solid;\n",
              "  color: var(--sklearn-color-fitted-level-1);\n",
              "}\n",
              "\n",
              "/* On hover */\n",
              "#sk-container-id-1 a.estimator_doc_link:hover {\n",
              "  /* unfitted */\n",
              "  background-color: var(--sklearn-color-unfitted-level-3);\n",
              "  color: var(--sklearn-color-background);\n",
              "  text-decoration: none;\n",
              "}\n",
              "\n",
              "#sk-container-id-1 a.estimator_doc_link.fitted:hover {\n",
              "  /* fitted */\n",
              "  background-color: var(--sklearn-color-fitted-level-3);\n",
              "}\n",
              "\n",
              ".estimator-table summary {\n",
              "    padding: .5rem;\n",
              "    font-family: monospace;\n",
              "    cursor: pointer;\n",
              "}\n",
              "\n",
              ".estimator-table details[open] {\n",
              "    padding-left: 0.1rem;\n",
              "    padding-right: 0.1rem;\n",
              "    padding-bottom: 0.3rem;\n",
              "}\n",
              "\n",
              ".estimator-table .parameters-table {\n",
              "    margin-left: auto !important;\n",
              "    margin-right: auto !important;\n",
              "}\n",
              "\n",
              ".estimator-table .parameters-table tr:nth-child(odd) {\n",
              "    background-color: #fff;\n",
              "}\n",
              "\n",
              ".estimator-table .parameters-table tr:nth-child(even) {\n",
              "    background-color: #f6f6f6;\n",
              "}\n",
              "\n",
              ".estimator-table .parameters-table tr:hover {\n",
              "    background-color: #e0e0e0;\n",
              "}\n",
              "\n",
              ".estimator-table table td {\n",
              "    border: 1px solid rgba(106, 105, 104, 0.232);\n",
              "}\n",
              "\n",
              ".user-set td {\n",
              "    color:rgb(255, 94, 0);\n",
              "    text-align: left;\n",
              "}\n",
              "\n",
              ".user-set td.value pre {\n",
              "    color:rgb(255, 94, 0) !important;\n",
              "    background-color: transparent !important;\n",
              "}\n",
              "\n",
              ".default td {\n",
              "    color: black;\n",
              "    text-align: left;\n",
              "}\n",
              "\n",
              ".user-set td i,\n",
              ".default td i {\n",
              "    color: black;\n",
              "}\n",
              "\n",
              ".copy-paste-icon {\n",
              "    background-image: url(data:image/svg+xml;base64,PHN2ZyB4bWxucz0iaHR0cDovL3d3dy53My5vcmcvMjAwMC9zdmciIHZpZXdCb3g9IjAgMCA0NDggNTEyIj48IS0tIUZvbnQgQXdlc29tZSBGcmVlIDYuNy4yIGJ5IEBmb250YXdlc29tZSAtIGh0dHBzOi8vZm9udGF3ZXNvbWUuY29tIExpY2Vuc2UgLSBodHRwczovL2ZvbnRhd2Vzb21lLmNvbS9saWNlbnNlL2ZyZWUgQ29weXJpZ2h0IDIwMjUgRm9udGljb25zLCBJbmMuLS0+PHBhdGggZD0iTTIwOCAwTDMzMi4xIDBjMTIuNyAwIDI0LjkgNS4xIDMzLjkgMTQuMWw2Ny45IDY3LjljOSA5IDE0LjEgMjEuMiAxNC4xIDMzLjlMNDQ4IDMzNmMwIDI2LjUtMjEuNSA0OC00OCA0OGwtMTkyIDBjLTI2LjUgMC00OC0yMS41LTQ4LTQ4bDAtMjg4YzAtMjYuNSAyMS41LTQ4IDQ4LTQ4ek00OCAxMjhsODAgMCAwIDY0LTY0IDAgMCAyNTYgMTkyIDAgMC0zMiA2NCAwIDAgNDhjMCAyNi41LTIxLjUgNDgtNDggNDhMNDggNTEyYy0yNi41IDAtNDgtMjEuNS00OC00OEwwIDE3NmMwLTI2LjUgMjEuNS00OCA0OC00OHoiLz48L3N2Zz4=);\n",
              "    background-repeat: no-repeat;\n",
              "    background-size: 14px 14px;\n",
              "    background-position: 0;\n",
              "    display: inline-block;\n",
              "    width: 14px;\n",
              "    height: 14px;\n",
              "    cursor: pointer;\n",
              "}\n",
              "</style><body><div id=\"sk-container-id-1\" class=\"sk-top-container\"><div class=\"sk-text-repr-fallback\"><pre>KNeighborsClassifier(n_neighbors=1)</pre><b>In a Jupyter environment, please rerun this cell to show the HTML representation or trust the notebook. <br />On GitHub, the HTML representation is unable to render, please try loading this page with nbviewer.org.</b></div><div class=\"sk-container\" hidden><div class=\"sk-item\"><div class=\"sk-estimator fitted sk-toggleable\"><input class=\"sk-toggleable__control sk-hidden--visually\" id=\"sk-estimator-id-1\" type=\"checkbox\" checked><label for=\"sk-estimator-id-1\" class=\"sk-toggleable__label fitted sk-toggleable__label-arrow\"><div><div>KNeighborsClassifier</div></div><div><a class=\"sk-estimator-doc-link fitted\" rel=\"noreferrer\" target=\"_blank\" href=\"https://scikit-learn.org/1.7/modules/generated/sklearn.neighbors.KNeighborsClassifier.html\">?<span>Documentation for KNeighborsClassifier</span></a><span class=\"sk-estimator-doc-link fitted\">i<span>Fitted</span></span></div></label><div class=\"sk-toggleable__content fitted\" data-param-prefix=\"\">\n",
              "        <div class=\"estimator-table\">\n",
              "            <details>\n",
              "                <summary>Parameters</summary>\n",
              "                <table class=\"parameters-table\">\n",
              "                  <tbody>\n",
              "                    \n",
              "        <tr class=\"user-set\">\n",
              "            <td><i class=\"copy-paste-icon\"\n",
              "                 onclick=\"copyToClipboard('n_neighbors',\n",
              "                          this.parentElement.nextElementSibling)\"\n",
              "            ></i></td>\n",
              "            <td class=\"param\">n_neighbors&nbsp;</td>\n",
              "            <td class=\"value\">1</td>\n",
              "        </tr>\n",
              "    \n",
              "\n",
              "        <tr class=\"default\">\n",
              "            <td><i class=\"copy-paste-icon\"\n",
              "                 onclick=\"copyToClipboard('weights',\n",
              "                          this.parentElement.nextElementSibling)\"\n",
              "            ></i></td>\n",
              "            <td class=\"param\">weights&nbsp;</td>\n",
              "            <td class=\"value\">&#x27;uniform&#x27;</td>\n",
              "        </tr>\n",
              "    \n",
              "\n",
              "        <tr class=\"default\">\n",
              "            <td><i class=\"copy-paste-icon\"\n",
              "                 onclick=\"copyToClipboard('algorithm',\n",
              "                          this.parentElement.nextElementSibling)\"\n",
              "            ></i></td>\n",
              "            <td class=\"param\">algorithm&nbsp;</td>\n",
              "            <td class=\"value\">&#x27;auto&#x27;</td>\n",
              "        </tr>\n",
              "    \n",
              "\n",
              "        <tr class=\"default\">\n",
              "            <td><i class=\"copy-paste-icon\"\n",
              "                 onclick=\"copyToClipboard('leaf_size',\n",
              "                          this.parentElement.nextElementSibling)\"\n",
              "            ></i></td>\n",
              "            <td class=\"param\">leaf_size&nbsp;</td>\n",
              "            <td class=\"value\">30</td>\n",
              "        </tr>\n",
              "    \n",
              "\n",
              "        <tr class=\"default\">\n",
              "            <td><i class=\"copy-paste-icon\"\n",
              "                 onclick=\"copyToClipboard('p',\n",
              "                          this.parentElement.nextElementSibling)\"\n",
              "            ></i></td>\n",
              "            <td class=\"param\">p&nbsp;</td>\n",
              "            <td class=\"value\">2</td>\n",
              "        </tr>\n",
              "    \n",
              "\n",
              "        <tr class=\"default\">\n",
              "            <td><i class=\"copy-paste-icon\"\n",
              "                 onclick=\"copyToClipboard('metric',\n",
              "                          this.parentElement.nextElementSibling)\"\n",
              "            ></i></td>\n",
              "            <td class=\"param\">metric&nbsp;</td>\n",
              "            <td class=\"value\">&#x27;minkowski&#x27;</td>\n",
              "        </tr>\n",
              "    \n",
              "\n",
              "        <tr class=\"default\">\n",
              "            <td><i class=\"copy-paste-icon\"\n",
              "                 onclick=\"copyToClipboard('metric_params',\n",
              "                          this.parentElement.nextElementSibling)\"\n",
              "            ></i></td>\n",
              "            <td class=\"param\">metric_params&nbsp;</td>\n",
              "            <td class=\"value\">None</td>\n",
              "        </tr>\n",
              "    \n",
              "\n",
              "        <tr class=\"default\">\n",
              "            <td><i class=\"copy-paste-icon\"\n",
              "                 onclick=\"copyToClipboard('n_jobs',\n",
              "                          this.parentElement.nextElementSibling)\"\n",
              "            ></i></td>\n",
              "            <td class=\"param\">n_jobs&nbsp;</td>\n",
              "            <td class=\"value\">None</td>\n",
              "        </tr>\n",
              "    \n",
              "                  </tbody>\n",
              "                </table>\n",
              "            </details>\n",
              "        </div>\n",
              "    </div></div></div></div></div><script>function copyToClipboard(text, element) {\n",
              "    // Get the parameter prefix from the closest toggleable content\n",
              "    const toggleableContent = element.closest('.sk-toggleable__content');\n",
              "    const paramPrefix = toggleableContent ? toggleableContent.dataset.paramPrefix : '';\n",
              "    const fullParamName = paramPrefix ? `${paramPrefix}${text}` : text;\n",
              "\n",
              "    const originalStyle = element.style;\n",
              "    const computedStyle = window.getComputedStyle(element);\n",
              "    const originalWidth = computedStyle.width;\n",
              "    const originalHTML = element.innerHTML.replace('Copied!', '');\n",
              "\n",
              "    navigator.clipboard.writeText(fullParamName)\n",
              "        .then(() => {\n",
              "            element.style.width = originalWidth;\n",
              "            element.style.color = 'green';\n",
              "            element.innerHTML = \"Copied!\";\n",
              "\n",
              "            setTimeout(() => {\n",
              "                element.innerHTML = originalHTML;\n",
              "                element.style = originalStyle;\n",
              "            }, 2000);\n",
              "        })\n",
              "        .catch(err => {\n",
              "            console.error('Failed to copy:', err);\n",
              "            element.style.color = 'red';\n",
              "            element.innerHTML = \"Failed!\";\n",
              "            setTimeout(() => {\n",
              "                element.innerHTML = originalHTML;\n",
              "                element.style = originalStyle;\n",
              "            }, 2000);\n",
              "        });\n",
              "    return false;\n",
              "}\n",
              "\n",
              "document.querySelectorAll('.fa-regular.fa-copy').forEach(function(element) {\n",
              "    const toggleableContent = element.closest('.sk-toggleable__content');\n",
              "    const paramPrefix = toggleableContent ? toggleableContent.dataset.paramPrefix : '';\n",
              "    const paramName = element.parentElement.nextElementSibling.textContent.trim();\n",
              "    const fullParamName = paramPrefix ? `${paramPrefix}${paramName}` : paramName;\n",
              "\n",
              "    element.setAttribute('title', fullParamName);\n",
              "});\n",
              "</script></body>"
            ],
            "text/plain": [
              "KNeighborsClassifier(n_neighbors=1)"
            ]
          },
          "execution_count": 54,
          "metadata": {},
          "output_type": "execute_result"
        }
      ],
      "source": [
        "# Fit model\n",
        "model.fit(X_training, y_training)"
      ]
    },
    {
      "cell_type": "markdown",
      "metadata": {
        "id": "NzG7mVkZpXB3"
      },
      "source": [
        "To make prediction using the trained model, we can use `predict()` method:"
      ]
    },
    {
      "cell_type": "code",
      "execution_count": 55,
      "metadata": {
        "id": "mBM7C6DUbgYt"
      },
      "outputs": [
        {
          "name": "stdout",
          "output_type": "stream",
          "text": [
            "[ 38.8 190. ] --> Adelie | Adelie\n",
            "[ 41.1 188. ] --> Adelie | Adelie\n",
            "[ 42.1 195. ] --> Adelie | Adelie\n",
            "[ 36.2 187. ] --> Adelie | Adelie\n",
            "[ 45.2 191. ] --> Adelie | Chinstrap\n",
            "[ 41.4 191. ] --> Adelie | Adelie\n",
            "[ 50.8 210. ] --> Chinstrap | Chinstrap\n",
            "[ 40.6 183. ] --> Adelie | Adelie\n",
            "[ 40.7 190. ] --> Adelie | Adelie\n",
            "[ 45.1 207. ] --> Gentoo | Gentoo\n"
          ]
        }
      ],
      "source": [
        "# Make predictions on the testing set\n",
        "predictions = model.predict(X_testing)\n",
        "\n",
        "# Print the first 10 predictions\n",
        "for i in range(10):\n",
        "  print(f'{X_testing[i]} --> {predictions[i]} | {y_testing[i]}')"
      ]
    },
    {
      "cell_type": "markdown",
      "metadata": {
        "id": "k6bsPGXgsW4m"
      },
      "source": [
        "# Evaluating a model"
      ]
    },
    {
      "cell_type": "markdown",
      "metadata": {
        "id": "NYfw7AC6sjRo"
      },
      "source": [
        "## Accuracy rate\n",
        "Accuracy rate is a simple metric to evaluate a classification model.\n",
        "It is defined as the percentage of correct predictions for the test data.\n",
        "\n",
        "The following code compute the accuracy rate of the KNN model:"
      ]
    },
    {
      "cell_type": "code",
      "execution_count": 56,
      "metadata": {
        "id": "qzy5y_--rJiy"
      },
      "outputs": [
        {
          "name": "stdout",
          "output_type": "stream",
          "text": [
            "Results for model KNeighborsClassifier\n",
            "Correct: 80\n",
            "Incorrect: 6\n",
            "Accuracy: 93.02%\n"
          ]
        }
      ],
      "source": [
        "# Compute how well we performed\n",
        "correct = (y_testing == predictions).sum()\n",
        "incorrect = (y_testing != predictions).sum()\n",
        "total = len(predictions)\n",
        "\n",
        "# Print results\n",
        "print(f\"Results for model {type(model).__name__}\")\n",
        "print(f\"Correct: {correct}\")\n",
        "print(f\"Incorrect: {incorrect}\")\n",
        "print(f\"Accuracy: {100 * correct / total:.2f}%\")"
      ]
    },
    {
      "cell_type": "markdown",
      "metadata": {
        "id": "hBH6ow2quVUU"
      },
      "source": [
        "## Confusion matrix\n",
        "When performing classification predictions, there's four types of outcomes that could occur.\n",
        "\n",
        "* True positives (TP): are when you predict an observation belongs to a class and it actually does belong to that class.\n",
        "* True negatives (TN): are when you predict an observation does not belong to a class and it actually does not belong to that class.\n",
        "* False positives (FP): occur when you predict an observation belongs to a class when in reality it does not.\n",
        "* False negatives (FN): occur when you predict an observation does not belong to a class when in fact it does.\n",
        "\n",
        "These four outcomes are often plotted on a confusion matrix.\n",
        "\n",
        "The following confusion matrix is an example for the case of binary classification. You would generate this matrix after making predictions on your test data and then identifying each prediction as one of the four possible outcomes described above."
      ]
    },
    {
      "cell_type": "markdown",
      "metadata": {
        "id": "9aTGSWz_vVg6"
      },
      "source": [
        "![Screen-Shot-2017-07-21-at-9.57.38-AM.png](data:image/png;base64,iVBORw0KGgoAAAANSUhEUgAABgYAAAOgCAYAAAD21M1lAAAMF2lDQ1BJQ0MgUHJvZmlsZQAASImVVwdYU8kWnltSCAktEAEpoTdBepXeBQHpYCMkAUIJkBBU7MiigmtBxYIVXQGxrQWQtSKKhUXAgv2BiMrKuljAgsqbFND1te+d75s7f86cc+Y/c8+dzACgaM3KyclElQDI4ucJIgN9mPEJiUxSD0ABEcgBAzCZxRbmeEdEhAIoY/3fZfgOQMT9TUtxrH8d/6+izOEK2QAgERAnc4TsLIhPAICrs3MEeQAQWqHeYG5ejhgPQqwqgAQBIOJinCrF6mKcLMWTJDbRkb4QewFAprJYglQAFMS8mfnsVBhHQczRms/h8SHeDrEHO43FgfghxJOysrIhViRDbJr8XZzUv8VMHo/JYqWOY2kuEiH78YQ5maz5/+dy/G/JyhSNzaEPGzVNEBQpzhmuW3VGdogYUyE+zU8OC4dYBeIrPI7EXozvp4mCYmT2A2yhL1wzwADwdXNYfiEQa0HMEGXEeMuwLUsg8YX2aBgvLzhahpMF2ZGy+Gg+PzMsVBZnZRo3eAzv5Ar9o8ZsUngBwRDDSkNPFKRFx0l5os35vNgwiBUgbhdmRIXIfB8XpPmGjdkIRJFizoYQv0sRBERKbTD1LOFYXpgVmyWZC9YC5pWXFh0k9cXiucL40DEOHK6fv5QDxuHyY2TcMFhdPpEy3+KczAiZPbaTmxkYKV1n7KgwP2rMtzMPFph0HbAn6aypEbK5hnPyIqKl3HAUhAJf4AeYQARbMsgG6YDXNlA/AH9JRwIACwhAKuACS5lmzCNOMsKHzyhQAP6EiAuE434+klEuyIf6L+Na6dMSpEhG8yUeGeAZxFm4Ju6Bu+Gh8OkFmy3ujLuM+TEVx2Yl+hP9iEHEAKLZOA82ZJ0JmwDw/o0uBPZcmJ2YC38sh2/xCM8IHYQnhNuEbsI9EAueSqLIrObwCgU/MGeCaaAbRguQZZcMY/aP2eDGkLUD7oO7Q/6QO87ANYElbg8z8cY9YW4OUPs9Q9E4t29r+eN8Ytbf5yPTK5grOMhYJI+/Gd9xqx+j+H63RhzYh/xoia3EjmMt2AXsKnYaqwdM7BzWgLViZ8R4vBKeSiphbLZICbcMGIc3ZmNda91v/fmHuVmy+cXrJczjzssTfwy+2TnzBbzUtDymN9yNucxgPttqEtPW2sYJAPHeLt063jIkezbCuPZNl3seAJcSqEz9pmMZAHDqGQD04W86gzew3NcBcKadLRLkS3Xi7RgQAAUowq9CA+jAfw5TmI8tcARuwAv4g6kgHESDBDAbrngayIKc54KFYBkoBqVgHdgEtoFdYC+oBofAMVAPToML4DK4DtrBbfAA1kUfeAkGwTAYQRCEhNAQOqKB6CJGiAViizgjHog/EopEIglIEpKK8BERshBZjpQiZcg2ZA9Sg/yKnEIuIFeRDuQe0oP0I2+QTyiGUlFVVBs1Riejzqg3GoJGo7PQVDQXLUCL0DXoFrQSPYjWoRfQ6+httBt9iQ5hAJPHGJgeZok5Y75YOJaIpWACbDFWgpVjldhhrBG+55tYNzaAfcSJOB1n4pawNoPwGJyN5+KL8dX4Nrwar8Ob8Zt4Dz6IfyXQCFoEC4IrIZgQT0glzCUUE8oJ+wknCZfgd9NHGCYSiQyiCdEJfpcJxHTiAuJq4g7iEeJ5YgexlzhEIpE0SBYkd1I4iUXKIxWTtpIOks6ROkl9pA9kebIu2ZYcQE4k88mF5HLyAfJZcif5OXlETknOSM5VLlyOIzdfbq3cPrlGuRtyfXIjFGWKCcWdEk1JpyyjbKEcplyiPKS8lZeX15d3kZ8uz5NfKr9F/qj8Ffke+Y9UFao51Zc6kyqirqFWUc9T71Hf0mg0Y5oXLZGWR1tDq6FdpD2mfVCgK1gpBCtwFJYoVCjUKXQqvFKUUzRS9FacrVigWK54XPGG4oCSnJKxkq8SS2mxUoXSKaUupSFlurKNcrhylvJq5QPKV5VfqJBUjFX8VTgqRSp7VS6q9NIxugHdl86mL6fvo1+i96kSVU1Ug1XTVUtVD6m2qQ6qqajZq8WqzVOrUDuj1s3AGMaMYEYmYy3jGOMO49ME7QneE7gTVk04PKFzwnv1iepe6lz1EvUj6rfVP2kwNfw1MjTWa9RrPNLENc01p2vO1dypeUlzYKLqRLeJ7IklE49NvK+FaplrRWot0Nqr1ao1pK2jHaido71V+6L2gA5Dx0snXWejzlmdfl26rocuT3ej7jndP5hqTG9mJnMLs5k5qKelF6Qn0tuj16Y3om+iH6NfqH9E/5EBxcDZIMVgo0GTwaChruE0w4WGtYb3jeSMnI3SjDYbtRi9NzYxjjNeYVxv/MJE3STYpMCk1uShKc3U0zTXtNL0lhnRzNksw2yHWbs5au5gnmZeYX7DArVwtOBZ7LDomESY5DKJP6lyUpcl1dLbMt+y1rLHimEValVoVW/1arLh5MTJ6ye3TP5q7WCdab3P+oGNis1Um0KbRps3tua2bNsK21t2NLsAuyV2DXav7S3sufY77e860B2mOaxwaHL44ujkKHA87NjvZOiU5LTdqctZ1TnCebXzFReCi4/LEpfTLh9dHV3zXI+5/uVm6ZbhdsDtxRSTKdwp+6b0uuu7s9z3uHd7MD2SPHZ7dHvqebI8Kz2feBl4cbz2ez33NvNO9z7o/crH2kfgc9Lnva+r7yLf836YX6BfiV+bv4p/jP82/8cB+gGpAbUBg4EOgQsCzwcRgkKC1gd1BWsHs4NrggenOk1dNLU5hBoSFbIt5EmoeaggtHEaOm3qtA3THoYZhfHD6sNBeHD4hvBHESYRuRG/TSdOj5heMf1ZpE3kwsiWKHrUnKgDUcPRPtFrox/EmMaIYppiFWNnxtbEvo/ziyuL646fHL8o/nqCZgIvoSGRlBibuD9xaIb/jE0z+mY6zCyeeWeWyax5s67O1pydOfvMHMU5rDnHkwhJcUkHkj6zwlmVrKHk4OTtyYNsX/Zm9kuOF2cjp5/rzi3jPk9xTylLeZHqnrohtT/NM608bYDny9vGe50elL4r/X1GeEZVxmhmXOaRLHJWUtYpvgo/g9+crZM9L7sjxyKnOKc71zV3U+6gIESwX4gIZwkb8lThMadVZCr6SdST75Ffkf9hbuzc4/OU5/Hntc43n79q/vOCgIJfFuAL2AuaFuotXLawZ5H3oj2LkcXJi5uWGCwpWtK3NHBp9TLKsoxlvxdaF5YVvlset7yxSLtoaVHvT4E/1RYrFAuKu1a4rdi1El/JW9m2ym7V1lVfSzgl10qtS8tLP69mr772s83PW34eXZOypm2t49qd64jr+OvurPdcX12mXFZQ1rth2oa6jcyNJRvfbZqz6Wq5ffmuzZTNos3dW0K3NGw13Lpu6+dtadtuV/hUHNmutX3V9vc7ODs6d3rtPLxLe1fprk+7ebvv7gncU1dpXFm+l7g3f++zfbH7Wn5x/qVmv+b+0v1fqvhV3dWR1c01TjU1B7QOrK1Fa0W1/QdnHmw/5Heo4bDl4T1HGEdKj4KjoqN//Jr0651jIceajjsfP3zC6MT2k/STJXVI3fy6wfq0+u6GhIaOU1NPNTW6NZ78zeq3qtN6pyvOqJ1Ze5Zytujs6LmCc0Pnc84PXEi90Ns0p+nBxfiLt5qnN7ddCrl05XLA5Yst3i3nrrhfOX3V9eqpa87X6q87Xq9rdWg9+bvD7yfbHNvqbjjdaGh3aW/smNJxttOz88JNv5uXbwXfun477HbHnZg7d7tmdnXf5dx9cS/z3uv7+fdHHix9SHhY8kjpUfljrceV/zD7x5Fux+4zPX49rU+injzoZfe+fCp8+rmv6BntWflz3ec1L2xfnO4P6G//Y8YffS9zXo4MFP+p/Of2V6avTvzl9VfrYPxg32vB69E3q99qvK16Z/+uaShi6PFw1vDI+5IPGh+qPzp/bPkU9+n5yNzPpM9bvph9afwa8vXhaNboaA5LwJIcBTDY0JQUAN5UAUBLgGeHdgAoCtK7l0QQ6X1RgsB/wtL7mUQcAajyAiBmKQCh8IyyEzYjiKmwFx+9o70Aamc33mQiTLGzlcaiwhsM4cPo6FttAEiNAHwRjI6O7Bgd/bIPkr0HwPlc6Z1PLER4vt+tIUatXUrgR/kn/NFsDCTixJQAAAAJcEhZcwAAFiUAABYlAUlSJPAAAAGeaVRYdFhNTDpjb20uYWRvYmUueG1wAAAAAAA8eDp4bXBtZXRhIHhtbG5zOng9ImFkb2JlOm5zOm1ldGEvIiB4OnhtcHRrPSJYTVAgQ29yZSA1LjQuMCI+CiAgIDxyZGY6UkRGIHhtbG5zOnJkZj0iaHR0cDovL3d3dy53My5vcmcvMTk5OS8wMi8yMi1yZGYtc3ludGF4LW5zIyI+CiAgICAgIDxyZGY6RGVzY3JpcHRpb24gcmRmOmFib3V0PSIiCiAgICAgICAgICAgIHhtbG5zOmV4aWY9Imh0dHA6Ly9ucy5hZG9iZS5jb20vZXhpZi8xLjAvIj4KICAgICAgICAgPGV4aWY6UGl4ZWxYRGltZW5zaW9uPjE1NDI8L2V4aWY6UGl4ZWxYRGltZW5zaW9uPgogICAgICAgICA8ZXhpZjpQaXhlbFlEaW1lbnNpb24+OTI4PC9leGlmOlBpeGVsWURpbWVuc2lvbj4KICAgICAgPC9yZGY6RGVzY3JpcHRpb24+CiAgIDwvcmRmOlJERj4KPC94OnhtcG1ldGE+CgpOpRsAAAAcaURPVAAAAAIAAAAAAAAB0AAAACgAAAHQAAAB0AAAm64+c21QAABAAElEQVR4AezdC7RddX0v+l+eOxASkpAAQooJj6AUCRhzEEVsK5zTcw94HYcWKpUhtBat2GqvRh0eW6Q6HAql7anVo14tOLSlcNoOFXqrR7QVEI4HUAIUTRASbaAhbwh5J5u75sa92WvtudZe7zUfnzUG7jXn/M//4/NbI8Mxv2vNOeX5yiu8CBAgQIAAAQIECBAgQIAAAQIECBAgQIAAgVIITBEMlKLOFkmAAAECBAgQIECAAAECBAgQIECAAAECBEYEBAM+CAQIECBAgAABAgQIECBAgAABAgQIECBAoEQCgoESFdtSCRAgQIAAAQIECBAgQIAAAQIECBAgQICAYMBngAABAgQIECBAgAABAgQIECBAgAABAgQIlEhAMFCiYlsqAQIECBAgQIAAAQIECBAgQIAAAQIECBAQDPgMECBAgAABAgQIECBAgAABAgQIECBAgACBEgkIBkpUbEslQIAAAQIECBAgQIAAAQIECBAgQIAAAQKCAZ8BAgQIECBAgAABAgQIECBAgAABAgQIECBQIgHBQImKbakECBAgQIAAAQIECBAgQIAAAQIECBAgQEAw4DNAgAABAgQIECBAgAABAgQIECBAgAABAgRKJCAYKFGxLZUAAQIECBAgQIAAAQIECBAgQIAAAQIECAgGfAYIECBAgAABAgQIECBAgAABAgQIECBAgECJBAQDJSq2pRIgQIAAAQIECBAgQIAAAQIECBAgQIAAAcGAzwABAgQIECBAgAABAgQIECBAgAABAgQIECiRgGCgRMW2VAIECBAgQIAAAQIECBAgQIAAAQIECBAgIBjwGSBAgAABAgQIECBAgAABAgQIECBAgAABAiUSEAyUqNiWSoAAAQIECBAgQIAAAQIECBAgQIAAAQIEBAM+AwQIECBAgAABAgQIECBAgAABAgQIECBAoEQCgoESFdtSCRAgQIAAAQIECBAgQIAAAQIECBAgQICAYMBngAABAgQIECBAgAABAgQIECBAgAABAgQIlEhAMFCiYlsqAQIECBAgQIAAAQIECBAgQIAAAQIECBAQDPgMECBAgAABAgQIECBAgAABAgQIECBAgACBEgkIBkpUbEslQIAAAQIECBAgQIAAAQIECBAgQIAAAQKCAZ8BAgQIECBAgAABAgQIECBAgAABAgQIECBQIgHBQImKbakECBAgQIAAAQIECBAgQIAAAQIECBAgQEAw4DNAgAABAgQIECBAgAABAgQIECBAgAABAgRKJCAYKFGxLZUAAQIECBAgQKD4Art3744NGzbEvn37YvHixTF//vziL9oKCRAgQIAAAQIECBBoSUAw0BKXxgQIECBAgAABAgSyK/D888/H1KlTqyZ46NChCftGGyTtk9eUKVNGd2X2b57mmllEEyNAgAABAgQIECDwcwHBgI8CAQIECBAgQIBArgQ2b94c27dvT53zzJkzY8aMGTF37tyYPXt23QviqScXYOfw8HBMmzataiVpwUDS7qSTTor169ePtd27d28MDQ2NbWflTZ7mmhUz8yBAgAABAgQIECAwmYBgYDIhxwkQIECAAAECBDIjcP/998fKlSubns+SJUviL/7iL+Kiiy5q+pw8N2z2FwNJILB06dKqpd5yyy1xySWXVO3Lwkae5poFL3MgQIAAAQIECBAg0IyAYKAZJW0IECBAgAABAgQyIXD99dfH+9///rbmsm3btsLfb7/ZYODJJ58cef7AeMi77rorzj333PG7evI+efZB8hyE5HXkkUdO+quOQc61JwA6JUCAAAECBAgQIJABAcFABopgCgQIECBAgAABAs0JfOYzn4mrr766ucYprTZt2hSLFi1KOVKMXZ0EA2vWrIlly5b1FKJ2fvPmzat7W6jRiaQFA/2Y6+j4/hIgQIAAAQIECBAoooBgoIhVtSYCBAgQIECAQEEFaoOBq666auRWQcl99JP/kvvkJ88f+PznPx833HBDqkJycbqor9oL78k6054xkOy/9dZb49vf/nY89dRTcfHFF8cVV1yR7O7pq3Z+y5cvjwcffHDSMQcx10knpQEBAgQIECBAgACBHAsIBnJcPFMnQIAAAQIECJRNoDYY+PSnPx3vfOc7UxmSW9bMmjVrwrFvfetbcf7550/YX4QdtRfekzXVCwYGsd7a+SXPgFi3bt0gpmJMAgQIECBAgAABAqUWEAyUuvwWT4AAAQIECBDIl0BtMHDdddfFqlWr6i4iuZf97Nmzq44X+WJ07YX3ZOFZDgaa/cVAVQFtECBAgAABAgQIECDQsYBgoGNCHRAgQIAAAQIECPRLoNVgIJnX29/+9pFbC43OsVEwMDw8PNJs6tSpo81H/ia3J9q8efPI+5e85CUxZ86cquNpG0lfW7dujY0bN44cHhoaGnm+wfz589OaN70vmcuGDRvG+nzpS18aSd/JKxlz2rRpI+9H/6dRMFBvvaPn1vt78ODBePrpp2PXrl0xc+bMkYcIN/Mg4eS8GTNmjHXbqBZjjX7+pt25JqeP1i/5FUnySuqX1HHUbWRnE//TaA7J52O01kn/ixcvjunTpzfRqyYECBAgQIAAAQIE+i8gGOi/uREJECBAgAABAgTaFGgnGHj44YfjjDPOqBoxucA7ZcqUqn3JBfsdO3aM7Hvzm98cf/M3fzNyQXnBggVV7ZKNCy+8MG677bYJ+5Md69evj7e+9a1x5513ph5Pdr73ve+N5NcOtQFEvROSXwJce+21I/+ltTnvvPPi9ttvH7ngXbuuesHA+PUmfaaZ1I51xx13xO/8zu+MrLH2WLKdzONLX/pSJBf8R19r166NU089dXSzqb+1t3tqZ67Jhfp3v/vdcfPNNzccM6lDUo/JajF+DqOfj6Tj2s/k+MESj3/6p3+Kww8/fPxu7wkQIECAAAECBAgMXEAwMPASmAABAgQIECBAgECzArUXYSe7lVDSb9qF6dqL4Mn2+G/aJxd0/+7v/i6OPvro1KnVuwVO7a8TUk8etzP55v/xxx8/bs/Et2m3Q5rY6oU9yTMXrr766qrDacFA7XqTE9LajXaUtD/ppJPqBgKj7Ub/Jg+F/tznPjeyef3118f73//+0UNN/R1f11bnmgzwkY98pG6IUm8CjWpRO4fk8/G//tf/Sn2GRVr/mzZtGvm1SNox+wgQIECAAAECBAgMQkAwMAh1YxIgQIAAAQIECLQl0E4wcNNNN8WVV145Nl7ybfbaB96m3Zt/7ISUN8mF4e9+97tVRy666KKRb+1X7fz5RjJm8kuCtNe2bdsi+TZ62qv2gnRam7R98+bNG/v1Q9oF/7T1prVL+k5rmzZm7b7RC+21Nattl7Z9zTXXjFzcT46ljV9vrkn7yy67bNJfCSTt0l7J52L8rx1G26TNYfRYs3+TWtb+mqPZc7UjQIAAAQIECBAg0G0BwUC3RfVHgAABAgQIECDQM4Hai8zjv1leb9DaC/aTBQPjL6qP9pn8QuBDH/pQ/J//83/ihhtuGLllzvhgoDZ8SM5LbjeU3I5o9HkEycXl5DY740OKpF0yXnIP/LRXvYvc9913X7ziFa+IZ599Nj784Q9XPUOhtp+0i+hpF7rT2iV91fsVxJo1a+Lkk0+OAwcOjPwq4/LLL4/Vq1ePDT96kT15rkByO53DDjsskhDk0ksvHWuTvEluGzT+tWfPnnjDG94wdvudVuaaVoek7xtvvDEuvvjikQdRJ/NNbi/167/+66lhTTJe7SttDuPbJEFRUtvkFyb33HNPXHDBBeMPj7z/+te/Hsln0YsAAQIECBAgQIBAFgQEA1mogjkQIECAAAECBAg0JdBqMJB8S3/p0qVVfY//NvrogdoLv+PDgcnCh9pzkz6Te9b/yZ/8yWj3VX/T5jT67frxDZMH5c6aNWv8rpFvs9f+2iFpkNbn6IlpF/zT5pzWLu02RvVuo5SMN/55DklwsGzZstFpjP0d/635Rn2NntDsXOv9uiIJAuo9BDgt9Ei7gJ82h9H51T4PIdmfNpe0QGq0D38JECBAgAABAgQI9FtAMNBvceMRIECAAAECBAi0LVAbDCT31H/nO9+Z2t+TTz4ZixcvnnBs165dY99GHz1Y78Jvowv8o+feeuutVd+Cb/QLgNFz3ve+94388mB0O+1hxrX9Jm3T5j7ax86dO2Pu3Lmjm2N/0y74p603rV3a8wGScxu9kl8IPPjgg7FixYoJt86pHbeZi+W15yRjp801eRj0G9/4xqqpNfIabZgER0mwMvpKq1/aHJL2Dz300MgvN0bPHf/37rvvjte97nXjd6XOu6qBDQIECBAgQIAAAQJ9EhAM9AnaMAQIECBAgAABAp0L1AYDyYX75Bv9ybfCk4cH79+/P5Jv3ye3+/n85z8/YcB63/5Pu/CbdoF4QoeVHbUXltO+QV57Xu1F/LQL5GeeeWbVrXnGP9C3tr/R7c2bN094YHLaRfS09aa1S559sGPHjtHuo1EQM9aowZvacdPWXXt67TnJ8Wbm2oxX0tf9998fK1euTN6OvWqf+5A2h8nqnAQkM2bMGOszeZM276oGNggQIECAAAECBAj0SUAw0CdowxAgQIAAAQIECHQuUBsMtNJjo9vWpF34rb04nDZW2nnNPmR2/C11akOItH7r3Zpn/LzSzku7GN1Mu7Tb4STPNBh9ZsL4cZt9Xztut4KBtLlu2rQpFi1aNOnU0s4dfT7C6Mm18072N1Pn2mAlrRajY/hLgAABAgQIECBAoJ8CgoF+ahuLAAECBAgQIECgI4F2g4G05wqMn0i7F37TzktuC3TqqaeO737C++Qi/+233161f/xF47SL1eOPV504biNtPmnnNdMu7VZMaX2NG37St7XjdisYSPt2fjMX7kcnXPvrjGaCgWYsavtt5pzROflLgAABAgQIECBAoJcCgoFe6uqbAAECBAgQIECgqwKtBgPJ7WQ+8YlPRPLN7Uav2gvWSdtmLuKmPZy30TiNjo0fr935NHteM+3SgoHkvE5eteN2KxhIe/jyeM/J5lx7Ab/2lkm18076a6b/2n6bOWeyuTpOgAABAgQIECBAoBsCgoFuKOqDAAECBAgQIECgLwK1wUDy7fxPfepTkdyzf/SV3Orm6KOPnvCA4dHjaX/bvfCbdkE6rf9m9o2/6N7ufJo9r5l2tcFAo1sxNbO+pE3tuN0KBjqd6/jbOiXzrH1+QO28kzbNXOQXDCRSXgQIECBAgAABAlkUEAxksSrmRIAAAQIECBAgkCpQGwzUfrM79aQmdrZ74Xf79u2xYMGCqhGSOZ1xxhmxd+/eqv2NNs4+++yqe/e3O59mz2umXe3F9mT+yXmdvGrH7VYwkBbQNHPhfnQttRfwv/71r8dFF100enhCoJEcaKb/2n6bOWdsUG8IECBAgAABAgQI9FBAMNBDXF0TIECAAAECBAh0V6A2GLjuuuti1apVHQ9Se8E66bCZi7hp53V68TwZO63fAwcOxPTp05PDdV9p56Wto5l2mzdvHvnlxfjB0voaf3yy97XjdisYSAtoWplr7QX8DRs2xPHHHz+2nNp5Jwea6b+232bOGRvUGwIECBAgQIAAAQI9FBAM9BBX1wQIECBAgAABAt0VyFowkPaQ4F27drV0G6M0obR+kwcWL1u2LK151b7a2+KkXYxu5kJ3WptO11bbZzO3J6o9J1ls7ZrS2tRe3K9CGreRZu3hw+OAvCVAgAABAgQIECikgGCgkGW1KAIECBAgQIBAMQWyFgwkysmDjXfs2DEGfuONN8YVV1wxtt3um9p+r7nmmvjIRz7SsLu1a9fGqaeeWtWm9iJ6cjDtQnptu7QL5p3euilt3GRfo1faObVzTWvTjFcy7h133BEXXHBB1RSa6b+2TVUHP9/wi4E0FfsIECBAgAABAgSyICAYyEIVzIEAAQIECBAgQKApgSwGA29/+9vj85//fNX8J7vYXdW4zkYSAlx77bVVRxtdjE57JkBycto5aRfS09ol99m//fbbq+aQBAa1v0oY3yC5rc8XvvCFuPrqqyf8cqLZccf31+w5aXVInvMwNDQ0vrsJ72vX8uY3vzn+5m/+pqpds3OoOqmyIRioFbFNgAABAgQIECCQFQHBQFYqYR4ECBAgQIAAAQKTCmQxGNi5c2fMnTu3au7N3CInOSG5mP+DH/yg6kG3ox2lXei/8MIL47bbbhttMvb3/vvvj5UrV45tj3+TdsG/2Qvdab9AOO+88+K73/3u+CHG3o//9n3t7XiSRmm/Qrjrrrvi3HPPHeuj9k2zc017JsK8efNi69atMXXq1NpuR7ZrL9wnO7dt2zbyK5DxJzQ7h/HnJO9r+0+rRe05tgkQIECAAAECBAj0Q0Aw0A9lYxAgQIAAAQIECHRFIIvBQLKwyy67LG6++eYJa/zWt74Vr3nNa+Kwww4b+Zb9wYMH4+mnn46vfe1r8d/+238buwVR2sXopLPa2wkl+5IH9n7zm9+MxYsXx6ZNm+JDH/pQ6thJ2+SVdjG6lQvdaXNI+v36178er371q5O3sXr16vj1X//1sfUk++rd43/p0qWxfv36pMnYKwkHXvnKV8Y999wT73vf++JP/uRP4vzzzx853spcay/Ejw6Q3N7p4osvHqnDnj174l/+5V/ijW984+jhsb9pvxZIDrYyh7HOKm9q55NWi/HtvSdAgAABAgQIECDQLwHBQL+kjUOAAAECBAgQINCxQFaDgbRvwrey2LRv1yfnp30LvpV+k7ZpF6NbudDd7hzqremmm26KK6+8suEybrnllrjkkktG2rQy1yR4mTFjRsO+6x1MApdkzmmvVuYw/nzBwHgN7wkQIECAAAECBLIkIBjIUjXMhQABAgQIECBAoKFAr4KBtAv7aRfUG00uuXh81llnjXx7vlG7tGPJufVejW4TVHtO8suD5FcKl1566dihtHW0ut7kG/7JN/2bfTV68G/aRfbafq+77rpYtWrVyO5W55qEA4sWLar69UJt/7Xb9X4pMNqu1TmMnicYGJXwlwABAgQIECBAIGsCgoGsVcR8CBAgQIAAAQIE6gok99cffwuY5BYxV1xxRd32rRyovWVOcjG49sG0zfSXXMh/29veNmlAkDwv4AMf+EDD++uPjpc80PdNb3pT3HnnnaO7qv4mF+KT/5L53nrrrVXBQL11tLre5IL7Bz/4wbjhhhuqxh6/cdVVV43cBmjOnDnjd094n8zpl3/5l+uuJ7lFUnJxf/TV6lyT85LPyu///u9PuG3RaJ/J36QGn/rUp0ZuzzR+f9r7dubw+te/vmqN9WqRNp59BAgQIECAAAECBHopIBjopa6+CRAgQIAAAQIEui6QfOM8+S+5CN7OhftGE0ou3Caveg+rbXRu7bGkr2eeeWbkdkCjx2bPnh0LFy6MoaGh0V0t/R19RsGuXbtGzksuVo+/gD7a2ajRZOtod73JA5f//d//fWS4ZE3JPA4//PDR4Zv+m4yfPBx4//79I+c06qfduSZmSbCS/Df6SsySBxO3+vlpZw7tnDM6T38JECBAgAABAgQI9EpAMNArWf0SIECAAAECBAgQIECAAAECBAgQIECAAIEMCggGMlgUUyJAgAABAgQIECBAgAABAgQIECBAgAABAr0SEAz0Sla/BAgQIECAAAECBAgQIECAAAECBAgQIEAggwKCgQwWxZQIECBAgAABAgQIECBAgAABAgQIECBAgECvBAQDvZLVLwECBAgQIECAAAECBAgQIECAAAECBAgQyKCAYCCDRTElAgQIECBAgAABAgQIECBAgAABAgQIECDQKwHBQK9k9UuAAAECBAgQIECAAAECBAgQIECAAAECBDIoIBjIYFFMiQABAgQIECBAgAABAgQIECBAgAABAgQI9EpAMNArWf0SIECAAAECBAgQIECAAAECBAgQIECAAIEMCggGMlgUUyJAgAABAgQIECBAgAABAgQIECBAgAABAr0SEAz0Sla/BAgQIECAAAECBAgQIECAAAECBAgQIEAggwKCgQwWxZQIECBAgAABAgQIECBAgAABAgQIECBAgECvBAQDvZLVLwECBAgQIECAAAECBAgQIECAAAECBAgQyKCAYCCDRTElAgQIECBAgAABAgQIECBAgAABAgQIECDQKwHBQK9k9UuAAAECBAgQIECAAAECBAgQIECAAAECBDIoIBjIYFFMiQABAgQIECBAgAABAgQIECBAgAABAgQI9EpAMNArWf0SIECAAAECBAgQIECAAAECBAgQIECAAIEMCggGMlgUUyJAgAABAgQIECBAgAABAgQIECBAgAABAr0SEAz0Sla/BAgQIECAAAECBAgQIECAAAECBAgQIEAggwKCgQwWxZQIECBAgAABAgQIECBAgAABAgQIECBAgECvBAQDvZLVLwECBAgQIECAAAECBAgQIECAAAECBAgQyKCAYCCDRTElAgQIECBAgAABAgQIECBAgAABAgQIECDQKwHBQK9k9UuAAAECBAgQIECAAAECBAgQIECAAAECBDIoIBjIYFFMiQABAgQIECBAgAABAgQIECBAgAABAgQI9EpAMNArWf0SIECAAAECBAgQIECAAAECBAgQIECAAIEMCggGMlgUUyJAgAABAgQIECBAgAABAgQIECBAgAABAr0SEAz0Sla/BAgQIECAAAECBAgQIECAAAECBAgQIEAggwKCgQwWxZQIECBAgAABAgQIECBAgAABAgQIECBAgECvBAQDvZLVLwECBAgQIECAAAECBAgQIECAAAECBAgQyKCAYCCDRTElAgQIECBAgAABAgQIECBAgAABAgQIECDQKwHBQK9k9UuAAAECBAgQIECAAAECBAgQIECAAAECBDIoIBjIYFFMiQABAgQIEMivwMGDB+Ppp5+OAwcOjCziyCOPjPnz5+d3QWZOgACBHAgk//bu378/Zs6cGdOnT8/BjE2RAAECBAgQIDBYAcHAYP2NToAAAQIECBREYPPmzfFrv/Zrceedd6au6L3vfW9cf/31MWXKlNTjdhIgQIBAewIf+chH4tprrx07+dChQzF16tSxbW8IECBAgAABAgQmCggGJprYQ4AAAQIECBBoSeD++++PlStXNnXO8PCwcKApKY0IECDQWGDt2rVx6qmnTmgkGJhAYgcBAgQIECBAYIKAYGACiR0ECBAgQIAAgeYFdu7cGXPnzq064cILL4zLL788Hn300apvsSaNzjvvvPjud79b1d4GAQIECDQvkASsb3nLW+Lmm29OPUkwkMpiJwECBAgQIECgSkAwUMVhgwABAgQIECDQmsCZZ54Zq1evHjtp3bp1sWTJkrHt559/Pk488cRYv3792L5NmzbFokWLxra9IUCAAIHmBHbv3h2zZ89u2Fgw0JDHQQIECBAgQIDAiIBgwAeBAAECBAgQINCmQO0FqhtvvDGuuOKKCb3VtrvmmmsiuSe2FwECBAi0JpCErEuXLh076a677opzzz236hZtgoExHm8IECBAgAABAnUFBAN1aRwgQIAAAQIECDQWuOOOO+KCCy4Ya9To+QGvf/3rxx5MnPyiIPllgRcBAgQItCbw5JNPxuLFiyMJWJP/kge6J//2Tps2bawjwcAYhTcECBAgQIAAgboCgoG6NA4QIECAAAECBBoLjL/Yv3z58njwwQfrnnDTTTfFlVdeOXbchasxCm8IECDQkUByy7apU6eO9eHf1zEKbwgQIECAAAECdQUEA3VpHCBAgAABAgQINBYY/3yB6667LlatWlX3hNFvuY42cOFqVMJfAgQIdCYgGOjMz9kECBAgQIBAOQUEA+Wsu1UTIECAAAECXRCYP39+7NixY6SnW265JS655JK6vW7fvj0WLFgwdnzDhg1x/PHHj217Q4AAAQLtCQgG2nNzFgECBAgQIFBuAcFAuetv9QQIECBAgECbArX3tJ7sQn/thavkGQPJswa8CBAgQKAzgdp/X/0iqzNPZxMgQIAAAQLlEBAMlKPOVkmAAAECBAh0WaD2QtRkF/prg4RNmzbFokWLujwr3REgQKB8ArX/HgsGyvcZsGICBAgQIECgdQHBQOtmziBAgAABAgQIRO2FqFaDgcl+YYCYAAECBJoTqP33WDDQnJtWBAgQIECAQLkFBAPlrr/VEyBAgAABAm0K1P4CYLJgoPbC1Zo1a2LZsmVtju40AgQIEBgVqP33VTAwKuMvAQIECBAgQKC+gGCgvo0jBAgQIECAAIG6ArUXoq677rpYtWpV3fabN2+Oo48+euz4rl274vDDDx/b9oYAAQIE2hOo/fdYMNCeo7MIECBAgACBcgkIBspVb6slQIAAAQIEuihw5plnxurVq0d6nCwYePLJJ2Px4sVjo7twNUbhDQECBDoSEAx0xOdkAgQIECBAoKQCgoGSFt6yCRAgQIAAgc4FxgcDy5cvjwcffLBupzfddFNceeWVY8eTWxFNmTJlbNsbAgQIEGhPQDDQnpuzCBAgQIAAgXILCAbKXX+rJ0CAAAECBDoQ+MxnPhNXX331WA+NLvaPDxEuvPDCuO2228bO84YAAQIE2hcQDLRv50wCBAgQIECgvAKCgfLW3soJECBAgACBDgXWr18fS5cuHevllltuiUsuuWRse/RN7W2E7rrrrjj33HNHD/tLgAABAh0I1D4M3q3aOsB0KgECBAgQIFAaAcFAaUptoQQIECBAgEAvBGpvB7Rhw4Y4/vjjx4bauXNnzJ07d2w7edPolwVVDW0QIECAQFMC4/8t9m9sU2QaESBAgAABAiUXEAyU/ANg+QQIECBAgEBnAnfccUdccMEFVZ2cd9558bKXvSySUODmm2+uOubXAlUcNggQINCSwMGDB+OUU04ZOefII48c+fvMM89E8guu0deSJUti9NhPf/rT+J//83/G+eefP3rYXwIECBAgQIAAgYqAYMDHgAABAgQIECDQocD73ve+uOGGGybt5brrrotVq1ZN2k4DAgQIEEgXqL2FW3qr6r033nhjXHHFFdU7bREgQIAAAQIESi4gGCj5B8DyCRAgQIAAge4I3H333XHRRRfFjh07JnS4fPnyuPXWW2PZsmUTjtlBgAABAs0L7N69O2bPnt38CZWWgoGWuDQmQIAAAQIESiIgGChJoS2TAAECBAgQ6I/Avn37IrlwldzuYvr06TFnzpyRv/0Z3SgECBAgQIAAAQIECBAgQGByAcHA5EZaECBAgAABAgQIECBAgAABAgQIECBAgACBwggIBgpTSgshQIAAAQIECBAgQIAAAQIECBAgQIAAAQKTCwgGJjfSggABAgQIECBAgAABAgQIECBAgAABAgQIFEZAMFCYUloIAQIECBAgQIAAAQIECBAgQIAAAQIECBCYXEAwMLmRFgQIECBAgAABAgQIECBAgAABAgQIECBAoDACgoHClNJCCBAgQIAAAQIECBAgQIAAAQIECBAgQIDA5AKCgcmNtCBAgAABAgQIECBAgAABAgQIECBAgAABAoUREAwUppQWQoAAAQIECBAgQIAAAQIECBAgQIAAAQIEJhcQDExupAUBAgQIECBAgAABAgQIECBAgAABAgQIECiMgGCgMKW0EAIECBAgQIAAAQIECBAgQIAAAQIECBAgMLmAYGByIy0IECBAgAABAgQIECBAgAABAgQIECBAgEBhBAQDhSmlhRAgQIAAAQIECBAgQIAAAQIECBAgQIAAgckFBAOTG2lBgAABAgQIECBAgAABAgQIECBAgAABAgQKIyAYKEwpLYQAAQIECBAgQIAAAQIECBAgQIAAAQIECEwuIBiY3EgLAgQIECBAgAABAgQIECBAgAABAgQIECBQGAHBQGFKaSEECBAgQIAAAQIECBAgQIAAAQIECBAgQGByAcHA5EZaECBAgAABAgQIECBAgAABAgQIECBAgACBwggIBgpTSgshQIAAAQIECBAgQIAAAQIECBAgQIAAAQKTCwgGJjfSggABAgQIECBAgAABAgQIECBAgAABAgQIFEZAMFCYUloIAQIECBAgQIAAAQIECBAgQIAAAQIECBCYXEAwMLmRFgQIECCQIYH/tOrODM3GVAgQIFBcgW9ef97I4v6/7/97cRdpZQQIEMiAwP919ksyMAtTIECAAIGyCQgGylZx6yVAgEDOBQQDOS+g6RMgkBsBwUBuSmWiBAjkXEAwkPMCmj4BAgRyKiAYyGnhTJsAAQJlFRAMlLXy1k2AQL8FBAP9FjceAQJlFRAMlLXy1k2AAIHBCggGButvdAIECBBoUUAw0CKY5gQIEGhTQDDQJpzTCBAg0KKAYKBFMM0JECBAoCsCgoGuMOqEAAECBPolIBjol7RxCBAou4BgoOyfAOsnQKBfAoKBfkkbhwABAgTGCwgGxmt4T4AAAQKZFxAMZL5EJkiAQEEEBAMFKaRlECCQeQHBQOZLZIIECBAopIBgoJBltSgCBAgUV0AwUNzaWhkBAtkSEAxkqx5mQ4BAcQUEA8WtrZURIEAgywKCgSxXx9wIECBAYIKAYGACiR0ECBDoiYBgoCesOiVAgMAEAcHABBI7CBAgQKAPAoKBPiAbggABAgS6JyAY6J6lnggQINBIQDDQSMcxAgQIdE9AMNA9Sz0RIECAQPMCgoHmrbQkQIAAgQwICAYyUARTIECgFAKCgVKU2SIJEMiAgGAgA0UwBQIECJRQQDBQwqJbMgECBPIsIBjIc/XMnQCBPAkIBvJULXMlQCDPAoKBPFfP3AkQIJBfAcFAfmtn5gQIECilgGCglGW3aAIEBiAgGBgAuiEJECilgGCglGW3aAIECAxcQDAw8BKYAAECBAi0IiAYaEVLWwIECLQvIBho386ZBAgQaEVAMNCKlrYECBAg0C0BwUC3JPVDgAABAn0REAz0hdkgBAgQCMGADwEBAgT6IyAY6I+zUQgQIECgWkAwUO1hiwABAgQyLiAYyHiBTI8AgcIICAYKU0oLIUAg4wKCgYwXyPQIECBQUAHBQEELa1kECBAoqoBgoKiVtS4CBLImIBjIWkXMhwCBogoIBopaWesiQIBAtgUEA9muj9kRIECAQI2AYKAGxCYBAgR6JCAY6BGsbgkQIFAjIBioAbFJgAABAn0REAz0hdkgBAgQINAtAcFAtyT1Q4AAgcYCgoHGPo4SIECgWwKCgW5J6ocAAQIEWhEQDLSipS0BAgQIDFxAMDDwEpgAAQIlERAMlKTQlkmAwMAFBAMDL4EJECBAoJQCgoFSlt2iCRAgkF8BwUB+a2fmBAjkS0AwkK96mS0BAvkVEAzkt3ZmToAAgTwLCAbyXD1zJ0CAQAkFBAMlLLolEyAwEAHBwEDYDUqAQAkFBAMlLLolEyBAIAMCgoEMFMEUCBAgQKB5AcFA81ZaEiBAoBMBwUAnes4lQIBA8wKCgeattCRAgACB7gkIBrpnqScCBAgQ6IOAYKAPyIYgQIBARUAw4GNAgACB/ggIBvrjbBQCBAgQqBYQDFR72CJAgACBjAsIBjJeINMjQKAwAoKBwpTSQggQyLiAYCDjBTI9AgQIFFRAMFDQwloWAQIEiiogGChqZa2LAIGsCQgGslYR8yFAoKgCgoGiVta6CBAgkG0BwUC262N2BAgQIFAjIBioAbFJgACBHgkIBnoEq1sCBAjUCAgGakBsEiBAgEBfBAQDfWE2CAECBAh0S0Aw0C1J/RAgQKCxgGCgsY+jBAgQ6JaAYKBbkvohQIAAgVYEBAOtaGlLgAABAgMXEAwMvAQmQIBASQQEAyUptGUSIDBwAcHAwEtgAgQIECilgGCglGW3aAIECORXQDCQ39qZOQEC+RIQDOSrXmZLgEB+BQQD+a2dmRMgQCDPAoKBPFfP3AkQIFBCAcFACYtuyQQIDERAMDAQdoMSIFBCAcFACYtuyQQIEMiAgGAgA0UwBQIECBBoXkAw0LyVlgQIEOhEQDDQiZ5zCRAg0LyAYKB5Ky0JECBAoHsCgoHuWeqJAAECBPogIBjoA7IhCBAgUBEQDPgYECBAoD8CgoH+OBuFAAECBKoFBAPVHrYIECBAIOMCgoGMF8j0CBAojIBgoDCltBACBDIuIBjIeIFMjwABAgUVEAwUtLCWRYAAgaIKCAaKWlnrIkAgawKCgaxVxHwIECiqgGCgqJW1LgIECGRbQDCQ7fqYHQECBAjUCAgGakBsEiBAoEcCgoEeweqWAAECNQKCgRoQmwQIECDQFwHBQF+YDUKAAAEC3RIQDHRLUj8ECBBoLCAYaOzjKAECBLolIBjolqR+CBAgQKAVAcFAK1raEiBAgMDABQQDAy+BCRAgUBIBwUBJCm2ZBAgMXEAwMPASmAABAgRKKSAYKGXZLZoAAQL5FRAM5Ld2Zk6AQL4EBAP5qpfZEiCQXwHBQH5rZ+YECBDIs4BgIM/VM3cCBAiUUEAwUMKiWzIBAgMREAwMhN2gBAiUUEAwUMKiWzIBAgQyICAYyEARTIEAAQIEmhcQDDRvpSUBAgQ6ERAMdKLnXAIECDQvIBho3kpLAgQIEOiegGCge5Z6IkCAAIE+CAgG+oBsCAIECFQEBAM+BgQIEOiPgGCgP85GIUCAAIFqAcFAtYctAgQIEMi4gGAg4wUyPQIECiMgGChMKS2EAIGMCwgGMl4g0yNAgEBBBQQDBS2sZREgQKCoAoKBolbWuggQyJqAYCBrFTEfAgSKKiAYKGplrYsAAQLZFhAMZLs+ZkeAAAECNQKCgRoQmwQIEOiRgGCgR7C6JUCAQI2AYKAGxCYBAgQI9EVAMNAXZoMQIECAQLcEBAPdktQPAQIEGgsIBhr7OEqAAIFuCQgGuiWpHwIECBBoRUAw0IqWtgQIECAwcAHBwMBLYAIECJREQDBQkkJbJgECAxcQDAy8BCZAgACBUgoIBkpZdosmQIBAfgUEA/mtnZkTIJAvAcFAvupltgQI5FdAMJDf2pk5AQIE8iwgGMhz9cydAAECJRQQDJSw6JZMgMBABAQDA2E3KAECJRQQDJSw6JZMgACBDAgIBjJQBFMgQIAAgeYFBAPNW2lJgACBTgQEA53oOZcAAQLNCwgGmrfSkgABAgS6JyAY6J6lnggQIECgDwKCgT4gG4IAAQIVAcGAjwEBAgT6IyAY6I+zUQgQIECgWkAwUO1hiwABAgQyLiAYyHiBTI8AgcIICAYKU0oLIUAg4wKCgYwXyPQIECBQUAHBQEELa1kECBAoqoBgoKiVtS4CBLImIBjIWkXMhwCBogoIBopaWesiQIBAtgUEA9muj9kRIECAQI2AYKAGxCYBAgR6JCAY6BGsbgkQIFAjIBioAbFJgAABAn0REAz0hdkgBAgQINAtAcFAtyT1Q4AAgcYCgoHGPo4SIECgWwKCgW5J6ocAAQIEWhEQDLSipS0BAgQIDFxAMDDwEpgAAQIlERAMlKTQlkmAwMAFBAMDL4EJECBAoJQCgoFSlt2iCRAgkF8BwUB+a2fmBAjkS0AwkK96mS0BAvkVEAzkt3ZmToAAgTwLCAbyXD1zJ0CAQAkFBAMlLLolEyAwEAHBwEDYDUqAQAkFBAMlLLolEyBAIAMCgoEMFMEUCBAgQKB5AcFA81ZaEiBAoBMBwUAnes4lQIBA8wKCgeattCRAgACB7gkIBrpnqScCBAgQ6IOAYKAPyIYgQIBARUAw4GNAgACB/ggIBvrjbBQCBAgQqBYQDFR72CJAgACBjAsIBjJeINMjQKAwAoKBwpTSQggQyLiAYCDjBTI9AgQIFFRAMFDQwloWAQIEiiogGChqZa2LAIGsCQgGslYR8yFAoKgCgoGiVta6CBAgkG0BwUC262N2BAgQIFAjIBioAbFJgACBHgkIBnoEq1sCBAjUCAgGakBsEiBAgEBfBAQDfWE2CAECBAh0S0Aw0C1J/RAgQKCxgGCgsY+jBAgQ6JaAYKBbkvohQIAAgVYEBAOtaGlLgAABAgMXEAwMvAQmQIBASQQEAyUptGUSIDBwAcHAwEtgAgQIECilgGCglGW3aAIECORXQDCQ39qZOQEC+RIQDOSrXmZLgEB+BQQD+a2dmRMgQCDPAoKBPFfP3AkQIFBCAcFACYtuyQQIDERAMDAQdoMSIFBCAcFACYtuyQQIEMiAgGAgA0UwBQIECBBoXkAw0LyVlgQIEOhEQDDQiZ5zCRAg0LyAYKB5Ky0JECBAoHsCgoHuWeqJAAECBPogIBjoA7IhCBAgUBEQDPgYECBAoD8CgoH+OBuFAAECBKoFBAPVHrYIECBAIOMCgoGMF8j0CBAojIBgoDCltBACBDIuIBjIeIFMjwABAgUVEAwUtLCWRYAAgaIKCAaKWlnrIkAgawKCgaxVxHwIECiqgGCgqJW1LgIECGRbQDCQ7fqYHQECBAjUCAgGakBsEiBAoEcCgoEeweqWAAECNQKCgRoQmwQIECDQFwHBQF+YDUKAAAEC3RIQDHRLUj8ECBBoLCAYaOzjKAECBLolIBjolqR+CBAgQKAVAcFAK1raEiBAgMDABQQDAy+BCRAgUBIBwUBJCm2ZBAgMXEAwMPASmAABAgRKKSAYKGXZLZoAAQL5FRAM5Ld2Zk6AQL4EBAP5qpfZEiCQXwHBQH5rZ+YECBDIs4BgIM/VM3cCBAiUUEAwUMKiWzIBAgMREAwMhN2gBAiUUEAwUMKiWzIBAgQyICAYyEARTIEAAQIEmhcQDDRvpSUBAgQ6ERAMdKLnXAIECDQvIBho3kpLAgQIEOiegGCge5Z6IkCAAIE+CAgG+oBsCAIECFQEBAM+BgQIEOiPgGCgP85GIUCAAIFqAcFAtYctAgQIEMi4gGAg4wUyPQIECiMgGChMKS2EAIGMCwgGMl4g0yNAgEBBBQQDBS2sZREgQKCoAoKBolbWuggQyJqAYCBrFTEfAgSKKiAYKGplrYsAAQLZFhAMZLs+ZkeAAAECNQKCgRoQmwQIEOiRgGCgR7C6JUCAQI2AYKAGxCYBAgQI9EVAMNAXZoMQIECAQLcEBAPdktQPAQIEGgsIBhr7OEqAAIFuCQgGuiWpHwIECBBoRUAw0IqWtgQIECAwcAHBwMBLYAIECJREQDBQkkJbJgECAxcQDAy8BCZAgACBUgoIBkpZdosmQIBAfgUEA/mtnZkTIJAvAcFAvupltgQI5FdAMJDf2pk5AQIE8iwgGMhz9cydAAECJRQQDJSw6JZMgMBABAQDA2E3KAECJRQQDJSw6JZMgACBDAgIBjJQBFMgQIAAgeYFBAPNW2lJgACBTgQEA53oOZcAAQLNCwgGmrfSkgABAgS6JyAY6J6lnggQIECgDwKCgT4gG4IAAQIVAcGAjwEBAgT6IyAY6I+zUQgQIECgWkAwUO1hiwABAgQyLiAYyHiBTI8AgcIICAYKU0oLIUAg4wKCgYwXyPQIECBQUAHBQEELa1kECBAoqoBgoKiVtS4CBLImIBjIWkXMhwCBogoIBopaWesiQIBAtgUEA9muj9kRIECAQI2AYKAGxCYBAgR6JCAY6BGsbgkQIFAjIBioAbFJgAABAn0REAz0hdkgBAgQINAtAcFAtyT1Q4AAgcYCgoHGPo4SIECgWwKCgW5J6ocAAQIEWhEQDLSipS0BAgQIDFxAMDDwEpgAAQIlERAMlKTQlkmAwMAFBAMDL4EJECBAoJQCgoFSlt2iCRAgkF8BwUB+a2fmBAjkS0AwkK96mS0BAvkVEAzkt3ZmToAAgTwLCAbyXD1zJ0CAQAkFBAMlLLolEyAwEAHBwEDYDUqAQAkFBAMlLLolEyBAIAMCgoEMFMEUCBAgQKB5AcFA81ZaEiBAoBMBwUAnes4lQIBA8wKCgeattCRAgACB7gkIBrpnqScCBAgQ6IOAYKAPyIYgQIBARUAw4GNAgACB/ggIBvrjbBQCBAgQqBYQDFR72CJAgACBjAsIBjJeINMjQKAwAoKBwpTSQggQyLiAYCDjBTI9AgQIFFRAMFDQwloWAQIEiiogGChqZa2LAIGsCQgGslYR8yFAoKgCgoGiVta6CBAgkG0BwUC262N2BAgQIFAjIBioAbFJgACBHgkIBnoEq1sCBAjUCAgGakBsEiBAgEBfBAQDfWE2CAECBAh0S0Aw0C1J/RAgQKCxgGCgsY+jBAgQ6JaAYKBbkvohQIAAgVYEBAOtaGlLgAABAgMXEAwMvAQmQIBASQQEAyUptGUSIDBwAcHAwEtgAgQIECilgGCglGW3aAIECORXQDCQ39qZOQEC+RIQDOSrXmZLgEB+BQQD+a2dmRMgQCDPAoKBPFfP3AkQIFBCAcFACYtuyQQIDERAMDAQdoMSIFBCAcFACYtuyQQIEMiAgGAgA0UwBQIECBBoXkAw0LyVlgQIEOhEQDDQiZ5zCRAg0LyAYKB5Ky0JECBAoHsCgoHuWeqJAAECBPogIBjoA7IhCBAgUBEQDPgYECBAoD8CgoH+OBuFAAECBKoFBAPVHrYIECBAIOMCgoGMF8j0CBAojIBgoDCltBACBDIuIBjIeIFMjwABAgUVEAwUtLCWRYAAgaIKCAaKWlnrIkAgawKCgaxVxHwIECiqgGCgqJW1LgIECGRbQDCQ7fqYHQECBAjUCAgGakBsEiBAoEcCgoEeweqWAAECNQKCgRoQmwQIECDQFwHBQF+YDUKAAAEC3RIQDHRLUj8ECBBoLCAYaOzjKAECBLolIBjolqR+CBAgQKAVAcFAK1raEiBAgMDABQQDAy+BCRAgUBIBwUBJCm2ZBAgMXEAwMPASmAABAgRKKSAYKGXZLZoAAQL5FRAM5Ld2Zk6AQL4EBAP5qpfZEiCQXwHBQH5rZ+YECBDIs4BgIM/VM3cCBAiUUEAwUMKiWzIBAgMREAwMhN2gBAiUUEAwUMKiWzIBAgQyICAYyEARTIEAAQIEmhcQDDRvpSUBAgQ6ERAMdKLnXAIECDQvIBho3kpLAgQIEOiegGCge5Z6IkCAAIE+CAgG+oBsCAIECFQEBAM+BgQIEOiPgGCgP85GIUCAAIFqAcFAtYctAgQIEMi4gGAg4wUyPQIECiMgGChMKS2EAIGMCwgGMl4g0yNAgEBBBQQDBS2sZREgQKCoAoKBolbWuggQyJqAYCBrFTEfAgSKKiAYKGplrYsAAQLZFhAMZLs+ZkeAAAECNQKCgRoQmwQIEOiRgGCgR7C6JUCAQI2AYKAGxCYBAgQI9EVAMNAXZoMQIECAQLcEBAPdktQPAQIEGgsIBhr7OEqAAIFuCQgGuiWpHwIECBBoRUAw0IqWtgQIECAwcAHBwMBLYAIECJREQDBQkkJbJgECAxcQDAy8BCZAgACBUgoIBkpZdosmQIBAfgUEA/mtnZkTIJAvAcFAvupltgQI5FdAMJDf2pk5AQIE8iwgGMhz9cydAAECJRQQDJSw6JZMgMBABAQDA2E3KAECJRQQDJSw6JZMgACBDAgIBjJQBFMgQIAAgeYFBAPNW2lJgACBTgQEA53oOZcAAQLNCwgGmrfSkgABAgS6JyAY6J6lnggQIECgDwKCgT4gG4IAAQIVAcGAjwEBAgT6IyAY6I+zUQgQIECgWkAwUO1hiwABAgQyLiAYyHiBTI8AgcIICAYKU0oLIUAg4wKCgYwXyPQIECBQUAHBQEELa1kECBAoqoBgoKiVtS4CBLImIBjIWkXMhwCBogoIBopaWesiQIBAtgUEA9muj9kRIECAQI2AYKAGxCYBAgR6JCAY6BGsbgkQIFAjIBioAbFJgAABAn0REAz0hdkgBAgQINAtAcFAtyT1Q4AAgcYCgoHGPo4SIECgWwKCgW5J6ocAAQIEWhEQDLSipS0BAgQIDFxAMDDwEpgAAQIlERAMlKTQlkmAwMAFBAMDL4EJECBAoJQCgoFSlt2iCRAgkF8BwUB+a2fmBAjkS0AwkK96mS0BAvkVEAzkt3ZmToAAgTwLCAbyXD1zJ0CAQAkFBAMlLLolEyAwEAHBwEDYDUqAQAkFBAMlLLolEyBAIAMCgoEMFMEUCBAgQKB5AcFA81ZaEiBAoBMBwUAnes4lQIBA8wKCgeattCRAgACB7gkIBrpnqScCBAgQ6IOAYKAPyIYgQIBARUAw4GNAgACB/ggIBvrjbBQCBAgQqBYQDFR72CJAgACBjAsIBjJeINMjQKAwAoKBwpTSQggQyLiAYCDjBTI9AgQIFFRAMFDQwloWAQIEiiogGChqZa2LAIGsCQgGslYR8yFAoKgCgoGiVta6CBAgkG0BwUC262N2BAgQIFAjIBioAbFJgACBHgkIBnoEq1sCBAjUCAgGakBsEiBAgEBfBAQDfWE2CAECBAh0S0Aw0C1J/RAgQKCxgGCgsY+jBAgQ6JaAYKBbkvohQIAAgVYEBAOtaGlLgAABAgMXEAwMvAQmQIBASQQEAyUptGUSIDBwAcHAwEtgAgQIECilgGCglGW3aAIECORXQDCQ39qZOQEC+RIQDOSrXmZLgEB+BQQD+a2dmRMgQCDPAoKBPFfP3AkQIFBCAcFACYtuyQQIDERAMDAQdoMSIFBCAcFACYtuyQQIEMiAgGAgA0UwBQIECBBoXkAw0LyVlgQIEOhEQDDQiZ5zCRAg0LyAYKB5Ky0JECBAoHsCgoHuWeqJAAECBPogIBjoA7IhCBAgUBEQDPgYECBAoD8CgoH+OBuFAAECBKoFBAPVHrYIECBAIOMCgoGMF8j0CBAojIBgoDCltBACBDIuIBjIeIFMjwABAgUVEAwUtLCWRYAAgaIKCAaKWlnrIkAgawKCgaxVxHwIECiqgGCgqJW1LgIECGRbQDCQ7fqYHQECBAjUCAgGakBsEiBAoEcCgoEeweqWAAECNQKCgRoQmwQIECDQFwHBQF+YDUKAAAEC3RIQDHRLUj8ECBBoLCAYaOzjKAECBLolIBjolqR+CBAgQKAVAcFAK1raEiBAgMDABQQDAy+BCRAgUBIBwUBJCm2ZBAgMXEAwMPASmAABAgRKKSAYKGXZLZoAAQL5FRAM5Ld2Zk6AQL4EBAP5qpfZEiCQXwHBQH5rZ+YECBDIs4BgIM/VM3cCBAiUUEAwUMKiWzIBAgMREAwMhN2gBAiUUEAwUMKiWzIBAgQyICAYyEARTIEAAQIEmhcQDDRvpSUBAgQ6ERAMdKLnXAIECDQvIBho3kpLAgQIEOiegGCge5Z6IkCAAIE+CAgG+oBsCAIECFQEBAM+BgQIEOiPgGCgP85GIUCAAIFqAcFAtYctAgQIEMi4gGAg4wUqwPTmLJwdKxcPxZzDpsfQ2HqGY+czB2PTpl3xwJYDY3t79ebY4+bEeS+fH7+4dG4cc9RQzB+aGdOnxch/Bw8low7H3n0HY+eze+LJDc/GQ2u3x/cf3RUbezUh/ZZSQDBQyrLnYtEzZ82IRUcOxVFzZ8TsWdPisMo/kFOnREydWvnXcThZwvNx8NBw7Ev+nXzuQGx5dl9se/Zg7M/F6kyyjAKCgTJW3ZoJECAweAHBwOBrYAYECBAg0IKAYKAFLE1bFJgd135gebx64fTG5+3bFV/+zAPxlacaN2v56MI58Xu/+tI492ULYt6LiUQL3QzHxp9uin/85rq49bHehxctTEzTnAoIBnJauKJOe+aMOHnxEXHCgllRyQLaeD1fCXj3xBMbdsaTz42kB2304RQCvREQDPTGVa8ECBAg0FhAMNDYx1ECBAgQyJiAYCBjBSnQdN7ytnPi8lNnNLWix75xX7zr23uaajt5o6H4rbe8LC5dfuTkTZtsseOnG+K6//eJeGBfkydoRiBFQDCQgmLXAASmxZIT58Vpi2Z2bey9zzwX96/dGc/KB7pmqqPOBAQDnfk5mwABAgTaExAMtOfmLAIECBAYkIBgYEDwRR92yZL4x6tPiEl+KzCm8KPb7ov33NmFYOC4Y+OL71wWlTsX9eC1L26/8QfxqUf9eqAHuKXoUjBQijJne5GzDovXnj4vTGHtiQAAQABJREFUjmzrFwKTLe1QrP3RlviJdGAyKMf7ICAY6AOyIQgQIEBggoBgYAKJHQQIECCQZQHBQJark9e5zYg//NA5ce785uffjWBgzilL4itXnRCzmh+2jZbD8c0b74k/fdTXYtvAK/0pgoHSfwQGCjDtiCPiDb84p+nAtr3JPh+P/+jpWPPs8+2d7iwCXRIQDHQJUjcECBAg0JKAYKAlLo0JECBAYNACgoFBV6B445/2htPjz351QUsL6zgYGFoQX/rY6XFs06MOx8F9lYv706dWHkBcebpmK69Dz8Qff3B1fK+Vc7QlUBEQDPgYDExg6lC8buWCmNP0BJ6P4UOVi/tTplQeQFx5CnErr+H9cc99W2NHK+doS6DLAoKBLoPqjgABAgSaEhAMNMWkEQECBAhkRUAwkJVKFGUe8+KL158Ri1tcTqfBwG+945y49KTJnmdwMB5bvSH+8e7Ncff6PbFzbI5T48TjZserXn5UvOZVL4mXL5ysn4gtDzwSv/m328Z68IZAMwKCgWaUtOmFwJJTj4nT5k0Wgg7H1s27Yt3GPbF196E4NDaRKTFr1vQ46sihOO7o2bHo8Mn6idj99Lb4l/UeyjJG6E3fBQQDfSc3IAECBAhUBAQDPgYECBAgkCsBwUCuypX5yV5yxdnx27848Qb/ByszH3neQHKlKeXe1h0FA0tOiK9dvaThLYQ2rlkfn/zCz+LRJgRPPPOE+OhvLomFDdvujE+u+mF8p2EbBwlUCwgGqj1s9Ung8CPiP76i8S2Edm7bGT947LnY1cSUZs07Il596pw4vGHbA/H972+JrQ3bOEigdwKCgd7Z6pkAAQIE6gsIBurbOEKAAAECGRQQDGSwKHmdUqML9Pv2xMZDQ3FsnW+adhIMXPK2Shhx6sQwYpRxw/ceit/+aos3tZi7ML70h6c1vDXRA7feGx+6z4OIR539nVxAMDC5kRbdFzj+lKNj+YKURPbnQz3z5Nb43ob9rQ08fVa8bsX8hrcmemrt0/Hgds9jaQ1W624JCAa6JakfAgQIEGhFQDDQipa2BAgQIDBwAcHAwEtQkAlMjQ9+6Nz45ToPHP7ftz4UB//zGXFunRtctx8MHBZ//rGV8fJ6ucDOjfHWP14bG9tQPvGc0+J//Nf6vxvY8a8/jktv2tRGz04pq4BgoKyVH+S6p8XKVx0di+rlAvt3xx0/fCZajAVGFjTrqHnxKycfVndxe7dsj+88vrfucQcI9FJAMNBLXX0TIECAQD0BwUA9GfsJECBAIJMCgoFMliV3kzrxvMpF9IvqXETf8rP4T598Mj5+7Tmxos69J9oOBuYeG3//h8viiFSx4bj7r78fH32w3W/1D8XH/+jsWFEnzHhuzdq4+AvtRA6pk7WzBAKCgRIUOWtLnH5YnL9iXsxMndfz8bM1m+KRHe1+q39anHnW0XFceuexf9uOuOOxPakj20mg1wKCgV4L658AAQIE0gQEA2kq9hEgQIBAZgUEA5ktTY4mNic++4mzYmnqN1IPxD/82b3xuaeG4vprz44zuhwMHHvmsvjSbx5bx+pAfPmT98ZXttQ53MTues9MSE49uGVD/MYnnxj3EOMmOtSk1AKCgVKXfyCLnznvyDj/1Dr/8MZwPPzDp+Pf2vm5wM9Xc/xJldsULUz9xz+Gdz8X33p457iHGA+EwKAlFRAMlLTwlk2AAIEBCwgGBlwAwxMgQIBAawKCgda8tJ4o8J/fsjLeszz9dhI7Vj8al45cma98+74SDHT7FwMNb/dz6Jn45AdXd/SA4Le84zVx+Ukjj02euPAOblM0sTN7yiAgGChDlbO1xoa3+xneH9+/b2tHDwj+hVOPiVfMm5q+6A5uU5Teob0EmhcQDDRvpSUBAgQIdE9AMNA9Sz0RIECAQB8EBAN9QC7yEMcdF3//ByfXuZVP5cL8qtEL8z0KBhrdwij2xRc/+v249dn2C3DJ286pPNh4RmoHz635ceVWQp4xkIpjZ6qAYCCVxc4eCsxaVHkOwInpwW1Uvsu/+oFN8eTB9idw/CnHVB5snB4M7N+2vXIrIc8YaF/XmZ0ICAY60XMuAQIECLQrIBhoV855BAgQIDAQAcHAQNgLMujU+H/e+5r4T8emXxSqfm5Ab4KBOacsib+96oRI/07/gbilciuhv+rgVkK/9Y5z4tKT6gQDj1eeMfBZzxgoyIe5L8sQDPSF2SDjBKYdcURc8ItzIv1f6eF4tHIrofUd3EpoSeUXA6fV+cXA/h2VZwys8YyBceXwto8CgoE+YhuKAAECBMYEBANjFN4QIECAQB4EBAN5qFI253jsypfFly45On1y25+Kt378J/HiZfPeBAPR8OHDEVtWPxK/+ZVt6XOcbO/Qwvjrj50WdR6pHI99475417dd9JqM0fEXBQQDL1p41yeBhg8fjti9eVv8yxP72pvM1FnxSyvnR70nGGxdvym+//Sh9vp2FoEOBQQDHQI6nQABAgTaEhAMtMXmJAIECORPYHh4OLZu3Ro//elP44knnogtW174WvLChQtH9i1atChOPvnkWLp0aRxzzDExfXr6d5oHvXLBwKArkNfxZ8dffmxFnDKUNv+Dcfun74lPrR9/rEfBwNCC+NLHTo96jx+O2FO5ndB9bd1OqNGzE0b6/WSl3w5+jTBex/tyCAgGylHnTK1y6lC8buWCmFN3UgcrtxPa3NbthI4+cVG8alG9/29T6feHlX47+DVC3Sk7QKAJAcFAE0iaECBAgEDXBQQDXSfVIQECBLIl8PDDD8fll18eq1evbmliS5YsiS9/+ctx7rnntnRerxsLBnotXMz+f+XXVsQHzp6durgdlXvvXzrh3vs9CgYqM2h0u5+RCW7fGL/78bXxROps6+w85YT42lVLYladw8+tqdxG6Asv/h6iTjO7CVQJCAaqOGz0SaDR7X5GprB3d3xn9TPR0tMAKrco+o+VWxTViwX2b6vcRugxv6jqU4kNkyIgGEhBsYsAAQIEei4gGOg5sQEIECAwGIHkFwJHHXVU7KjcM7fT17PPPhtz5tT//l6n/bdyvmCgFS1tRwQWHhu3fGBZzEvl2Fl54PAP4zsTjvUuGIjjFsfX/uDEuhfxk6kcrIQDqyrhwKMT5pWyY8lxccvVJ9dZX9J+X3y58lDjr3TwUOOUUe0qgYBgoARFzuISZ82O/7h8bt2L+MmUhyvhwF2VcGBXM/M//PD4lVcc2eDf3EPxcOWhxv/WwUONm5mGNgQaCQgGGuk4RoAAAQK9EhAM9EpWvwQIEBiwQHJLoPXr19edxbx58yL5b/SVBAiNQoS9e/fG0FDqfVhGu+jLX8FAX5gLNcjvvfs1ceHi9O+JPvaNByr33U+7tNTDYKCiO+mvBpIK7HsmvvyFh+Mr64fr1uPY05bEp688IY6o2yJi3Xd/GO+4fWeDFg4RSBcQDKS72Nt7gUl/NZBM4dD+ePjRbfFvu5+vO6GZc4+I814+J2bWbRGx/d+2xL1PHWjQwiECvRcQDPTe2AgECBAgMFFAMDDRxB4CBAjkXuC2226LN77xjVXruO666+KKK64Y+RXB1KlTq46Nbjz//POxZ8+euOeee+J3fud3qoKF5cuXx4MPPjjadGB/BQMDo8/lwMeeuSy+9Jt17ui/c2O89Y/Xjnvg8Pgl9jYYiMr3+z/7iTNi6bTxY6a/X/fA2vjI326cMM9fufD0+MDrF6Sf9PO9O9b8pHKbpKcatnGQQD0BwUA9Gft7LzAzzll5VMxP/78rVcNvf3pHPLB+T9Q+HuCo4+bH2b9Q7wZrL3Sxd9sz8Z3Hdlf1Z4PAIAQEA4NQNyYBAgQICAZ8BggQIFBAgTPPPHPsmQLJswIef/zxqBcGNFr+rbfeGpdeeulYkyzcUkgwMFYObyYVOCyu/9jKOCP1hy7D8c3P3xN/+li9b+P3OhioTP64yi2A/qDRLYDGLfDQnvjnrz0an7i38uuGhQvi4299Waw4Nv1XEKNnPffT9XHFX/4s/FZgVMTfVgUEA62Kad9VgVmVWwAtb3QLoHGjDR+MdU9sjx9trdwPaOZQnLlsXhw3u3GqsP+ZnfHPP34uDo3rxlsCgxIQDAxK3rgECBAot4BgoNz1t3oCBAookHzrf3wIsGvXrji8cn/ddl+XXXZZ3HzzzSOn33LLLXHJJZe021VXzhMMdIWxFJ289k1nxR+9Nv3ZGM89XnkY72cbPYy3D8FAUoVJnw9QXaqD+w7G9KHGgUByxsZ/XRtvvanR+qr7tUUgTUAwkKZiX18FJn0+QPVshg8Nx9RpjQOB5IydW3bEXY972HC1nq1BCggGBqlvbAIECJRXQDBQ3tpbOQECBRUYHwx04/Y/Tz75ZCxevHhEK7kd0apVqwYqJxgYKH9+Bp97dPz1H74sFqbOeFd85sMPxNf2pR78+c4+BQPJaHMXxJ+/5/So3Aa7C68D8c//8GDllwUueHUBs/RdCAZK/xHIBsD0oVj5igWxqNGDApqe6XCs+8mWyi8L/E6gaTIN+yIgGOgLs0EIECBAoEZAMFADYpMAAQJ5FxgeHo5p0164cblgIO/VNP92BX7rXa+JS1+a/s365h7G28dgYGSRU+OS33hF/PaKI9tdcmx5fEP86Y1PxAMNA4+2u3diCQUEAyUsemaXPCWOX7Iglh/Tfjqwe8dz8YPHdsaz9e4gl9m1m1gZBAQDZaiyNRIgQCB7AoKB7NXEjAgQINCxwJQpU8b62Lt3bwwNpd5kfaxNozc33XRTXHnllSNN/GKgkZRjWRGYc9qJ8XdXvvArlwlz2r0pfveaH8cTEw7U7uh3MPDz8RfOi2t/+4x4dfpPHWonOW57X/zDjQ/G5x6VCoxD8bZDAcFAh4BO777AzJlxxqlHxeKW75B4KH78o63xxLN+KdD9ouixGwKCgW4o6oMAAQIEWhUQDLQqpj0BAgRyIHDRRRfF7bffPjLT5OHD69ata2vW428jlHRw3333xate9aq2+urWSW4l1C3JovbT+IL+3TfeHR99tJmvizbu50e33RfvubP7t+t57XlL4rfecEIbF71eqOfeLVvir7784/jaU82ssaifAevqloBgoFuS+umWwLxFR8Qv/sKcOHJGez0e3L0nHnrsmdi49/n2OnAWgR4JCAZ6BKtbAgQIEGgoIBhoyOMgAQIE8imwdu3aOPXUU6sm/61vfSt+6Zd+KaZPT7+9yvjG27dvj//+3/97XHvtteN3x6FDh6oebFx1sE8bgoE+Qed0mBUXLo+Pvz79djx7f/pE/N9/uaHJlfU3GJiz5Oj46GXL4uXzJ39oZjMLWLd6bXzkKxvD44eb0dKmnoBgoJ6M/f0WmHb4rHjlKfNi0awXfxHZyRy2b94RDzyxJ/Z30olzCXRRQDDQRUxdESBAgEDTAoKBpqk0JECAQL4ELrvssrj55psnTHrevHnx0pe+NE477bSYM2fOyH87d+6Mp556Kh555JFYv379hHOSHTfeeGNcccUVqcf6uVMw0E/tnI01tCC+9LHT49jUae+JL370vrj12dSDKTv7FQxMjbdUni1weQfPFkiZ/Au79j0TX/zM6rj1qbotHCDQUEAw0JDHwb4ITIlfqDxb4BUdPFug7jQP7Y/Vj2yNJ/fWbeEAgb4JCAb6Rm0gAgQIEBgnIBgYh+EtAQIEiiYw/pZCnaztqquuis997nOddNG1cwUDXaMsXEdvecc5cflJ6feX2PC9h+K3v7qjhTX3IRgYmhPXv3d5nNHErwQ2rlkff3Hrhthz4nHx+29cEkvnNPvLggPxzRvvjz999EALa9eUwAsCggGfhIEKTJ0Rr3zFUXFsE78S2LltZ6xetysOHXF4nLF0Tsyf2ewvC4bj8R9tjjWeSDzQUhs8QjDgU0CAAAECgxAQDAxC3ZgECBDoo0DyC4A3velNsXr16pZHXb58eXz1q1+N5DkFWXkJBrJSiYzN45Ql8Y9XnRCpN8raty3+4MOPxKMtTbnHwcDchfHFD50Wi6c1nlS9ZwasOGdJ/P5/OSGOHWp8/gtHD8Y///V98YkHhQPNaGnzooBg4EUL7/osMH1WvPas+XHkJBlovWcGzD3qiFheCQjmTPJv7AurGo51azbHj3Z4Nkufq2y4cQKCgXEY3hIgQIBA3wQEA32jNhABAgQGK3Dw4MF44okn4p577hm5ZdCaNWvi2WdfuK/K3LlzR24pdNxxx8V/+A//Ic4888w48cQTm3oeQb9XJRjot3gexpsR1/7ROfHqOelz/d9/fW9c0/JF8R4GA5VbHn322tNjacMLVgfjf3/j4bjm2zvTFzWyd2pc8qbT4q2vXZAeiFSdeSBu+bN746/cVqhKxUZjAcFAYx9HeyQwdSjOWbEgGv+Yajg2rN8WDz3dKPCcEscvnhevOH5WTJIvVBYyHI+ufjrWu61Qj4qq28kEBAOTCTlOgAABAr0QEAz0QlWfBAgQINAzAcFAz2hz2/Fpbzg9/uxXF6TO/+DG9fFfbvhZ6rHGO4fi+mvPjjMOT2/1o9vui/fcuSf9YMO9Q5UQ4+y6IcbIqZVnA3zmz1fH17Y07OjFg8ctjL98+2lxSp25jjXcuTHe+sdrPZB4DMSbyQQEA5MJOd59gWlxxllHx+KZDXquPBvgBw9tjY3NPjl41qw4+7T5cVT6neZeHGj/7rjjh894IPGLIt71UUAw0EdsQxEgQIDAmIBgYIzCGwIECBDIg4BgIA9V6uccD4vrP7Yyzki9pc6u+MyHH4iv7WtnPlPj49eeGyvqXGx/6B/ujVX3NvqmavqYKy5cHh9//ZHpB5O9u7fFH1/zSHyvfos6R4big+9dEb98bOrNlMbOaT/QGOvCmxIJCAZKVOyMLHXucUfFub/QIBU4sDfu+cH2aOWJMS8sbVq8/PSFsXR2498ObH5iU9y3+VBGNEyjTAKCgTJV21oJECCQHQHBQHZqYSYECBAg0ISAYKAJpBI1mVN5tsDf1nu2QMVhw4adUblVdVTupNX8K7m2fnBmLG50A/99e2LD9upOp0+fGnu2bo7rvvCzeCJ1tDnx2U+c1eAWQp0EGcmAMyrhwNmVcKDBha/dW+J3r3m0zvxSJ21niQUEAyUu/kCWPiPOWbmwwS2EDsQP7tsSG9t+FMDUSjhwdCUcaPBg4gN74js/2BHuKDSQD0CpBxUMlLr8Fk+AAIGBCQgGBkZvYAIECBBoR0Aw0I5acc858bzT4n9ctDBTC/zRbd+v3GZo4s8UGt3yKFnAY9+4L9717XZuTzRu+UML40sfOy2OHber+u3BuP3T98Sn1lfvtUUgTUAwkKZiX68EZh8zP16/pJLk1nltXb8pvv90h9/mnzorXrdyftR5JE1l5OFY+/DT8ZPddSZhN4EeCQgGegSrWwIECBBoKCAYaMjjIAECBAhkTUAwkLWKDHY+J55TCQb+a7aCgQ3feyh++6sTb3Txe+9+TVy4uM6tfrZvjN/9+NqufJN/xYVnVG5XNK9uYeoFF3VPcKC0AoKB0pZ+IAs/+bRjYtmcOr942rs7vrP6ma58k3/ucQsqtytKvf/cyLrdTmgg5S/9oIKB0n8EABAgQGAgAoKBgbAblAABAgTaFRAMtCtXzPOyGAxs/P4j8da/21YDflj8eeVZCC+vcy1qx+pH49KvNPu04ZquazfnHht//4fL4oja/T/f3rHmx3HpFzbVOWo3gRcFBAMvWnjXa4FpsfJVR8eiaenj7N28Pb7zRJdu8DP9sDh/xbyo9ySDvdsqYz3WpbHSl2MvgQkCgoEJJHYQIECAQB8EBAN9QDYEAQIECHRPQDDQPcsi9HTieadXbiW0IFNLeeyOB+Jd39xVPaeFlYv1H6h/sf6hf/h+5WHGE28/VN1Js1uzKyHEirohRHpw0Wzf2pVJQDBQpmoPeK0zKxfrz6p/sX7jTzbFD7Z2eBuhsSVOr4QQi+qGEDv/fVvc9bNu/Xs8Nqg3BBoKCAYa8jhIgAABAj0SEAz0CFa3BAgQINAbAcFAb1xz2+txx8Xf/8HJdb8dP4h13f3X98ZHHzxQPXTlW/y3VL7FX+8GP929vc/s+OL1K2Jx9QzGtp57fG1c/NmNY9veEKgnIBioJ2N/1wUq3+L/lcq3+Os9YaC7t/eZHq89e1EcWWcR+3fsiDvWdPi8lzp9202gnoBgoJ6M/QQIECDQSwHBQC919U2AAAECXRcQDHSdNPcdHrtkQZx/0qzKbSGGu7aW5w7MiosvOqHuhfwda34Wf792bxwxY/yQU+O5rdvj1gdTLihNcnufx75R+ZXBt2t+ZTC+65beN/7FwLrv/jDecfvOlnrUuJwCgoFy1n0gq57k9j5b12+uPHj4YJem1vgXA9v/bUvc+1RNuNulkXVDoJ6AYKCejP0ECBAg0EsBwUAvdfVNgAABAl0XEAx0nVSHqQIz4uPXnhMrDk89GA/9w72VW/+0cOFo7tGVXwy8rG7Q0NVv8U8SQvzotvviPXemhBfpS7W3xAKCgRIXv99Lnz6r8ouB+XV/MdDVb/FPEkJ099cJ/YY0Xl4FBAN5rZx5EyBAIN8CgoF818/sCRAgUDoBwUDpSj6gBQ9VgoGz6wYDrV9cH4rrK/2dUSdoiEM748+v+WH8Uxdua/0rv3ZWfODsOXXcDsbtn74nPrW+zmG7CYwTEAyMw/C2xwLT4pWvPDqOrfoV1rghhw/E/Q9siU1d+GHYUScsjLNfUnegWPvw0/GT3ePG9pZAHwQEA31ANgQBAgQITBAQDEwgsYMAAQIEsiwgGMhydYo0t24HAxFvf/dr4r8unl4X6bnHf1K59/9TdY83dWBh5ZkLH2jwzIVDO+JDH3woHmiqM43KLiAYKPsnoL/rP/G0Y+Jlc6bWHXT/jmcq9/7v8Ir9zMMrDzk+snLruTqv4X1x933b4tk6h+0m0CsBwUCvZPVLgAABAo0EBAONdBwjQIAAgcwJCAYyV5KCTqj7wcBpbzg9/uxXFzT0Wve9R+IdX93WsE3dg3MXxGfff3osHarbInb866Nx6U1b6jdwhMA4AcHAOAxvey4w+5j58fol9R4//MLw25/cFvduaPOnVdOH4pwzF8T8afWXsnfL9vjO43vrN3CEQI8EBAM9gtUtAQIECDQUEAw05HGQAAECBLImIBjIWkWKOp/uBwNRecLAZ68/I5ZOQnZw+474+68+Fn/1aLPPARiKt/zaKfHmsxdE/d8jJIPuic98+L74WpvX1CaZtsMFFBAMFLComV7SzDjn7KNi/iRzHN67L3687plY/+yhSVqOHp4Wv3DC3PjFl8yK+r9HSNoejB/ctzk2duF2RaMj+0ugWQHBQLNS2hEgQIBANwUEA93U1BcBAgQI9FxAMNBzYgOMCPQiGIho5lcDowU4uHtXrK7c6/quR7fHmg37Y/O+Fy+CzZ4zFGedMj9evfyYOPOkOXUf2DnaV/J33Xd/GO+4fef4Xd4TaCggGGjI42APBJr51cDosMMHDsTGLXviqR374tndw3Fg+PnRQzFt+tSYV/l38tiFh8ex82ZMEpq+cNr2f9sS9z7VwkPlx0bzhkDnAoKBzg31QIAAAQKtCwgGWjdzBgECBAgMUEAwMED8Ug3dm2AgKt9X/b13vzoubPCsgV4wH9y4IX7jhidCLNAL3eL2KRgobm2zu7IpcfJpR8eyBs8a6MXch3c9F996ZGe8GL/2YhR9EqgvIBiob+MIAQIECPROQDDQO1s9EyBAgEAPBAQDPUDVZYpAr4KBZKjZ8fE/WhEr5qQM24td2zfFhz7+Yw8c7oVtwfsUDBS8wJld3vQ486xFcVzdJwR3eeJ798Tdq3d44HCXWXXXmoBgoDUvrQkQIECgOwKCge446oUAAQIE+iQgGOgTdOmH6WUwkOAOxe+97Yy48NTDeiq98V9/Eu+66Sm/FOipcnE7FwwUt7bZX9m0OPmUBbFsQeMnp3S6jp1bnol7Ht/tlwKdQjq/YwHBQMeEOiBAgACBNgQEA22gOYUAAQIEBicgGBicfblGHorrP3Z2nDGUvurHvnFfvOvbzT4cOL2PZO+Jpx0X/8+blsQp87t78eu5LVvillsei1vXu192fX1HJhMQDEwm5HivBWbNPTyWL50TR81q/NjgVuexf/ee+NHjz8aTlWcTeBHIgoBgIAtVMAcCBAiUT0AwUL6aWzEBAgRyLSAYyHX5cjX5//wbZ8V7Uu/3sydu+fQD8Vfru3dB6bTKPbUvPu8lcebiI+OIOmHEZHgHd++Ldeuejn/8lyfjnwQCk3E53oSAYKAJJE36IjB77qxY+pLZceycmTFzWntDDh84FNuf2R3r/n13bBIItIforJ4JCAZ6RqtjAgQIEGggIBhogOMQAQIECGRPQDCQvZoUekZzh2JF5VYWs2a88G3Vvbv2x9qn9vX01jzHLpwdZ1W+IXvy8UfESxbOirmzp8Vhs6bH2G8KDg7Hnn2HYudze2Prlt3xxIbn4pEnno1Hn+1eUFHomlpc0wKCgaapNOyjwMyZ02Pe7BmVfxtnxBGHTYuhyr/P06dNqTza/eev5yMOVv6d3FcJAvbsORjP7j4QO547ELsOVg54EciogGAgo4UxLQIECBRcQDBQ8AJbHgECBIomIBgoWkWthwCBrAoIBrJaGfMiQKBoAoKBolXUeggQIJAPAcFAPupklgQIECDwcwHBgI8CAQIE+iMgGOiPs1EIECAgGPAZIECAAIFBCAgGBqFuTAIECBBoW0Aw0DadEwkQINCSgGCgJS6NCRAg0LaAYKBtOicSIECAQAcCgoEO8JxKgAABAv0XEAz039yIBAiUU0AwUM66WzUBAv0XEAz039yIBAgQIBAhGPApIECAAIFcCQgGclUukyVAIMcCgoEcF8/UCRDIlYBgIFflMlkCBAgURkAwUJhSWggBAgTKISAYKEedrZIAgcELCAYGXwMzIECgHAKCgXLU2SoJECCQNQHBQNYqYj4ECBAg0FBAMNCQx0ECBAh0TUAw0DVKHREgQKChgGCgIY+DBAgQINAjAcFAj2B1S4AAAQK9ERAM9MZVrwQIEKgVEAzUitgmQIBAbwQEA71x1SsBAgQINBYQDDT2cZQAAQIEMiYgGMhYQUyHAIHCCggGCltaCyNAIGMCgoGMFcR0CBAgUBIBwUBJCm2ZBAgQKIqAYKAolbQOAgSyLiAYyHqFzI8AgaIICAaKUknrIECAQL4EBAP5qpfZEiBAoPQCgoHSfwQAECDQJwHBQJ+gDUOAQOkFBAOl/wgAIECAwEAEBAMDYTcoAQIECLQrIBhoV855BAgQaE1AMNCal9YECBBoV0Aw0K6c8wgQIECgEwHBQCd6ziVAgACBvgsIBvpObkACBEoqIBgoaeEtmwCBvgsIBvpObkACBAgQqAgIBnwMCBAgQCBXAoKBXJXLZAkQyLGAYCDHxTN1AgRyJSAYyFW5TJYAAQKFERAMFKaUFkKAAIFyCAgGylFnqyRAYPACgoHB18AMCBAoh4BgoBx1tkoCBAhkTUAwkLWKmA8BAgQINBQQDDTkcZAAAQJdExAMdI1SRwQIEGgoIBhoyOMgAQIECPRIQDDQI1jdEiBAgEBvBAQDvXHVKwECBGoFBAO1IrYJECDQGwHBQG9c9UqAAAECjQUEA419HCVAgACBjAkIBjJWENMhQKCwAoKBwpbWwggQyJiAYCBjBTEdAgQIlERAMFCSQlsmAQIEiiIgGChKJa2DAIGsCwgGsl4h8yNAoCgCgoGiVNI6CBAgkC8BwUC+6mW2BAgQKL2AYKD0HwEABAj0SUAw0CdowxAgUHoBwUDpPwIACBAgMBABwcBA2A1KgAABAu0KCAbalXMeAQIEWhMQDLTmpTUBAgTaFRAMtCvnPAIECBDoREAw0ImecwkQIECg7wKCgb6TG5AAgZIKCAZKWnjLJkCg7wKCgb6TG5AAAQIEKgKCAR8DAgQIEMiVgGAgV+UyWQIEciwgGMhx8UydAIFcCQgGclUukyVAgEBhBAQDhSmlhRAgQKAcAoKBctTZKgkQGLyAYGDwNTADAgTKISAYKEedrZIAAQJZExAMZK0i5kOAAAECDQUEAw15HCRAgEDXBAQDXaPUEQECBBoKCAYa8jhIgAABAj0SEAz0CFa3BAgQINAbAcFAb1z1SoAAgVoBwUCtiG0CBAj0RkAw0BtXvRIgQIBAYwHBQGMfRwkQIEAgYwKCgf+fvbsBk6Oq8z3+nySTV/L+Rl6ACZIECCGBBILIi66gLsaoF68RdLl6dVHDendXElhFSVgVNRJ98Ip7Zb1kH+EBjJfrfQiiAg8sL0JCApkkQN7IZAiThJkxM5NMMi+Zl9xzuruqT1VXd1dXVXf65dvPI91dderUqc9pEjm/qnOKrENoDgIIlK0AwUDZdi0XhgACRSZAMFBkHUJzEEAAgQoRIBiokI7mMhFAAIFyESAYKJee5DoQQKDYBQgGir2HaB8CCJSLAMFAufQk14EAAgiUlgDBQGn1F61FAAEEKl6AYKDifwIAIIBAgQQIBgoEzWkQQKDiBQgGKv4nAAACCCBwSgQIBk4JOydFAAEEEAgqQDAQVI7jEEAAgdwECAZy86I0AgggEFSAYCCoHMchgAACCIQRIBgIo8exCCCAAAIFFyAYKDg5J0QAgQoVIBio0I7nshFAoOACBAMFJ+eECCCAAAJKgGCAnwECCCCAQEkJEAyUVHfRWAQQKGEBgoES7jyajgACJSVAMFBS3UVjEUAAgbIRIBgom67kQhBAAIHKECAYqIx+5ioRQODUCxAMnPo+oAUIIFAZAgQDldHPXCUCCCBQbAIEA8XWI7QHAQQQQCCjAMFARh52IoAAApEJEAxERklFCCCAQEYBgoGMPOxEAAEEEMiTAMFAnmCpFgEEEEAgPwIEA/lxpVYEEEDALUAw4BbhOwIIIJAfAYKB/LhSKwIIIIBAZgGCgcw+7EUAAQQQKDIBgoEi6xCagwACZStAMFC2XcuFIYBAkQkQDBRZh9AcBBBAoEIECAYqpKO5TAQQQKBcBAgGyqUnuQ4EECh2AYKBYu8h2ocAAuUiQDBQLj3JdSCAAAKlJUAwUFr9RWsRQACBihcgGKj4nwAACCBQIAGCgQJBcxoEEKh4AYKBiv8JAIAAAgicEgGCgVPCzkkRQAABBIIKEAwEleM4BBBAIDcBgoHcvCiNAAIIBBUgGAgqx3EIIIAAAmEECAbC6HEsAggggEDBBQgGCk7OCRFAoEIFCAYqtOO5bAQQKLgAwUDByTkhAggggIASIBjgZ4AAAgggUFICBAMl1V00FgEESliAYKCEO4+mI4BASQkQDJRUd9FYBBBAoGwECAbKpiu5EAQQQKAyBAgGKqOfuUoEEDj1AgQDp74PaAECCFSGAMFAZfQzV4kAAggUmwDBQLH1CO1BAAEEEMgoQDCQkYedCCCAQGQCBAORUVIRAgggkFGAYCAjDzsRQAABBPIkQDCQJ1iqRQABBBDIjwDBQH5cqRUBBBBwCxAMuEX4jgACCORHgGAgP67UigACCCCQWYBgILMPexFAAAEEikyAYKDIOoTmIIBA2QoQDJRt13JhCCBQZAIEA0XWITQHAQQQqBABgoEK6WguEwEEECgXAYKBculJrgMBBIpdgGCg2HuI9iGAQLkIEAyUS09yHQgggEBpCRAMlFZ/0VoEEECg4gUIBir+JwAAAggUSIBgoEDQnAYBBCpegGCg4n8CACCAAAKnRIBg4JSwc1IEEEAAgaACBANB5TgOAQQQyE2AYCA3L0ojgAACQQUIBoLKcRwCCCCAQBgBgoEwehyLAAIIIFBwAYKBgpNzQgQQqFABgoEK7XguGwEECi5AMFBwck6IAAIIIKAECAb4GSCAAAIIlJQAwUBJdReNRQCBEhYgGCjhzqPpCCBQUgIEAyXVXTQWAQQQKBsBgoGy6UouBAEEEKgMAYKByuhnrhIBBE69AMHAqe8DWoAAApUhQDBQGf3MVSKAAALFJkAwUGw9QnsQQAABBDIKEAxk5GEnAgggEJkAwUBklFSEAAIIZBQgGMjIw04EEEAAgTwJEAzkCZZqEUAAAQTyI0AwkB9XakUAAQTcAgQDbhG+I4AAAvkRIBjIjyu1IoAAAghkFiAYyOzDXgQQQACBIhMgGCiyDqE5ZScweexQuWreBOk60S/PbWmSY529ZXeNXJA/AYIBf06UQgABBMIKEAyEFeR4BBBAAIEgAgQDQdQ4BgEEEEDglAkQDJwyek5cIQIP/uQqmZS41sbWXXLT3Y0VcuVcpluAYMAtEv77yOGD5KzJI+S0YYNilengbe/BY9LZ3Req8tEjquWMScNjdURRX6jGcDACCOQsQDCQMxkHIIAAAghEIEAwEAEiVSCAAAIIFE6AYCC4tb4TXA8edXT3SkNzZ/CKOLIkBfz0/8kqkcdWXyUjE1e4cccuufMBgoGS7PAIGk0wEAGiUcWMGaPlvMTgvbFZfTwoT25U//KFeJ09f5KcO2RgrIY9Bw7InoYBIWrj0GwCw5T1lHFDpa//pBw83CU9vf3ZDkm7P8q60p6EHUUvQDBQ9F1EAxFAAIGyFCAYKMtu5aIQQACB8hUgGAjWt3rA93E14Ds0dniXfOy2DXLyJANHwTRL76hc+v+n/3q5zEnczfzclp3yo4ebSu+CaXEkAgQDkTDGKhmsnhS4Zu7ENBW+o4KBwWn2+dtcM3eCnD+8OlZ45/4GqTsUDwn8HU2pXAUWLppiP1nV2V0nz9UOy7UKu3yUddmV8qHkBAgGSq7LaDACCCBQFgIEA2XRjVwEAgh4CdTX10t7e7vXrrxumzt3bl7rr/TKCQYC/gJUMPCoCgbGxg5vV8HAawQDASlL8rBc+l+VHTY4PqgYdnqTkrSi0bYAwYBNEfrDWbPHyZwxQxL1NMlTm/ult++kDFX/ruk7xlvbT4Q6B8FAKL6cDj6pSl+lggHryaqmtgbZvCs1iNH9OnjQgFg/H+/yXqvFb105NZDCJSlAMFCS3UajEUAAgZIXIBgo+S7kAhBAwEugv79fBg5M/Y80r7JRb9u3b5/U1NREXS31JQQIBoL/FB5Vc8fHg4FWFQxsU8GAGgHmVTEC9H/FdHVkF0owEBmlmAP3m3c3SlNr8KlnvFpl1s8TA15C0W6btXCynDMw/tTdwcMHpPZt5xN4esD/wyo8sJ7S++PGw3JSnGWsFmWryyrHe3kLEAyUd/9ydQgggECxChAMFGvP0C4EEAglcPKk+s+vAd7/ARaqYh8HEwz4QApRhGAgN7xqdbfiuJGDY2sL/OwfL5L4cpe98rWfbpWOrvhil9WDquTAXztVUBCvW9/l+L6pp8mJnn7Z3RB/6mb6xGHyoYsmxe4k3/luu7y4rTlWXq9ZoOeu1689B9rtOuI1Jf85pHpAbMFNvWXfe8fTzsdcpbKKmdNGyrxzRsvY0+JTa9Sr8ht3tMiR4z3JCnP4ZF7PngNHY4HIwAFVcsm54+TCs0fHajrU0iUvbG32fY5Q7VTXOOP0EbJw9tjY3cJdJ/rk7QPH5aDqA/ersbXLsUm3+8zJw5XRaTJZzW+t7+xvPXZCtr59RPkfUdfm/HMvSP979ZU2PGNifGHTdxqPS7f6bWR6zZgyQqrVoFm69SxC+akT69/dovPGSY1y1C/df1v2tLJ2Rkwjun8QDERjqf9ovcSYeubZLY3SdSLzv0O5nplgIFexcOV1n1YPjIfr+skP90tvuVz1ufWU3h83qr970gQD2epy18338hQgGCjPfuWqEEAAgWIXIBgo9h6ifQggEEjgVD4xsGvXLpk1a1agdnNQdgGCgexGZonPXj9TvnzZFHOT5+df/6FWfvefR2P7vvftS+XSxGD/TXe/Kp/4mzPkv7rqsMr/WM1HPz8xH721zesEH/3gdPnmx8+O7Xro6W3y4FNtKcU+cflU+YdPn5Oy3drQ2NosX169K22oYJVzv5vX8/nvb5Rz1KD6XV+a4y4W+75xx3612G695z5rY5h2XjRzrPzoZv/TjX121SuxsEIP1t/xd+fHBsOtdni93/rLrfLGviP2rrD9b/XV337kLPmna89K1LtXPrrigH0O94epKhRY+80Fic1NquxOR5Ewfvohl5/+0wK5YGo8EHBUHPvSLku+XauCi9SButSybMkmQDCQTcj//vfbg8Qiz25pUMFAtE81Egz474tClUz2eataQ0IHv/EgoVDn5zylJUAwUFr9RWsRQACBchEgGCiXnuQ6EEAgRWD58uUFX2NAr2mwdu1aGTLEmkc4pVlsCClAMJAb4JduPFc+p+70z/ayBoB1uTv+eYFclXbgNV7Tv9y/Td2h3eYomykY+KAa9P9WYtDfq9xXVIDhDh+829wq191eK339/gfV/FyPea5MC+6GaecFKhRYk0MooNv02VV/UcFAn9yvpoGyhuXNtnp9/vz3N8hfj8TnKw/b/1Zfudt+/Z0vy7FO7zmzb1a/uesTv7nG1r1y093JECGMn75Wc2Fkr2vX23SY5X7SIl1ZtmcWIBjI7JNtr34yRq8hoOeZ/8AFE+zib9YfUb/RbtH79ZNa+qkh66W3nabCVv1UzLAhg2SQekqou6dPDh89IUePd6e969xvMDBYhYyT1FoHI4fFFyrWT/XoPy/SzYFvt0t9GKXaNH7UYBlSHf/zt72zR5raumNPl1nlcnkfpO64H6kWTO7t65f2jvifJzrS00+5jT2tOnYefe3aKlv79Hn1sacNHSQTRg+W4cpOv/Txrcd6pE09WWU9FRfbkeYffn3001u6n/SrXf1Z2N+vzy7qadUq1e4BsT5fpPrcekrvxe2tsbUGYmVUJ3eoNQfiR4h41aVtRqhr0S/9Z21fov7YBo9/jFSLWw9Q9eqnF7ysdCQRpv/8ung0jU0+BQgGfEJRDAEEEEAgUgGCgUg5qQwBBBBAIN8CBAO5CeuBi5nTR6rBl0FyxxfOSxzcKyvX7rIHdvV0M2+pgSpreph0A+m//kNdbPqLz3+sRn784FuRBQPuQeftdYfkuw/UiV74Vg+Sfebq6fKVxNMG+gIyDdx76XhfT6/84KE98vruVrlgxmj5rnqCID4Eo2voVXedv5Jy13mYduo73X9rL/4saqCrWb66ZnfsGrX/bTedL1epqXGs18q1b6ppcTpiU+PoYx9Xx1pzVa/57Tvy4va/xgYTB6npej526emOJy027tilnnpojFUVtv+tYEC34THVBmuxTWu71V77XZVLLnIt6ne2RTa8FZ+OKoyfrn+8eorlYfU0i/XSRht3qHm71eiavs4vXzdDrlNPthAMWELh3wkGwhlOUE/PXHrmqCyVdImef37AgIGinyjSg/aZXq+8ddhzoeJswYAehF4wd4KcrgbivV/t8udNx9QAdOres9T0ZXNq4tOupe4V9edYmzy/rcseHPcq47Xt7PmT5Fw1TZmKRtQd9S0yfvRQWaSmePN+Nan29Xm2T5efMn6oXHROfOIe7+NF9je1qieqnNOzWWVz9Um2XU+jd0D2NMSncRuv/j5ZNCk+7ZpVt9e7uQ6EV11j1d/b71dPt8Vfe5VP+joHq7/fr5k7MVG2SZVNBk16Y5j+y9Ul0QjeAggQDARA4xAEEEAAgdACBAOhCakAAQQQQKCQAgQDwbXNxWc/umJ72opSB9J71Z3rmzzn3zfLph0sVmfK9MSAeTf8xh11alC7IaVtl82bKHfZwUaXGrjflDJwn3JQYoPZxvimJln8rd2OKYn0Ogm/MQad1/x2mzy12TndUZh2jh89RB7+zqJEi9rV4s+vpawHcI86/9zEFE4/eGizWvOgw74kPf1Os7ozd4MaFPR6fVxN1fQ/EuHJsc79cv2d9SnFgvS/2adf/+8XyKfs8MJ7OqEaNZj1K7WWRfzVpZ7ueMV+uiOMn67P/A2lC4f0nbfZ7qxNNI43HwIEAz6QMhTxHwy0yvlqqqGzMtRl7vJaoyBbMGAucGvWZX5+rrYpFlaa22aoge7zfAx0i7TKH189pv5cS0asZj1en8026ycPsoUiInrQWz9ZoBJI4zVdtfFCX23UIcYhea7WODjxMVcfs+3mIP+Uc8bIReOHpZ7AtcUME7zqGq3+zviAEZI8/Vqj4+8ss7oz1TkvSJyzs3u/ur5k+BO2/3J1MdvF59wECAZy86I0AggggEA0AgQD0ThSCwIIIIBAgQQIBgJCO+7k9h6Ytmp2D6R/497X1SLEx6zdjnezrDmI7CikvpiDumY5513gXWrA/i9q8CM5qGHWs1ZNpzM1seGmu19Wd917T2VjHqM/m23UA0vX3f6mPVhtlv2hGpi/ODEwb7ZRlwnbzjlq4Oqny+bFTre9bpcs/7f4Hf3m+ZeoefxvSczj7z6/Wc7rc9bgIWD/m+2Yohag/o/bLrFPb01zZG9QH76hwoPFifDAvM6wfvoc5joV2+vqlGFqgGS2hc/hBQgGwhnq6WDGqEXU9QLv5t3s+w6pxcYPd8amndFnaGk/IR9WwYD1VNC2ui55Ty2o3aemhalSYdcZ6t898479prYG2bzLOZ2a1+Cy1fpqdVf+terufOu1WT0p1ZRY2Fw/sTT7jJFyphpYdwcD7sHplvY2dd6u2HQ1emheLzJ+rvFExMHDB6T2becC6NY5vd7NNpv7d+4/Ku82d8am45l7wXgZp56Msl77Dr0rO/Ynwwd3G9XEPvLqzp7YUxX6bnc9LdF5aoDdetpJ17Nz/3tSd0jvjb+C+JhtN4MB7amngXL2ea9s3t1uD+zrALNV9bkVYnrVpVt3lfpNWO02z2G1W7/rcslFjkWdp1H1bfyxD7dNrv0XxMVsG59zEyAYyM2L0ggggAAC0QgQDETjSC0IIIAAAgUSIBgICB1wYDjdndlWK8xBd3MQ2dpvvacLBq5Vd8IvT6w90Ni6S00DkzpgbtVhnsvrjn6rnPvdPO4Xv98i61+OT23jLpeujbpc2HaaTzw8uWGH3PtYs/v08qnFZ8vX1bRJ+pXJMuVAtcE51Y9H8BOw/93teFCFM9bworkuhW6Tsw0qJDACpbB+un53MLFxxyH53m/22oNtugyvaAUIBqLzTC5E6734sJ7upfNEvz1g7z7z6WoQ/uLEIHxPX4M8vdl/MDBO1X1ZYiqgdIP3eto29xz8c4ynGJraGlUokDrP0Hg1hc8iewqfLjXdT6sa8Ha33vu7OSAeL9Gqju+2B8z1Nj3wfZFqhxUKx58aSE6VM9+1748be9QxySDBquMSVc76s0s/3WAuBhzEx2x7ukH7ZJ/r83lPYaTbl66uabPHyTx7ainv6YSGqRDiQ/b6FWpaqleb7ac2wvZfEBd9PbyCCRAMBHPjKAQQQACBcAIEA+H8OBoBBMpUoL+/X44cORL7n77E6upqmTZtWplebWldFsFAwP4KODCcaSBdt8QcdHcPIpstTTfobm7X5dMtaKv3WQs96s+ZzqX3m6+wbdR1hW2n847+VjWV0DY1eKM6xXiZU+2kCz70nabvm3qazDtndOx9eGJxyuHqjuC5Z1tzgOcvGPiMCi/+PhFeiLwjH13xjn0FzmmEnNcY1s86iWlkbdu4o0V+/tgetYBqt7WJ94gECAaigXTf1e2+M9/PWYaoRYw/bC8k367WJTjqGABPN7is6zanNGppP6SmJMt+Rufd4l3yp02Nag2BwZ4HmoPzz9UeVNP1OP9s8zxIbTTbrAfr/7TpqOc5nIPfOlhpjK13M0LNrX+1Pbe+yPNb31ML72rt1NdQ9Wfl36gp6azXX95oVtPjxZ86C+Jjtt0rGHD2eWp/We3Q7+nqcrf5mdcPqYWezSPV+gEqPJiTCA9a2vervo0/cRdF/wVxcbaOb7kIEAzkokVZBBBAAIGoBAgGopKkHgQQKAuBdevWye233y719fUp13PrrbfKPffck7L9mWeekZaWFpk6dapcccUVKfvZEK0AwUBAz4DBQLYB+LCD7v/t+plyo1owNtdXtnaZ9YVto64rbDt1BuBefHjZz/bEgpAh1QPkjq/MlUX2wL7Ip77zghpcM69C5GY1KH+9PSjv3Of8lr9gYJSa9/p39loJIp///gY1IH8idnpzGqHntmyXHz3cajcrrJ9VkZ6m49/vvEymqMWG3a9jna2xBZ0JCNwywb8TDAS3M490DhKrBdQ95vI3y3t91nUkp5ZJHWhON7is63IPMDe1HZXX93RkXCx4snrKYEHiKYPO7jrV5vTz5pvn3lbXqBZN9/fIgHncm/UN8k6j8ykIy8F57ckAwBy41kHlkxu9gwurnoXGUwPmYH4QH7PtZl3WuZx9ntpfVjn9nqkus83mugT6OLeLGXZE0X9BXHS7eAUTIBgI5sZRCCCAAALhBAgGwvlxNAIIlIlAc3OzTJqUfMjc67Jqampk3759jl36yYKBA5P/Ifv000/LNddc4yjDl2gFCAYCehZpMPBf1Lz6X03Mq6+v7KGn3/F1gY8++67vKWSiCAaiaOc9ahqeuT6u7rHnd8j9TzinGjLXP7CqaFRzhNe/1xH7WqgnBvTJzLv2H3t+m2prW8o0Qjfd/apaAyI5dUYUftZ16/dZapHj2286T6Yn1oQw933tp5tk36FOcxOfAwoQDASEcx3mHCTOHAzoKX1GDa+W8aMGyyg1TcygxPz6er0CPV9+/JU60JxpcFkfY04rk6hE9IK/b+w7ou6+T07NY+0zp5HR23oyzA9UbawB4DVIbtXpfs/WZqu8288aIDeDAfNuees493vN+ePl/IShu525+mRru7PNqf1lti1TXZPV9FEL1DRS8Zcz/HA+SZF+eiR9bND+y9Ul0VDeAggQDARA4xAEEEAAgdACBAOhCakAAQRKXcBPKKCvcd68eVJbW5tyuWPHjpW2trbYdq/wIOUANoQSIBgIyOcIBvQ0L1vVVDbOeZitmv0OpOvyfsuaU8mYd/ub2+sOviFf/1mL1YzI3sO2UTckbDtnqoHsX/zjRVmv6dd/2Cu/+88DjnIXq8GsH35pjr3tsecb5N//UJcyH/ijKngYGyuV7YmBcP1vLgIsclBNJ/S2OKcRim+zG6w+hPUz6zI/6+mlbrvhXFmUWPA4vi/1/OYxfPYvQDDg3ypTSecgcfpg4Dw1CKwX9M3+Sh1ozjS4rOsboKYhu/TiSY6FfK3z9PQdkRe3dTsCgulqwfQL1YLEub7cA+6Zjs/WZvPYGQsny3mJAOLVnY3qSaV+mTl3gsxUIYp+ZXriwKrHnPLI/WRDrj7Z2u7s89T+stqk3zPVNUBNIfUxewqp5DRK+jhzGqGDh+vVws9D9ObYK6r+y9XFOj/vuQsQDORuxhEIIIAAAuEFCAbCG1IDAgiUuECVvj3P46WDgNGjR8sLL7wQ25tu0F9PP7R06VK7hp6eHhk0KHWaC7sAH0IJEAwE5HMEA71qqpqXU6aqsWr2O5Cuy3/v25fKpYm7ts0Bf6su692cSsYsZw4YW4PM1jFRvfu9HrMtZht1O8x9Qdp5843nyvWJwZ1v3LtFWtpPyPvnjJcxp1XHBuN2vNMuO9456lh007p+cyC+7mCdCk8arF3Jd0f/ZgsGwvX/YLWewfrvf8A+92dXvSJLP/k++/rcixLrgmH97JOl+XCFmjv8u184L7HX4/rTHMfmzAIEA5l9/O51DhJ7BwOz5k+Sc9S/W+ars7tP2jvj8+CHfWLAqne0egph7syxMsp1Lr3/xe2N0t4RnwZoqgoz5087zTpM9hw4Zn/O9GHvwWMZpygyj800IG6W05/PVj7nJtq8c/97UnfopCMYsLa5jzO/m+FCugDDr0+2tjv7PHgwoNtv3rW/79C7smP/oJRphNzTU0Xdf35dTG8+5yZAMJCbF6URQAABBKIRIBiIxpFaEECgRAX0+gDXXnuto/X33XeffO1rX1N31w0Q82mCdMFAR0eHjBiRvMNPTzeky9Rwc4AAABtiSURBVPLKjwDBQEBXNXD8f1ZfJSMTh5tzw7tr9DuQro+7Qc17/8XEvPeNrfvlprvr3dXJ1epOz28vnW1vNwfdnYvyinzj3tdld4O/ASi7wiwf/F6POXhttlFXH7adZoDyL/dvly17kvPvZ2m+46mMdItBT1bhzG9USBN/eQyMR9z/5tRGesqg8er8Vhx6/Z0vpywiHdYvm5Hen3xiwrnwsZ9jKeMtQDDg7ZLrVucgcWowMEb9+3P5rPjzPrrufYeOy879enFh5+v9ao5866mgXBYfdtYS/6bX65j3vjEyKbFwbXzrQTVPv/rDQr3MqYSOduyWl7Zbf3vES0bxz2yD69Y53H5WgGFOJXS0o0G10RmsWMdb7+YTBumCAatsNp9sbXe2uVUtFt3hWCzaOo9+z1aXeZ06mNZ95JxGKNlvVr356r9sLtb5ec9dgGAgdzOOQAABBBAIL0AwEN6QGhBAoIQFrr76avuJAH0ZDQ0NMm3aNPuKDhw4INOnT499TxcM6J3mdEI6WFi2bJldBx+iFSAYCOipxnoeVcGANfT0i9/vlPUvN8Ur0+NAxgiU34F0ffACdaf23fad2iI/eOhNeWHr4Xi96p+f+eB0+fuPn60+6bte40PH7kH3//mvl8ssezHZLhUubHPMT29VVqXauei88TJYLdb7wtZma3PWd7/XkykY0CcJ007ziQFd1zF1F7Ae/OtQdwR3dPWqpzf6Yk8R7FGhyNa9bbHvupx+mU8M6EGhj922R00jFB+80/v11CP/65sL9MfEyzsYiLL/3f1unflY5165/k7nVEjWvjB+uo5l6qmLUeqHumbdnpT1JearO6B/fLO1goPH9VuN4D0nAYKBnLjSFnYOEqcGA+bAb7oBbmcdqXegZxtcTte4yeOHyoJzrL8ZkvWaA8vWYHS6OoJuN9ts3QnvVdcg9Wf+Ry6ebO+y7o433UScc+zbhRMf+tQfmddeOkWGJr6/uvOwvXC6u6z5PZ2P2XavkMHZX73y1OZG6e3znr4vW11Van2Jv114ut2sZ15vlNPPGiUXjI8vCG2tuWAXUB/y3X/pXMw28Dk3AYKB3LwojQACCCAQjQDBQDSO1IIAAiUocPLkydhTAVbTV65cKatWrbK+xt79BgPz58+XrVu3xo5ZvXq1rFixwlEPX6ITIBgIbmkOkOtaNu5okcNHuuW6y6aIeSe6Wc49iO8+e7+66/SPP7zCvltc799edyQ2uP1Jtaiw1z2m7jrPUgPb9zsGtuN1PP7yQWk5ekKmqoGrj1xyusw9e3Ts9Mc6d6rB50So4W6Qx3e/15MtGAjTTh1mPHz3FZ4eHk2WJzc0yL2P1cV2XaAGvdfYg956U6usXHtQunv65dNXTnPNr6/3ew+Mmw66VJj+1/2+XvV7fJAtGfqs+e02NQAWX3NFn8N8hfHT9az65wXy/qnxp7N023//4gEZolz179dcY2B7XZ0s/zeP6ZbMxvDZlwDBgC+mrIWcg8SpwYA5MJxurvxhahqdD6npdOKv5AC+dXKzDq+Baquc13vySYTk4PoQNbf9h4257f/yRrMcOR6f1sirjiDbzDbr49Od48xzxtiD4CJd8qdNjWq6osGuu+ZFNu9ulKbW+FRI7vacrv6euVit4RB/Jetwl/P67uVjtt3LW/f5VeoJD+vvwGe3NKpp47zblq0u3SZzqikdJFer34P1lNbTrzWmhKWF6D8vFy8/tvkTIBjw50QpBBBAAIFoBQgGovWkNgQQKCEBdzDgflpAXwrBQPF1KMFA8D5xLhDrrOcHD21Vd+EfiW00B2Ddg/jOo+Lfrr18qiz/9DleuxLbWlXwcFj+IVHGq86r1JMHdxhPHmSoTN1tn1sw4Pd6sgUDuk1B26lv8P+t8cSGrks/NaAXz033euz5bXL/E/FBdnPqnnTl9fZ4nZ3qqYLXUhaXjrr/3UGDfipkybdfUYGFHhLzfgX107Wlns/rHO2y+FuvqkGy+IKkXiXY5l+AYMC/VaaS2YIB553veloYXVvyqaCRwwfJlXMnGqfILRg4Ww2s66dtttUdTZn/X0/ztejccYm6nfXOUdPAnZVY8FcPyD9Xe9TxNJPVIN3SiWo6JF300OEua3PWd3NA3Cq85e1WRx0TVL2XGtMsNbU1yOZdySmDzAWFdR0vbm9W6yQ4A4xJqo6FjjrqVR3JhXqD+JhtTxcMXG5P/aQXRz4s7zSeiF2m/j0kezf7VEL6oFEqIL/CfrIjVk3sHz19++TpzdZzEMnt+lPY/gvi4mwB33IRIBjIRYuyCCCAAAJRCRAMRCVJPQggUHIC7mBg27ZtMneuNRVF/HIIBoqvWwkGwvVJuoHZL6/eJA3NnbHKzWlvMt0BbrbksvPHy3e/NMe+g9Ha9+SGQ/Lz/7tbBg+tlsfVlEH6ZT6dYJXT73pxw+/edL79ZIC5T38+1tkpjz57SP7fSwdT7o50lzW/+72ey9Ug2MrEWgi/+P0baqqlFrMa+3OQdprhxLHO/fKZlXWOgXs9TdL4UUPkR7cukDPssMA5V/7ffeQs+YJ6CsP92rijWe76j52y7ItzZPF5eoDPeZxZPsr+dz8BsHFHndz5QPY79YP46WsYOKBKvnzdDPmkWtPCK07RvzU9RVZff3LQ0Lx2PucuQDCQu5nXEdmCgdFqcP4D9uC8rqFV3f0usUH8mtNHuNYB0PudA/h6S6aBanNu/aa2bql/77h6YrJKzpw03FF3S/sh2fCWri3+GqECiasdgYTEpjx7p/F47O73EUMHyvSJw2XcyMGxA3r6dqtBauseeauW9O9mm81S+o54fY4pE4bJ6OHOkM99d3yqncjRjh55t6kj9mfGVLWA8ig73NBn0U8LtDkCkiA+Ztu9ggF9JrOM/q7tu070xdzNJ0PMcunq6lH99VH15Jz7Ka1tdY3q727vJxHC9l8QF32dvIIJEAwEc+MoBBBAAIFwAgQD4fw4GgEESligv79fBg5MDiCFeWLAXGOAqYTy+6MgGIjGV09L0dunptNSA9J6Shr3Sw9U65eacSunl653sJpmpq//pBxXc+ebx/utU5cbqqaxsOrp6e2XE+p/Zl05NUoVzuXcum4/5/LbTv1UwGOJUEQPSi3+1l/S3tHeo8o+a5f1mBJI2QwzbLyM/bQ9yv73a+vuM79+7uP0d70App5GSIcF+rehBxJ5RS9AMBCNqf5j1JxWxpoj36zdnCrG3O7+3NPXL9UDj6vFbPXixMk5681BXPfgsjnw7K4v+b1dDZi3xKboSW4TmaLuVL/I4051s4z1OapgwKrP/Z5uqqBpk4fLvJr4VHPuY5zfu+SZ14/ICdffeUF8Mnlb53QuEGxtjb9vebtRPRkR/7vXT136qNR29sqfNzWrv2+ddZvfwvRf6vnMmq3P3r8bay/v/gUIBvxbURIBBBBAIDoBgoHoLKkJAQRKUKDKGtFSbQ+6xkBzc7NMmmTN+yuydu1a+eIXv1iCGqXRZIKB0ugnWpkU0FN1PPydRbENja271OLKjcmdrk/j1ZQXD3/70sRWj2DAVZ6vCORTgGAgOt2FaloZ6/8p6MVj3YPT+kwzp4+UmeoOd/erqa1DXtt9RM6cNU7mjNFT4CTXArDKmvPwu+8i1/9X59wzRskZap59r6dt9qu76/VUNydPeu2V2ILvF6u1TqwnA6xzWu89fd2y94B6EqGxw3EnvrU/3bs58LytrkHeaxkkC9UTCuNUwGy+Oru7ZMMO72mMrHIjhg6S+TPHpDxhEN/fK3sOdMnbDUccYYp1bBCfTN5Wvfo93cD881ubY+G5LuO3LvcTAE1tjWpKpAypgK5cvfQaN0H6L4hL/Iz8M4gAwUAQNY5BAAEEEAgrQDAQVpDjEUCgpAVuvPFGeeSRR+xrcD814GcqoRkzZkh9fX3aOuwdfIhEgGAgEkYqKaCAc7BfhZBr31TTdRxOaYG+i//+73/AHjxsbN2rQoQDKeXYgEChBAgGCiWdPI9+uqB6YFVsqh/99E+vfloquTv0Jz2FkH7SRg/69qsnu/STY7m8Bhlt08fr/+VWQ/JsZjBgPuVgtlG3T5/D70tdlnoaNO6nj+lTx+sn2Py+zHMH8Ul3Hu2mm6Hbl0t70tUXdHvQ/suXS9DrKMfjCAbKsVe5JgQQQKD4BQgGir+PaCECCORRYPfu3TJ79mzHGcy1BsynAebNmye1tbV22d7eXlm4cKFs3brV3qY/6LULeOVPgGAgf7bUnB8BvfDwY2rhYefM213y5IZWqTt0XMacVi2Xz5kgZ08d4WjATXe/Ko2t/hfydBzMFwQiECAYiACRKtIKpAsG0h7ADgTKWIBgoIw7l0tDAAEEiliAYKCIO4emIYBAYQTcd/zrs9bU1MjPf/5zeffdd+WWW26JNURve+mll2THjh3ywAMPOJ40sFrKNEKWRP7eCQbyZ0vN+ROYPnGY/O/bLvF9gm/cu0V2N7T7Lk9BBPIhQDCQD1XqtAQIBiwJ3hEQIRjgV4AAAgggcCoECAZOhTrnRACBohLo6OiQESOcd+oGbSBPCwSV838cwYB/K0oWl4B+cuDqCyfKksunygw117delDj56pXtdcfl8ZcPyovbGtWTR8lFRZNl+IRAYQUIBgrrXWlnIxiotB7nejMJEAxk0mEfAggggEC+BAgG8iVLvQggUFIC5pRBQRve09MjgwaZA31Ba+K4TAIEA5l02IcAAghEJ0AwEJ0lNaUKzJw7QWYOr47tMNcYSC3JFgTKX4BgoPz7mCtEAAEEilGAYKAYe4U2IYDAKRHQd/uvWLFC1qxZk9P5V65cKatWrcrpGAoHFyAYCG7HkQgggEAuAgQDuWhRNleB6TNGy4WThscO2/J2oxw63J9rFZRHoGwECAbKpiu5EAQQQKCkBAgGSqq7aCwCCBRCQC8qvGHDBnnwwQflqaeekvr6esdp9SLE11xzjXzuc5+Tiy++WAYMYMoPB1CevxAM5BmY6hFAAIGEAMEAPwUEEECgMAIEA4Vx5iwIIIAAAk4BggGnB98QQAABBIpcgGCgyDuI5iGAQNkIEAyUTVdyIQggUOQCBANF3kE0DwEEEChTAYKBMu1YLgsBBBAoVwGCgXLtWa4LAQSKTYBgoNh6hPYggEC5ChAMlGvPcl0IIIBAcQsQDBR3/9A6BBBAAAGXAMGAC4SvCCCAQJ4ECAbyBEu1CCCAgEuAYMAFwlcEEEAAgYIIEAwUhJmTIIBAqQm0trbK3r175Y033oitMXD++efLW2+9JZMmTZILL7xQZs+eLRMmTJCqqqpSu7SSby/BQMl3IReAAAIlIkAwUCIdRTMRQKDkBQgGSr4LuQAEEECgJAUIBkqy22g0AgjkQ6C7u1vuuOMOWbNmje/qb7jhBrnvvvtk7Nixvo+hYDgBgoFwfhyNAAII+BUgGPArRTkEEEAgnADBQDg/jkYAAQQQCCZAMBDMjaMQQKDMBNatWydLly4NfFW33nqr3HPPPYGP50D/AgQD/q0oiQACCIQRIBgIo8exCCCAgH8BggH/VpREAAEEEIhOgGAgOktqQgCBEhVYv369LFmyJHTr582bJ7W1taHroYLMAgQDmX3YiwACCEQlQDAQlST1IIAAApkFCAYy+7AXAQQQQCA/AgQD+XGlVgQQKBGB9vZ2GTVqVNrW6sF+vb7AyJEjY2UOHjwoTzzxRNryelqhZcuWpd3PjvACBAPhDakBAQQQ8CNAMOBHiTIIIIBAeAGCgfCG1IAAAgggkLsAwUDuZhyBAAJlJPDVr35V7r//fscV1dTUyJ///GeZNWuWY7v5paOjQ+68807P9Qj6+vpkwIABZnE+RyhAMBAhJlUhgAACGQQIBjLgsAsBBBCIUIBgIEJMqkIAAQQQ8C1AMOCbioIIIFCOAlVVVY7Luvnmm+VXv/qVY1umLwcOHJDp06c7imzatEkWLlzo2MaX6AQIBqKzpCYEEEAgkwDBQCYd9iGAAALRCRAMRGdJTQgggAAC/gUIBvxbURIBBMpMoL+/XwYOHGhflX5SYN++ffZ3vx+2b98uF154oV189erVsmLFCvs7H6IVIBiI1pPaEEAAgXQCBAPpZNiOAAIIRCtAMBCtJ7UhgAACCPgTIBjw50QpBBAoQ4GTJ086pvwJOqAfVT1lSJyXSyIYyAsrlSKAAAIpAgQDKSRsQAABBPIiQDCQF1YqRQABBBDIIkAwkAWI3QggUL4C7icGwiwcPHbsWGlra4thBQ0Yylc62isjGIjWk9oQQACBdAIEA+lk2I4AAghEK0AwEK0ntSGAAAII+BMgGPDnRCkEEChTgfnz58vWrVtjV7d48WJZv359zlfa3d0tQ4cOtY8jGLAp8vKBYCAvrFSKAAIIpAgQDKSQsAEBBBDIiwDBQF5YqRQBBBBAIIsAwUAWIHYjgEB5C6xbt06WLl1qX2RTU5NMnDjR/u7nw6pVq+Suu+6yizY0NMi0adPs73yIVoBgIFpPakMAAQTSCRAMpJNhOwIIIBCtAMFAtJ7UhgACCCDgT4BgwJ8TpRBAoEwF3OsD6MvUUwxVVVX5uuLNmzfLJZdcYpcdM2aMtLa22t/5EL0AwUD0ptSIAAIIeAkQDHipsA0BBBCIXoBgIHpTakQAAQQQyC5AMJDdiBIIIFDmArt375bZs2fbV6kH9w8fPuxYmNjeaXyor6+XGTNmGFtEWlpaRK83wCt/AgQD+bOlZgQQQMAUIBgwNfiMAAII5E+AYCB/ttSMAAIIIJBegGAgvQ17EECgxAX0wH17e3vWqxg5cmTKAL8+aNu2bZ7HDhkyRHbt2iVLlixx7H/xxRfliiuucGzjS/QCBAPRm1IjAggg4CVAMOClwjYEEEAgegGCgehNqREBBBBAILsAwUB2I0oggEAJCujpgAYOHFjQlusnDdra2nhqIM/qBAN5BqZ6BBBAICFAMMBPAQEEECiMAMFAYZw5CwIIIICAU4BgwOnBNwQQKBMBr7UD8nlpViigz7Fv3z6pqanJ5+kqum6CgYrufi4eAQQKKEAwUEBsToUAAhUtQDBQ0d3PxSOAAAKnTIBg4JTRc2IEEMinwKl4YsC6Hj3N0KxZs6yvvEcsQDAQMSjVIYAAAmkECAbSwLAZAQQQiFiAYCBiUKpDAAEEEPAlQDDgi4lCCCBQigLLly/3tcZAlNem1zRYu3at6HUIeOVHgGAgP67UigACCLgFCAbcInxHAAEE8iNAMJAfV2pFAAEEEMgsQDCQ2Ye9CCCAAAJFJkAwUGQdQnMQQKBsBQgGyrZruTAEECgyAYKBIusQmoMAAghUiADBQIV0NJeJAAIIlIsAwUC59CTXgQACxS5AMFDsPUT7EECgXAQIBsqlJ7kOBBBAoLQECAZKq79oLQIIIFDxAgQDFf8TAAABBAokQDBQIGhOgwACFS9AMFDxPwEAEEAAgVMiQDBwStg5KQIIIIBAUAGCgaByHIcAAgjkJkAwkJsXpRFAAIGgAgQDQeU4DgEEEEAgjADBQBg9jkUAAQQQKLgAwUDByTkhAghUqADBQIV2PJeNAAIFFyAYKDg5J0QAAQQQUAIEA/wMEEAAAUOgt7dXGhsbpaWlxdjq/2N3d7csXLjQ/wGUzFmAYCBnMg5AAAEEAgkQDARi4yAEEEAgZwGCgZzJOAABBBBAIAIBgoEIEKkCAQRKX6C5uVmuvfZa2bp1a+iL2bdvn9TU1ISuhwq8BQgGvF3YigACCEQtQDAQtSj1IYAAAt4CBAPeLmxFAAEEEMivAMFAfn2pHQEESkDgpZdekiuvvDKylhIMREbpWRHBgCcLGxFAAIHIBQgGIielQgQQQMBTgGDAk4WNCCCAAAJ5FiAYyDMw1SOAQHEL6KmDqqurI21kQ0ODTJs2LdI6qSwpQDCQtOATAgggkE8BgoF86lI3AgggkBQgGEha8AkBBBBAoHACBAOFs+ZMCCBQhAI/+clP5Lbbbktp2eLFi2XBggVy7NgxWbNmjb1/5cqV9ufdu3fLI488Yn/X0wft3btXBgwYYG/jQ/QCBAPRm1IjAggg4CVAMOClwjYEEEAgegGCgehNqREBBBBAILsAwUB2I0oggEAZC8yfP9+xroAe+F+1apXjiquqqmLf582bJ7W1tY597mBh165dMmvWLEcZvkQrQDAQrSe1IYAAAukECAbSybAdAQQQiFaAYCBaT2pDAAEEEPAnQDDgz4lSCCBQhgInT5503N2v7/jX6wOYL7OM135d9uqrr5YXXnjBPqy/v1+sMMHeyIfIBAgGIqOkIgQQQCCjAMFARh52IoAAApEJEAxERklFCCCAAAI5CBAM5IBFUQQQKC8BPYA/cOBA+6I2bdokCxcutL/rD36CAXc9LD7sIIz8C8FA5KRUiAACCHgKEAx4srARAQQQiFyAYCByUipEAAEEEPAhQDDgA4kiCCBQngLmoL++Qq8BfXeZvr4+x1MGlow5JdF9990ny5Yts3bxHrEAwUDEoFSHAAIIpBEgGEgDw2YEEEAgYgGCgYhBqQ4BBBBAwJcAwYAvJgohgEA5Crjv9G9oaJBp06Y5LtVdpqenRwYNGuQoo7/88pe/lFtuuSW2ffXq1bJixYqUMmyIRoBgIBpHakEAAQSyCRAMZBNiPwIIIBCNAMFANI7UggACCCCQmwDBQG5elEYAgTITmDFjhtTX18eu6vHHH5dPfOITKVdorhfgNd2QPsBcZ4BgIIUw0g0EA5FyUhkCCCCQVoBgIC0NOxBAAIFIBQgGIuWkMgQQQAABnwIEAz6hKIYAAuUpoIOAJ554InZx8+bNk9ra2pQLvfHGG+WRRx6JbR8zZoy0trY6yujv48aNs7cRDNgUeflAMJAXVipFAAEEUgQIBlJI2IAAAgjkRYBgIC+sVIoAAgggkEWAYCALELsRQKC8BdavXy9LliyxL/Lo0aMycuRI+7v+8NJLL8mVV15pb6upqYltmzx5smzYsMGxTxdK9+SBXQEfQgkQDITi42AEEEDAtwDBgG8qCiKAAAKhBAgGQvFxMAIIIIBAQAGCgYBwHIYAAuUh0NHRISNGjLAv5oYbbpCHH37Y/q4/uNcZcOz0+JJuHQKPomwKIEAwEACNQxBAAIEAAgQDAdA4BAEEEAggQDAQAI1DEEAAAQRCCxAMhCakAgQQKHUBczohfS0tLS0yduxYx2WtW7dOli5d6tjm9WXlypWyatUqr11si0iAYCAiSKpBAAEEsggQDGQBYjcCCCAQkQDBQESQVIMAAgggkJMAwUBOXBRGAIFyFOju7pahQ4fal9bU1CQTJ060v1sfli9fLmvWrLG+prwvXrxY9NREvPIrQDCQX19qRwABBCwBggFLgncEEEAgvwIEA/n1pXYEEEAAAW+B/w8AAP//ux5iUAAAQABJREFU7N1pkCRnfe/7f2/TPd3TPdPTmp5d07NIsoVlybJkMAgwRjIHJIHBMmDCx9c6XMBG54ZfEApeOSQi/EoXToS5IDt0wxbhFQhAhgGxaHwxsrCRBRxGGJmRNNM9S8/Ss/U+vVbf56nqrMqqyqzKynxy/1ag6aqszGf5/Gt67PxVPtm2ph7CAwEEEEDAk8DLL78sH/rQh+TZZ58t7/+mN71JPvWpT8kdd9xR3saT8ATe9nDFPrxeaBkBBBBA4Nv/95uKCE8/fw4MBBBAAIEQBd7x2p0htk7TCCCAAAIIOAu0EQw4w7AVAQQQQCCZAgQDyawLo0IAgewJEAxkr6bMCAEEkilAMJDMujAqBBBAIOsCBANZrzDzQwCB0AVWVlbkz/7sz2R4eFjm5ubk4YcfDr3PPHdAMJDn6jN3BBCIUoBgIEpt+kIAgTwLEAzkufrMHQEEEIhPgGAgPnt6RgCBjAg8/vjj8tBDD5Vnc+zYMbnxxhvLr3liVoBgwKwnrSGAAAJuAgQDbjJsRwABBMwKEAyY9aQ1BBBAAAFvAgQD3pzYCwEEEHAVqA0GRkdHZWRkxHV/3ggmQDAQzI+jEUAAAa8CBANepdgPAQQQCCZAMBDMj6MRQAABBPwJEAz4c+MoBBBAoCxAMFCmiOQJwUAkzHSCAAIICMEAHwIEEEAgGgGCgWic6QUBBBBAoFqAYKDag1cIIIBAywIEAy2TBTqAYCAQHwcjgAACngUIBjxTsSMCCCAQSIBgIBAfByOAAAII+BQgGPAJx2EIIICAJUAwYElE85NgIBpnekEAAQQIBvgMIIAAAtEIEAxE40wvCCCAAALVAgQD1R68QgABBFoWIBhomSzQAQQDgfg4GAEEEPAsQDDgmYodEUAAgUACBAOB+DgYAQQQQMCnAMGATzgOQwABBCwBggFLIpqfBAPRONMLAgggQDDAZwABBBCIRoBgIBpnekEAAQQQqBYgGKj24BUCCCDQsgDBQMtkgQ4gGAjEx8EIIICAZwGCAc9U7IgAAggEEiAYCMTHwQgggAACPgUIBnzCcRgCCCBgCRAMWBLR/CQYiMaZXhBAAAGCAT4DCCCAQDQCBAPRONMLAggggEC1AMFAtQevEEAAgZYFCAZaJgt0AMFAID4ORgABBDwLEAx4pmJHBBBAIJAAwUAgPg5GAAEEEPApQDDgE47DEEAgPQKDg4MyOTkZyoC3bNlS1/bo6KiMjIyE0h+NihAM8ClAAAEEohEgGIjGmV4QQAABggE+AwgggAACcQgQDMShTp8IIBCZQKFQkI6Ojsj60x0RDITLTTAQri+tI4AAApYAwYAlwU8EEEAgXAGCgXB9aR0BBBBAwFmAYMDZha0IIJARgbW1NWlvb490NgQD4XITDITrS+sIIICAJUAwYEnwEwEEEAhXgGAgXF9aRwABBBBwFiAYcHZhKwIIZEQgjmBgeXlZOjs7MyLINBBAAAEEEEAAAQQQQAABBBBAAAEEsiZAMJC1ijIfBBCoE5iZmZGVlZW67WFs6O/vJxQIA5Y2EUAAAQQQQAABBBBAAAEEEEAAAQSMCRAMGKOkIQQQQAABBBBAAAEEEEAAAQQQQAABBBBAAAEEki9AMJD8GjFCBBBAAAEEEEAAAQQQQAABBBBAAAEEEEAAAQSMCRAMGKOkIQQQQACBKAReOTMTRTf0gQACCORe4IY9/UWDP//SK7m3AAABBBAIU+BPHrghzOZpGwEEEEAAAUcBggFHFjYigAACCCRVgGAgqZVhXAggkDUBgoGsVZT5IIBAUgUIBpJaGcaFAAIIZFuAYCDb9WV2CCCAQOYECAYyV1ImhAACCRUgGEhoYRgWAghkToBgIHMlZUIIIIBAKgQIBlJRJgaJAAIIIGAJEAxYEvxEAAEEwhUgGAjXl9YRQAABS4BgwJLgJwIIIIBAlAIEA1Fq0xcCCCCAQGABgoHAhDSAAAIIeBIgGPDExE4IIIBAYAGCgcCENIAAAggg4EOAYMAHGocggAACCMQnQDAQnz09I4BAvgQIBvJVb2aLAALxCRAMxGdPzwgggECeBQgG8lx95o4AAgikUIBgIIVFY8gIIJBKAYKBVJaNQSOAQAoFCAZSWDSGjAACCGRAgGAgA0VkCggggECeBAgG8lRt5ooAAnEKEAzEqU/fCCCQJwGCgTxVm7kigAACyREgGEhOLRgJAggggIAHAYIBD0jsggACCBgQIBgwgEgTCCCAgAcBggEPSOyCAAIIIGBcgGDAOCkNIoAAAgiEKUAwEKYubSOAAAIVAYKBigXPEEAAgTAFCAbC1KVtBBBAAAE3AYIBNxm2I4AAAggkUoBgIJFlYVAIIJBBAYKBDBaVKSGAQCIFCAYSWRYGhQACCGRegGAg8yVmgggggEC2BAgGslVPZoMAAskVIBhIbm0YGQIIZEuAYCBb9WQ2CCCAQFoECAbSUinGiQACkQoUCgWZmpoq/qc77urqkt27d0c6BjpzFiAYcHZhKwIIIGBagGDAtCjtIYAAAs4CBAPOLmxFAAEEEAhXgGAgXF9aRwCBlAl88YtflI9//OMyNjZWN/KPfexj8slPfrJu+5EjR+TKlSuya9cuueuuu+reZ4NZAYIBs560hgACCLgJEAy4ybAdAQQQMCtAMGDWk9YQQAABBLwJEAx4c2IvBBDIuMDFixdleHi44SxHRkZkdHS0ah99ZUFHR0d52zPPPCN33313+TVPzAsQDJg3pUUEEEDASYBgwEmFbQgggIB5AYIB86a0iAACCCDQXIBgoLkReyCAQMYFvIQCmuDWW2+Vn/zkJ3Uag4ODMjk5WdzuFB7UHcCGQAIEA4H4OBgBBBDwLEAw4JmKHRFAAIFAAgQDgfg4GAEEEEDApwDBgE84DkMAgewItLW1OU5GBwGbN2+WZ599tvi+20l/vfzQ+973vnIby8vL0tnZWX7NE7MCBANmPWkNAQQQcBMgGHCTYTsCCCBgVoBgwKwnrSGAAAIIeBMgGPDmxF4IIJBRAX1/gHvuuadqdp/97Gflj/7oj6S9vV3sVxO4BQPz8/PS19dXbkMvN6T35RGOAMFAOK60igACCNQKEAzUivAaAQQQCEeAYCAcV1pFAAEEEGgsQDDQ2Id3EUAg4wJvfvOby1cE6KmeOXNGdu/eXZ71+Pi47Nmzp/jaLRjQb9qXE9LBwkc/+tFyGzwxK0AwYNaT1hBAAAE3AYIBNxm2I4AAAmYFCAbMetIaAggggIA3AYIBb07shQACGRRYW1srXhVgTe2RRx6RRx991HpZ/Ok1GLjtttvk6NGjxWMee+wxefjhh6va4YU5AYIBc5a0hAACCDQSIBhopMN7CCCAgDkBggFzlrSEAAIIIOBdgGDAuxV7IoBAxgRqg4HaqwX0dAkGkld0goHk1YQRIYBANgUIBrJZV2aFAALJEyAYSF5NGBECCCCQBwGCgTxUmTkigICjQG0w8OKLL8ott9xStS/BQBVHIl4QDCSiDAwCAQRyIEAwkIMiM0UEEEiEAMFAIsrAIBBAAIHcCRAM5K7kTBgBBCyBQqEgHR0d1su6+wvoN7wGA/Z7DLCUUJk0lCcEA6Gw0igCCCBQJ0AwUEfCBgQQQCAUAYKBUFhpFAEEEECgiQDBQBMg3kYAgWwLtLW1lSfo9x4DFy9elOHh4XI7Tz75pPzhH/5h+TVPzAoQDJj1pDUEEEDATYBgwE2G7QgggIBZAYIBs560hgACCCDgTYBgwJsTeyGAQEYFPvCBD8g//uM/lmdXe58BL1cM7N+/X8bGxlzbKL/BEyMCBANGGGkEAQQQaCpAMNCUiB0QQAABIwIEA0YYaQQBBBBAoEUBgoEWwdgdAQSyJfDyyy/LTTfdVDUp+70G7FcD3HrrrfKTn/ykvO/KyorccccdcvTo0fI2/UTfu4BHeAIEA+HZ0jICCCBgFyAYsGvwHAEEEAhPgGAgPFtaRgABBBBwFyAYcLfhHQQQyIlA7Tf+9bRHRkbk05/+tJw+fVoeeuihooTe9txzz8l//dd/yV//9V9XXWlgUbGMkCUR3k+CgfBsaRkBBBCwCxAM2DV4jgACCIQnQDAQni0tI4AAAgi4CxAMuNvwDgII5ERgfn5e+vr6jMyWqwWMMDZshGCgIQ9vIoAAAsYECAaMUdIQAggg0FCAYKAhD28igAACCIQkQDAQEizNIoBAugTsSwb5Hfny8rJ0dnb6PZzjPAoQDHiEYjcEEEAgoADBQEBADkcAAQQ8ChAMeIRiNwQQQAABowIEA0Y5aQwBBNIsoL/t//DDD8unPvWplqbxyCOPyKOPPtrSMezsX4BgwL8dRyKAAAKtCBAMtKLFvggggIB/AYIB/3YciQACCCDgX4BgwL8dRyKAQEYF9E2Ff/CDH8jf/u3fyne+8x0ZGxurmqm+CfHdd98t73//++X222+X9vb2qvd5Ea4AwUC4vrSOAAIIWAIEA5YEPxFAAIFwBQgGwvWldQQQQAABZwGCAWcXtiKAAAIIJFSAYCChhWFYCCCQOQGCgcyVlAkhgEBCBQgGEloYhoUAAghkXIBgIOMFZnoIIIBA1gQIBrJWUeaDAAJJFSAYSGplGBcCCGRNgGAgaxVlPggggEA6BAgG0lEnRokAAgggsC5AMMBHAQEEEIhGgGAgGmd6QQABBAgG+AwggAACCMQhQDAQhzp9IoAAAgj4FiAY8E3HgQgggEBLAgQDLXGxMwIIIOBbgGDANx0HIoAAAggEECAYCIDHoQggkH6B+fl5eemll6S7u9vIZBYXF+WOO+4w0haNOAsQDDi7sBUBBBAwLUAwYFqU9hBAAAFnAYIBZxe2IoAAAgiEK0AwEK4vrSOAQMIFbrvtNjl69KjRUY6OjsrIyIjRNmmsIkAwULHgGQIIIBCmAMFAmLq0jQACCFQECAYqFjxDAAEEEIhOgGAgOmt6QgCBBAoQDCSwKE2GRDDQBIi3EUAAAUMCBAOGIGkGAQQQaCJAMNAEiLcRQAABBEIRIBgIhZVGEUAgLQL79++XsbExo8PligGjnHWNEQzUkbABAQQQCEWAYCAUVhpFAAEE6gQIBupI2IAAAgggEIEAwUAEyHSBAALJFfjhD38o/+t//S/p7+9vaZDPP/983RJEL774YrEdlhFqibLlnQkGWibjAAQQQMCXAMGALzYOQgABBFoWIBhomYwDEEAAAQQMCBAMGECkCQQQyKfAo48+Kp/4xCfKk7/vvvvk8OHD5dc8CUeAYCAcV1pFAAEEagUIBmpFeI0AAgiEI0AwEI4rrSKAAAIINBYgGGjsw7sIIIBAQ4GPfOQj8sQTT5T3+drXvib3339/+TVPzAsQDJg3pUUEEEDASYBgwEmFbQgggIB5AYIB86a0iAACCCDQXIBgoLkReyCAAAINBWpvYLy8vCydnZ0Nj+FN/wIEA/7tOBIBBBBoRYBgoBUt9kUAAQT8CxAM+LfjSAQQQAAB/wIEA/7tOBIBBBAoCly8eFGGh4fLGseOHZMbb7yx/JonZgUIBsx60hoCCCDgJkAw4CbDdgQQQMCsAMGAWU9aQwABBBDwJkAw4M2JvRBAAIGGAm1tbeX3H3vsMXn44YfLr3liVoBgwKwnrSGAAAJuAgQDbjJsRwABBMwKEAyY9aQ1BBBAAAFvAgQD3pzYCwEEEGgoQDDQkMfomwQDRjlpDAEEEHAVIBhwpeENBBBAwKgAwYBRThpDAAEEEPAoQDDgEYrdEEAAATeBsbEx2b9/f/ltrhgoU4TyhGAgFFYaRQABBOoECAbqSNiAAAIIhCJAMBAKK40igAACCDQRIBhoAsTbCCCAQCOB2vsL6H0/+9nPykc/+tFGh/FeAAGCgQB4HIoAAgi0IEAw0AIWuyKAAAIBBAgGAuBxKAIIIICAbwGCAd90HIgAAlkQWFlZkQsXLsiGDRs8T2dubk5effVV+fM//3P5+te/XnfcxMSEbNu2rW47G8wIEAyYcaQVBBBAoJkAwUAzId5HAAEEzAgQDJhxpBUEEEAAgdYECAZa82JvBBDImMCb3/xmefbZZ43N6tZbb5Wf/OQnxtqjoXoBgoF6E7YggAACYQgQDIShSpsIIIBAvQDBQL0JWxBAAAEEwhcgGAjfmB4QQCDBArfddpscPXrU2AgXFhaku7vbWHs0VC9AMFBvwhYEEEAgDAGCgTBUaRMBBBCoFyAYqDdhCwIIIIBA+AIEA+Eb0wMCCCRYQN80WN88OOjjvvvuk6eeeko6OzuDNsXxTQQIBpoA8TYCCCBgSIBgwBAkzSCAAAJNBAgGmgDxNgIIIIBAKAIEA6Gw0igCCKRF4PDhw/Knf/qnsnnz5paGPDAwIDfddJPopYje+ta3Sm9vb0vHs7N/AYIB/3YciQACCLQiQDDQihb7IoAAAv4FCAb823EkAggggIB/AYIB/3YciQACCCAQgwDBQAzodIkAArkUIBjIZdmZNAIIxCBAMBADOl0igAACCAjBAB8CBBBAAIFUCRAMpKpcDBYBBFIsQDCQ4uIxdAQQSJUAwUCqysVgEUAAgcwIEAxkppRMBAEEEMiHAMFAPurMLBFAIH4BgoH4a8AIEEAgHwIEA/moM7NEAAEEkiZAMJC0ijAeBBCIXGBlZaXYZ3t7u+j/eCRbgGAg2fVhdAggkB0BgoHs1JKZIIBAsgUIBpJdH0aHAAIIZFWAYCCrlWVeCCDgSeAjH/mIPPHEE+V9R0dHZWRkpPyaJ8kTIBhIXk0YEQIIZFOAYCCbdWVWCCCQPAGCgeTVhBEhgAACeRAgGMhDlZkjAgi4CrS1tVW9Nz09Lf39/VXbeJEsAYKBZNWD0SCAQHYFCAayW1tmhgACyRIgGEhWPRgNAgggkBcBgoG8VJp5IoBAnUChUJCOjo7ydn2lgL5igEeyBQgGkl0fRocAAtkRIBjITi2ZCQIIJFuAYCDZ9WF0CCCAQFYFCAayWlnmhQACTQUIBpoSJXIHgoFEloVBIYBABgUIBjJYVKaEAAKJFCAYSGRZGBQCCCCQeQGCgcyXmAkigEAjgcHBQZmcnCzvwj0GyhSJfUIwkNjSMDAEEMiYAMFAxgrKdBBAILECBAOJLQ0DQwABBDItQDCQ6fIyOQQQaCZw5MgRueeee6p24z4DVRyJe0EwkLiSMCAEEMioAMFARgvLtBBAIHECBAOJKwkDQgABBHIhQDCQizIzSQQQaCTwkY98RJ544omqXf71X/9V7rrrrqptvEiGAMFAMurAKBBAIPsCBAPZrzEzRACBZAgQDCSjDowCAQQQyJsAwUDeKs58EUDAUcApHPi93/s9efTRR2VxcdHxGLeNt9xyi9tbbDcgQDBgAJEmEEAAAQ8CBAMekNgFAQQQMCBAMGAAkSYQQAABBFoWIBhomYwDEEAgSwJOgUDQ+XGfgqCCjY8nGGjsw7sIIICAKQGCAVOStIMAAgg0FiAYaOzDuwgggAAC4QgQDITjSqsIIJASgdtuu02OHj1qdLQEA0Y56xojGKgjYQMCCCAQigDBQCisNIoAAgjUCRAM1JGwAQEEEEAgAgGCgQiQ6QIBBJIrsH//fhkbGzM6wGPHjsmNN95otE0aqwgQDFQseIYAAgiEKUAwEKYubSOAAAIVAYKBigXPEEAAAQSiEyAYiM6anhBAIIECzz33nDz++OPS399vZHQzMzPy5JNPSnd3t5H2aKRegGCg3oQtCCCAQBgCBANhqNImAgggUC9AMFBvwhYEEEAAgfAFCAbCN6YHBBCIWeBzn/uczM/Py4kTJ+TjH/+4bNu2LeYR0X0QAYKBIHociwACCHgXIBjwbsWeCCCAQBABgoEgehyLAAIIIOBXgGDArxzHIYBAKgQKhYJ0dHSUx/rII4/Io48+Wn7Nk/QJEAykr2aMGAEE0ilAMJDOujFqBBBInwDBQPpqxogRQACBLAgQDGShiswBAQRcBdbW1qS9vb38/mOPPSYPP/xw+TVP0idAMJC+mjFiBBBIpwDBQDrrxqgRQCB9AgQD6asZI0YAAQSyIEAwkIUqMgcEEHAVIBhwpUntGwQDqS0dA0cAgZQJEAykrGAMFwEEUitAMJDa0jFwBBBAINUCBAOpLh+DRwCBZgIEA82E0vc+wUD6asaIEUAgnQIEA+msG6NGAIH0CRAMpK9mjBgBBBDIggDBQBaqyBwQQMBVgGDAlSa1bxAMpLZ0DBwBBFImQDCQsoIxXAQQSK0AwUBqS8fAEUAAgVQLEAykunwMHgEEmgkQDDQTSt/7BAPpqxkjRgCBdAoQDKSzbowaAQTSJ0AwkL6aMWIEEEAgCwIEA1moInNAAAFXAYIBV5rUvkEwkNrSMXAEEEiZAMFAygrGcBFAILUCBAOpLR0DRwABBFItQDCQ6vIxeAQQaCZQGww88sgjov9bXV1tdqjv9zs7O30fy4HNBQgGmhuxBwIIIGBCgGDAhCJtIIAAAs0FCAaaG7EHAggggIB5AYIB86a0iAACCRKoDQaiGNrExIRs27Ytiq5y2QfBQC7LzqQRQCAGAYKBGNDpEgEEcilAMJDLsjNpBBBAIHYBgoHYS8AAEEAgTIE4goHR0VEZGRkJc1q5bptgINflZ/IIIBChAMFAhNh0hQACuRYgGMh1+Zk8AgggEJsAwUBs9HSMAAJRCBAMRKEcbR8EA9F60xsCCORXgGAgv7Vn5gggEK0AwUC03vSGAAIIIFASIBjgk4AAApkWiCMYYCmhcD9SBAPh+tI6AgggYAkQDFgS/EQAAQTCFSAYCNeX1hFAAAEEnAUIBpxd2IoAAhkRqA0GPvaxj8knP/lJKRQKoc2wvb09tLZpWIRggE8BAgggEI0AwUA0zvSCAAIIEAzwGUAAAQQQiEOAYCAOdfpEAIHIBGqDgccee0wefvjhyPqnI/MCBAPmTWkRAQQQcBIgGHBSYRsCCCBgXoBgwLwpLSKAAAIINBcgGGhuxB4IIJBiAYKBFBfPZegEAy4wbEYAAQQMCxAMGAalOQQQQMBFgGDABYbNCCCAAAKhChAMhMpL4wggELcAwUDcFTDfP8GAeVNaRAABBJwECAacVNiGAAIImBcgGDBvSosIIIAAAs0FCAaaG7EHAgikWIBgIMXFcxk6wYALDJsRQAABwwIEA4ZBaQ4BBBBwESAYcIFhMwIIIIBAqAIEA6Hy0jgCCMQtQDAQdwXM908wYN6UFhFAAAEnAYIBJxW2IYAAAuYFCAbMm9IiAggggEBzAYKB5kbsgQACKRYgGEhx8VyGTjDgAsNmBBBAwLAAwYBhUJpDAAEEXAQIBlxg2IwAAgggEKoAwUCovDSOAAJxCxQKBeno6CgP45FHHpFHH320/Jon6RMgGEhfzRgxAgikU4BgIJ11Y9QIIJA+AYKB9NWMESOAAAJZECAYyEIVmQMCCDQUOHz4sHzve9+TTZs2yZ/8yZ/I4OBgw/15M9kCBAPJrg+jQwCB7AgQDGSnlswEAQSSLUAwkOz6MDoEEEAgqwIEA1mtLPNCAAEEMipAMJDRwjItBBBInADBQOJKwoAQQCCjAgQDGS0s00IAAQQSLkAwkPACMTwEEEAAgWoBgoFqD14hgAACYQkQDIQlS7sIIIBAtQDBQLUHrxBAAAEEohEgGIjGmV4QQAABBAwJEAwYgqQZBBBAoIkAwUATIN5GAAEEDAkQDBiCpBkEEEAAgZYECAZa4mJnBBBAAIG4BQgG4q4A/SOAQF4ECAbyUmnmiQACcQsQDMRdAfpHAAEE8ilAMJDPujNrBBBAILUCBAOpLR0DRwCBlAkQDKSsYAwXAQRSK0AwkNrSMXAEEEAg1QIEA6kuH4NHAAEE8idAMJC/mjNjBBCIR4BgIB53ekUAgfwJEAzkr+bMGAEEEEiCAMFAEqrAGBBAAAEEPAsQDHimYkcEEEAgkADBQCA+DkYAAQQ8CxAMeKZiRwQQQAABgwIEAwYxaQoBBBBAIHwBgoHwjekBAQQQ0AIEA3wOEEAAgWgECAaicaYXBBBAAIFqAYKBag9eIYAAAggkXIBgIOEFYngIIJAZAYKBzJSSiSCAQMIFCAYSXiCGhwACCGRUgGAgo4VlWggggEBWBQgGslpZ5oUAAkkTIBhIWkUYDwIIZFWAYCCrlWVeCCCAQLIFCAaSXR9GhwACCCBQI0AwUAPCSwQQQCAkAYKBkGBpFgEEEKgRIBioAeElAggggEAkAgQDkTDTCQIIIICAKQGCAVOStIMAAgg0FiAYaOzDuwgggIApAYIBU5K0gwACCCDQigDBQCta7IsAAgggELsAwUDsJWAACCCQEwGCgZwUmmkigEDsAgQDsZeAASCAAAK5FCAYyGXZmTQCCCCQXgGCgfTWjpEjgEC6BAgG0lUvRosAAukVIBhIb+0YOQIIIJBmAYKBNFePsSOAAAI5FCAYyGHRmTICCMQiQDAQCzudIoBADgUIBnJYdKaMAAIIJECAYCABRWAICCCAAALeBQgGvFuxJwIIIBBEgGAgiB7HIoAAAt4FCAa8W7EnAggggIA5AYIBc5a0hAACCCAQgQDBQATIdIEAAggoAYIBPgYIIIBANAIEA9E40wsCCCCAQLUAwUC1B68QQAABBBIuQDCQ8AIxPAQQyIwAwUBmSslEEEAg4QIEAwkvEMNDAAEEMipAMJDRwjItBBBAIKsCBANZrSzzQgCBpAkQDCStIowHAQSyKkAwkNXKMi8EEEAg2QIEA8muD6NDAAEEEKgRIBioAeElAgggEJIAwUBIsDSLAAII1AgQDNSA8BIBBBBAIBIBgoFImOkEAQQQQMCUAMGAKUnaQQABBBoLEAw09uFdBBBAwJQAwYApSdpBAAEEEGhFgGCgFS32RQABBBCIXYBgIPYSMAAEEMiJAMFATgrNNBFAIHYBgoHYS8AAEEAAgVwKEAzksuxMGgEEEEivAMFAemvHyBFAIF0CBAPpqhejRQCB9AoQDKS3dowcAQQQSLMAwUCaq8fYEUAAgRwKEAzksOhMGQEEYhEgGIiFnU4RQCCHAgQDOSw6U0YAAQQSIEAwkIAiMAQEEEAAAe8CBAPerdgTAQQQCCJAMBBEj2MRQAAB7wIEA96t2BMBBBBAwJwAwYA5S1pCAAEEEIhAgGAgAmS6QAABBJQAwQAfAwQQQCAaAYKBaJzpBQEEEECgWoBgoNqDVwgggAACCRcgGEh4gRgeAghkRoBgIDOlZCIIIJBwAYKBhBeI4SGAAAIZFSAYyGhhmRYCCCCQVQGCgaxWlnkhgEDSBAgGklYRxoMAAlkVIBjIamWZFwIIIJBsAYKBZNeH0SGAAAII1AgQDNSA8BIBBBAISYBgICRYmkUAAQRqBAgGakB4iQACCCAQiQDBQCTMdIIAAgggYEqAYMCUJO0ggAACjQUIBhr78C4CCCBgSoBgwJQk7SCAAAIItCJAMNCKFvsigAACCMQuQDAQewkYAAII5ESAYCAnhWaaCCAQuwDBQOwlYAAIIIBALgUIBnJZdiaNAAIIpFeAYCC9tWPkCCCQLgGCgXTVi9EigEB6BQgG0ls7Ro4AAgikWYBgIM3VY+wIIIBADgUIBnJYdKaMAAKxCBAMxMJOpwggkEMBgoEcFp0pI4AAAgkQIBhIQBEYAgIIIICAdwGCAe9W7IkAAggEESAYCKLHsQgggIB3AYIB71bsiQACCCBgToBgwJwlLSGAAAIIRCBAMBABMl0ggAACSoBggI8BAgggEI0AwUA0zvSCAAIIIFAtQDBQ7cErBBBAAIGECxAMJLxADA8BBDIjQDCQmVIyEQQQSLgAwUDCC8TwEEAAgYwKEAxktLBMCwEEEMiqAMFAVivLvBBAIGkCBANJqwjjQQCBrAoQDGS1sswLAQQQSLYAwUCy68PoEEAAAQRqBAgGakB4iQACCIQkQDAQEizNIoAAAjUCBAM1ILxEAAEEEIhEgGAgEmY6QQABBBAwJUAwYEqSdhBAAIHGAgQDjX14FwEEEDAlQDBgSpJ2EEAAAQRaESAYaEWLfRFAAAEEYhcgGIi9BAwAAQRyIkAwkJNCM00EEIhdgGAg9hIwAAQQQCCXAgQDuSw7k0YAAQTSK0AwkN7aMXIEEEiXAMFAuurFaBFAIL0CBAPprR0jRwABBNIsQDCQ5uoxdgQQQCCHAgQDOSw6U0YAgVgECAZiYadTBBDIoQDBQA6LzpQRQACBBAgQDCSgCAwBAQQQQMC7AMGAdyv2RAABBIIIEAwE0eNYBBBAwLsAwYB3K/ZEAAEEEDAnQDBgzpKWEEAAAQQiECAYiACZLhBAAAElQDDAxwABBBCIRoBgIBpnekEAAQQQqBYgGKj24BUCCCCAQMIFCAYSXiCGhwACmREgGMhMKZkIAggkXIBgIOEFYngIIIBARgUIBjJaWKaFAAIIZFWAYCCrlWVeCCCQNAGCgaRVhPEggEBWBQgGslpZ5oUAAggkW4BgINn1YXQIIIAAAjUCBAM1ILxEAAEEQhIgGAgJlmYRQACBGgGCgRoQXiKAAAIIRCJAMBAJM50ggAACCJgSIBgwJUk7CCCAQGMBgoHGPryLAAIImBIgGDAlSTsIIIAAAq0IEAy0osW+CCCAAAKxCxAMxF4CBoAAAjkRIBjISaGZJgIIxC5AMBB7CRgAAgggkEsBgoFclp1JI4AAAukVIBhIb+0YOQIIpEuAYCBd9WK0CCCQXgGCgfTWjpEjgAACaRYgGEhz9Rg7AgggkEMBgoEcFp0pI4BALAIEA7Gw0ykCCORQgGAgh0VnyggggEACBAgGElAEhoAAAggg4F2AYMC7FXsigAACQQQIBoLocSwCCCDgXYBgwLsVeyKAAAIImBMgGDBnSUsIIIAAAhEIEAxEgEwXCCCAgBIgGOBjgAACCEQjQDAQjTO9IIAAAghUCxAMVHvwCgEEEEAg4QIEAwkvEMNDAIHMCBAMZKaUTAQBBBIuQDCQ8AIxPAQQQCCjAgQDGS0s00IAAQSyKkAwkNXKMi8EEEiaAMFA0irCeBBAIKsCBANZrSzzQgABBJItQDCQ7PowOgQQQACBGgGCgRoQXiKAAAIhCRAMhARLswgggECNAMFADQgvEUAAAQQiESAYiISZThBAAAEETAkQDJiSpB0EEECgsQDBQGMf3kUAAQRMCRAMmJKkHQQQQACBVgQIBlrRYl8EEEAAgdgFCAZiLwED8CHQ1tEuPV1t0t6m/rOOXxNZXVuTlZWCLK2qFzwQSJgAwUDCCpK64bTJ0NBGGdneKzu2dsvm3k7Z2N0hHWoeHe1tIoU1WSqsyrX5FZmaWpAzE3PyyrkFmV81OdE2GejVPcbwWF2V6UV+t8cgn8ouCQZSWTYGjQACCKRegGAg9SVkAggggEC+BAgG8lXv9M+2XYbVSbHNKhRo+FAnxy5MzMv0SsO9eBOBSAUIBiLlzkxnQ8MDcseNm+XAjh7Z0PKs1mT68oz8+MXLcvRy0F+IPfLAu/bK7q6WB2HsgGsXL8oT35s01h4NZVeAYCC7tWVmCCCAQJIFCAaSXB3GhgACCCBQJ0AwUEfChgQLDGzdJNt7m4QC6+Ofvzon43OFBM+GoeVNgGAgbxUPNt/t+4bkrb88KNu6vf3Oa9bb7MUr8k/fuyyXm+3o8n7vnu3yodcNuLwb1eZlOXJ4TH62GFV/9JNWAYKBtFaOcSOAAALpFiAYSHf9GD0CCCCQOwGCgdyVPL0T7togh7Z3i9dTZHNX5uTsPMFAeguevZETDGSvpqHMqLtX3vmWnbJ/U3mhNHPdFBbkyDOn5WczrTc5sG+nPHjnptYPNHoEwYBRzgw3RjCQ4eIyNQQQQCDBAgQDCS4OQ0MAAQQQqBcgGKg3YUsSBdpk245NsqXT+9gIBrxbsWc0AgQD0TinupfeAfngO7ZLuKffF+Vbh0/JsRa/dZ+MYGBJXTFwkisGUv0hj2bwBAPRONMLAggggEC1AMFAtQevEEAAAQQSLkAwkPACMbyiQFefuuHmYAupgDqKYIAPT9IECAaSVpHkjefWuw7Ib+yI4Oa+01fl8e9ckuUWCAYO7JIHb+9r4Ygwdl2V554+IT+aD6Nt2sySAMFAlqrJXBBAAIH0CBAMpKdWjBQBBBBAQAkQDPAxSL5Ah+zd0ys9LQ6UYKBFMHYPXYBgIHTilHfQKe+8f7/s7248jaXZBRlXN1cfv7wgl67p5dLaZNPmbtmzvU/2DW+UjR5XIPr5D07It8+sNu7M/m53vzx4/w6J9S4DhXn5/FfG5YJ9XDxHwEGAYMABhU0IIIAAAqELEAyETkwHCCCAAAImBQgGTGrSVhgC/Vv7ZEdvgzNda6pXhxsPEAyEUQ3aDCJAMBBELw/Hdsq9Khg45BgMrMqpE1fkP34+JePz+pee26NNbrplp9xzU580ve5gdlIe/9bFlq4a6N3SK/s3N23ZbXBNthdkoaNP7rt9s+t+q5OX5DNHrrq+zxsIWAIEA5YEPxFAAAEEohQgGIhSm74QQAABBAILEAwEJqSBMAXUDYcPqhsOO8YChYIsrrVLt8s5KoKBMAtD234ECAb8qOXpGKcrBgpy6pWL8s9Hp2W6BYquoUF58C3XycaGx6zKv6hleY4maFmeoZt2y+/f0us66tEXRuVrJ1dc3+cNBCwBggFLgp8IIIAAAlEKEAxEqU1fCCCAAAKBBQgGAhPSQIgC1+3oF7dbC0xdmpe1wV7ZQjAQYgVo2qQAwYBJzSy21SF333tAXrN+Nn/24lX5+nOX5EILq/3YVQYO7FT3BGh8G+PRH6sT7SeScqK9S979rhG5vss+C9vz5Tn5/FfPsoyQjYSn7gIEA+42vIMAAgggEJ4AwUB4trSMAAIIIBCCAMFACKg0aUSgs7dH9m91OUO0vCivXFiW7Ts3yQDBgBFvGglfgGAgfOO099A7NCBvPNQjV8cn5T/OLAWcjlqa6F61NFGDywaunb0gT/xbK9ciBBxSg8N7922XD93pfgeDi8dOyz/8dKFBC7yFQEWAYKBiwTMEEEAAgegECAais6YnBBBAAAEDAgQDBhBpIgSBDtmzu1c2Otw7QGRNLp6flcmVNtmpgoFNBAMh+NNkGAIEA2Go0mYjgYEDu9RVA32uu1w7r4KB55IQDKirJf6bulrC9QKHJfnWUyflmM+rJ1wBeCOzAgQDmS0tE0MAAQQSLUAwkOjyMDgEEEAAgVoBgoFaEV4nQaB3sE929zneWUCW567J2FW99EUbVwwkoViMwbMAwYBnKnY0JNC7c1g+9Ab3m/kmJhgYuk7+51sGXW+YnKQrGwyVhmZCFiAYCBmY5hFAAAEEHAUIBhxZ2IgAAgggkFQBgoGkVibH4+rskgM7elxOEK3KmTPzcq3IQzCQ409JKqdOMJDKsqV70N398sH7d4jbF/GTEgz82lsOyq8POYfBIgV54chx+bfJdJeC0UcrQDAQrTe9IYAAAgiUBAgG+CQggAACCKRKgGAgVeXKxWCHhvtl6wbnqc5dmZOz84X1NwkGnJXYmlQBgoGkVibD42oSDCyppYT+Iu6lhHo3y4ffMSyut0KYviKPf+eyLGe4TEzNvADBgHlTWkQAAQQQaC5AMNDciD0QQAABBBIkQDCQoGIwFOno6ZED17nccHhlSU6cX5TKEtMEA3xk0iVAMJCuemVhtM2WEho/elK+9ErQmxwHk7rptSPy3/a6/N5XTb/6gxPyjTOV3/zBeuPovAgQDOSl0swTAQQQSJYAwUCy6sFoEEAAAQSaCBAMNAHi7QgF2mX3rj7pdVxNYk0uXZiVq1VfGSUYiLA4dGVAgGDAACJNtCTQ7KT7qR+PyVMnqn6xttR+4J07euUP3r1bBt0aWp6Vv/vqObns9j7bEXARIBhwgWEzAggggECoAgQDofLSOAIIIJB+gSNHjsjv/u7vyuTkpExPT0t/f3+skyIYiJWfzm0CGzf3yp7+DtuWytPleXXD4Sv6hsP2B8GAXYPnyRcgGEh+jbI1wo3ygffskW2OYaue6bIcOTwmP1uMb9a7b94jD9zsuoiQnH/ppHzhpXivaIhPh56DCBAMBNHjWAQQQAABvwIEA37lOA4BBBDIicDjjz8uDz30UHG2o6OjMjIyEuvMCQZi5adzS6CjS0Z29ojzYhL2Gw5bB+ifBAN2DZ4nX4BgIPk1ytIID965T+7b53LDFjXR1csX5TPfjfOOvhvk3e/aJ9c7/+JXI1yUrz91So6zilCWPpaRzYVgIDJqOkIAAQQQsAkQDNgweIoAAgggUC9AMFBvwhYEBrdtkuu62xwh5q/OyficdcNh+y4EA3YNnidfgGAg+TXKygh7d26T//GGLeJ8DVZpli8++6p8d2IttikP7NspD965ybX/2dNn5a+en3N9nzcQaCRAMNBIh/cQQAABBMISIBgIS5Z2EUAAgYwIfO5zn5MHH3ywOBuuGMhIUZlGIIGGNxxeXZYT5xZsNxy2d0UwYNfgefIFCAaSX6MsjHD3Ddvl3bcONAwFVicvyWeOXI1xuh3ytnsPyC+4riK0Ks89fUJ+NB/jEOk61QIEA6kuH4NHAAEEUitAMJDa0jFwBBBAwF3g5ZdfllOnTklPT4/7Th7e0cd/4hOfkK9//evFvQkGPKCxS8YF2mWnuuHwJpc1sK9MzMhl1+WlCQYy/uHI3PQIBjJX0kRNqLe/V954xw75haFG1wmoIS/Py5e+Oi7jMY6+a/g6+eibXG85LPEHFzHi0LURAYIBI4w0ggACCCDQogDBQItg7I4AAgikQWBwcLB4s2DTYyUYMC1Ke2kT6Bnolb0DziexVq8tyInLyw2mRDDQAIe3EihAMJDAoqRgSL29ndJZN8426drQIVs2b5Bdw32yf7hXBje6JKz2YwsL8q1vnJZjMd5wWA/n9W85KHcOuY/3Z98/IUfOcXMBe+l43poAwUBrXuyNAAIIIGBGgGDAjCOtIIAAAokSuO222+To0aPGx0QwYJyUBtMk0N4p+3ZtFOdbY67K2fF5mWu4/DXBQJrKzVhFCAb4FLQm0Cavf/N+uXObc3jaWlsiS5NT8pXvTsiFuM+3926WD79jWFxXEVqclicPX5DpVifI/gjYBAgGbBg8RQABBBCITIBgIDJqOkIAAQSiE7j//vvLy//oXrds2eK788nJyfKxBANlCp7kUGDzdZtkuMf5hsPXpublzEyzs1cEAzn82KR6ygQDqS5f9IPvHpAP37/d/QS6pxGtyfTknLz4s0vyo3ONrsDy1JiRnV7z2hG5e2+Xa1vjR8fkS68kY6yug+SNxAsQDCS+RAwQAQQQyKQAwUAmy8qkEEAg7wKLi4tV9xc4c+aM7N692xfL448/Lg899FDxWIIBX4QclAGBtu5uObTN+VoBUTccHlU3HF5pOk+CgaZE7JAoAYKBRJUj+YNRwcAHVTCwKdBIC3L+7LT8/NSMvHRmQWI/3d7RK3/w7t3ifneBa/KlL52J9f4Hgbg5ODECBAOJKQUDQQABBHIlQDCQq3IzWQQQyJPAF7/4RXnf+95XnLK+YuDq1au+pk8w4IuNgzIl0PiE/uTFGbnoaf3rxu3MXZmTs/OFTMkxmXQLEAyku36Rj75XXTHwjgBXDBTUWmzt9quyVuXUK5fk20enZT7yyZQ63H3LXnngph7X3qdPjsuTL8Q1Otdh8UYKBQgGUlg0howAAghkQIBgIANFZAoIIICAm8D+/ftlbGys+PYXvvAFee973+u2q+t2ggFXGt7IicCG/l7Zt9l5zezCwqIcv7TkUYJgwCMUuyVEgGAgIYVIzTB65AMP7JVtpse7vCDPfe+M/Giy4U1cTPeq2tsgD7xnn+x2vefwsvzL02NylFwgBPv8NUkwkL+aM2MEEEAgCQIEA0moAmNAAAEEQhLQVwls3bq13Pry8rJ0dnaWX3t5QjDgRYl9MivQ1iHX7+6VbscJ6iUv5mTG85f8CQYcGdmYWAGCgcSWJrEDG9gzJPfd3CdO/5dGh7oaoL2rUzZ2t4tz1NpoWmvy8xdOyrdPRre40MCBnfLg7e4LIy1dvCh/8b3KfZgajZ73EGgmQDDQTIj3EUAAAQTCECAYCEOVNhFAAIEECQQ9sX/kyBG55557ijO6cuWKDA66r7QbxbRfOTMTRTf0gUBRYGBok2zfaF/aogKzMD0vp6eb3XC4sr8IwYBdg+fJFyAYSH6N0jrC3v4Nsndbn9y0b0D2D7ncv8Vhcj9/YVSFA83v6OJwaIubOuRt9x6QX9jodtiavPjd4/Ldy1FfxeA2HranXYBgIO0VZPwIIIBAOgUIBtJZN0aNAAIItCSwtlb6f1zb2pxPcLbUWMw7EwzEXIA8db9hgxwa7lan8x0ehRUZO3utxRtjEgw4SLIpwQIEAwkuTpaG1r1B3virO+T2Xc7XZlVPdUm+9dRJOdZKJlvdgKdXXcPb5KNv2uK+77Up+X+/MRHbvQ/cB8Y7aRUgGEhr5Rg3AgggkG4BgoF014/RI4AAArkTIBjIXcljmnCbDO/cJC63FpCpS7MysdDqN0UJBmIqJt36FCAY8AnHYb4EeocH5X1vuk4Gmhx97fwFeeK56SZ7BXv79Xcfkju3OMbCxYZP/XhMnjoR3bJGwWbD0WkQIBhIQ5UYIwIIIJA9AYKB7NWUGSGAAAKZFiAYyHR5EzO5rr6NMjLotEq2yNrSorw64fWGw/YpEQzYNXiefAGCgeTXKHMj7N8sH37bsLiu4FOc8Ko89/QJ+VFYN/3t3yJ//LZt6tbDLo/CvHz+K+NyweVtNiPgR4BgwI8axyCAAAIIBBUgGAgqyPEIIIAAApEKEAxEyp3Tztpl564+2dTuNP1VOTs+L3OtXiyw3tT2nf0y4HLXzdnLs3Lums+GnYbKNgQCChAMBATkcF8CQzfskt+/ta/hsVdfOSN/c/Raw338vvma14/I3bu6XA8Ps2/XTnkj8wIEA5kvMRNEAAEEEilAMJDIsjAoBBBAAAE3AYIBNxm2mxJoU/cWOOh2bwHVycLiqrSp0GD91h0tdbthQ4c45g2qlcLqqizVrJutbwtSWF6R81eWJIrbbbY0GXbOvADBQOZLnNAJdsq99+6XQ40uG5i+Ko9/51KL93nxMN2OPnnw3bsaLGe0JEcOn5SfLXpoi10QaEGAYKAFLHZFAAEEEDAmQDBgjJKGEEAAAQSiECAYiEI533109vbI/q3u3xaNQ2fuyqycnedqgjjs89wnwUCeqx/v3LffvEfef3ODZGB5Vv7uq+fksuFh7rt1r/z2DT2urUZxfwPXznkj0wIEA5kuL5NDAAEEEitAMJDY0jAwBBBAAAEnAYIBJxW2mRTo3KiCgaFkBQML0/NyerrmcgKTk6YtBBwECAYcUNgUjYBa5//Dap1/12gglGCgRx54z17Z7XZZl6zJC0delX+bjIaAXvIlQDCQr3ozWwQQQCApAgQDSakE40AAAQQQ8CRAMOCJiZ0CCCQxGFicmZdTUwQDAcrKoT4ECAZ8oHGIGYHuAfng/dtlk1tri+qKgcNmrxgYOqDubXB7g3sbzKrli74VwvJFbnNke64ECAZyVW4miwACCCRGgGAgMaVgIAgggAACXgQIBrwosU8Qgc7ejWopoc4gTRg/dn5yTsZnC8bbpUEEGgkQDDTS4b1QBZoFA+qKgSfVUkLTxgah7mtwv7qvQbd7g6++MCrfOMndXtyFeCeIAMFAED2ORQABBBDwK0Aw4FeO4xBAAAEEYhEgGIiFPV+ddnbJgR090pGgWU9empWLC9xjIEElycVQCAZyUeZETrJ3z3b50OsG3MdmeCmhrp3b5KNv2NKgvzl1T4Ozxu9p4N4h7+RNgGAgbxVnvggggEAyBAgGklEHRoEAAggg4FGAYMAjFLsFEujo6pC+De3SFqiV6oMLa22yZUu39LisX722uCQX1FUB7TXvF1ZXZWaBqwWqNXkVhQDBQBTK9OEkMHTDbvn9W3ud3iptuzYtT37jgqErBtrkjXcflNu3uP/Gv3jstPzDTxfcx8M7CAQUIBgICMjhCCCAAAK+BAgGfLFxEAIIIIBAXAIEA3HJ029wgTbZvnOTDLhcijB7eVbOXeOqgODOtGBKgGDAlCTttCbQJe9+14hc3+Ae8NMnz8qTL8y11qzb3upGx3+sbnS8we19WZSvP3VKjnObF1ch3gguQDAQ3JAWEEAAAQRaFyAYaN2MIxBAAAEEYhQgGIgRn64DCjQOBuauzMnZea4MCIjM4QYFCAYMYmawqYGhPtm7YVVePrcgywbnt/2m3fL+WxpcLaD6+vn3T8i3z5k5U3/rXQfkN3a4JLaqr9mz5+Wv/m3G4AxpCoF6AYKBehO2IIAAAgiEL0AwEL4xPSCAAAIIGBQgGDCISVMRCxAMRAxOdwEFCAYCAmb58O5++eD9O2STnuPigrzww/Pyb+cMxANbtsiH794mGxvZFebl818ZlwuN9vH6nprHg2oe7nczKMi/f/u4/Ae5gFdR9vMpQDDgE47DEEAAAQQCCRAMBOLjYAQQQACBqAUIBqIWpz9zAgQD5ixpKQoBgoEolFPah8PyO0uz83L0Py/LC2f8XUEwtG+bvPfOLQ2W9ClZnX/ptHzhJTPr/e+79Xr57Ru6XYuwOnlFPnPksuv7vIGAKQGCAVOStIMAAggg0IoAwUArWuyLAAIIIBC7AMFA7CVgAL4FCAZ803FgLAIEA7Gwp6LTgQO75MHb+5zHWliWU6en5MVXZuT45IrzPratA0P98sZfHpJDQw1uKmDtvzwrf/fVc2LmVH2PvO89e2VHzQ3fra70T5NLFtnb5TkCtQIEA7UivEYAAQQQiEKAYCAKZfpAAAEEEDAmQDBgjJKGIhcgGIicnA4DCRAMBOLL9MG9e4blQ6/b3HyOhYJMTy/IxNSiXJ1ekcVldR+Vjnbp7e2SwS09skP9t9FDHlDqaE1efPa4fHfCzE3ah27YLb9/a4N7GSzOypOHz8l081myBwKBBQgGAhPSAAIIIICADwGCAR9oHIIAAgggEJ8AwUB89vQcVIBgIKggx0crQDAQrXeqeusekA/fv73xvQAMT+jisTPyDz+9ZqjVTrn3/v1yyH0VITn/05PyhWNLhvqjGQQaCxAMNPbhXQQQQACBcAQIBsJxpVUEEEAAgZAECAZCgqXZCAQIBiJApguDAgQDBjEz11SXvPP+Ednf4MS6ySmfeumMPPWSqVBApHenuuLhDY2ueFiQf/rSaTlpchK0hUADAYKBBji8hQACCCAQmgDBQGi0NIwAAgggEIYAwUAYqrQZjQDBQDTO9GJKgGDAlGRG2+ntlwfeukN2hxkOFBbl358bl/+YWDWI2CZv/K2DcvtAm2ubsyfPyl+9MOf6Pm8gYFqAYMC0KO0hgAACCHgRIBjwosQ+CCCAAAKJESAYSEwpGEjLAm2yc9cm2eRyo8v5q3MyPqfW3+aBQEIECAYSUoiED2P3gSF58y8OyraN7ifaW59CQcZPXJSnfzwt860f3PiIpssgrcq/PH1CjhrvuPGweDffAgQD+a4/s0cAAQTiEiAYiEuefhFAAAEEfAkQDPhi46CECPRu6ZXdmzocRlOQiQtzMrXs8BabEIhJgGAgJviUdqt/v912oF8O7eyTwY1Ov+eaTWxNZqevyYmTk/KjY3Ph3fS3Y6M88I49Llc6rMmpl8aNLlvUbNa8j4AWIBjgc4AAAgggEIcAwUAc6vSJAAIIIOBbgGDANx0HJkWgvU02dLRJe1vp27WFQkGWV9ZkLSnjYxwIrAsQDPBR8C3Q0SHbh3pkz2CPDA50Sn9vl2zs0r/z2qRTXzVVWJPF5YJcm1+SS9OLcuHSgpy7vGT+6oAGE+hVY+pXAUbn+j4rq6syM7Ms8yZXLWrQP28hYBcgGLBr8BwBBBBAICoBgoGopOkHAQQQQMCIAMGAEUYaQQABBJoKEAw0JWIHBBBAwIgAwYARRhpBAAEEEGhRgKipHHoAAEAASURBVGCgRTB2RwABBBCIV4BgIF5/ekcAgfwIEAzkp9bMFAEE4hUgGIjXn94RQACBvAoQDOS18swbAQQQSKkAwUBKC8ewEUAgdQIEA6krGQNGAIGUChAMpLRwDBsBBBBIuQDBQMoLyPARQACBvAkQDOSt4swXAQTiEiAYiEuefhFAIG8CBAN5qzjzRQABBJIhQDCQjDowCgQQQAABjwIEAx6h2A0BBBAIKEAwEBCQwxFAAAGPAgQDHqHYDQEEEEDAqADBgFFOGkMAAQQQCFuAYCBsYdpHAAEESgIEA3wSEEAAgWgECAaicaYXBBBAAIFqAYKBag9eIYAAAggkXIBgIOEFYngIIJAZAYKBzJSSiSCAQMIFCAYSXiCGhwACCGRUgGAgo4VlWggggEBWBQgGslpZ5oUAAkkTIBhIWkUYDwIIZFWAYCCrlWVeCCCAQLIFCAaSXR9GhwACCCBQI0AwUAPCSwQQQCAkAYKBkGBpFgEEEKgRIBioAeElAggggEAkAgQDkTDTCQIIIICAKQGCAVOStIMAAgg0FiAYaOzDuwgggIApAYIBU5K0gwACCCDQigDBQCta7IsAAgggELsAwUDsJWAACCCQEwGCgZwUmmkigEDsAgQDsZeAASCAAAK5FCAYyGXZmTQCCCCQXgGCgfTWjpEjgEC6BAgG0lUvRosAAukVIBhIb+0YOQIIIJBmAYKBNFePsSOAAAI5FCAYyGHRmTICCMQiQDAQCzudIoBADgUIBnJYdKaMAAIIJECAYCABRWAICCCAAALeBQgGvFuxJwIIIBBEgGAgiB7HIoAAAt4FCAa8W7EnAggggIA5AYIBc5a0hAACCCAQgQDBQATIdIEAAggoAYIBPgYIIIBANAIEA9E40wsCCCCAQLUAwUC1B68QQAABBBIuQDCQ8AIxPAQQyIwAwUBmSslEEEAg4QIEAwkvEMNDAAEEMipAMJDRwjItBBBAIKsCBANZrSzzQgCBpAkQDCStIowHAQSyKkAwkNXKMi8EEEAg2QIEA8muD6NDAAEEEKgRIBioAeElAgggEJIAwUBIsDSLAAII1AgQDNSA8BIBBBBAIBIBgoFImOkEAQQQQMCUAMGAKUnaQQABBBoLEAw09uFdBBBAwJQAwYApSdpBAAEEEGhFgGCgFS32RQABBBCIXYBgIPYSMAAEEMiJAMFATgrNNBFAIHYBgoHYS8AAEEAAgVwKEAzksuxMGgEEEEivAMFAemvHyBFAIF0CBAPpqhejRQCB9AoQDKS3dowcAQQQSLMAwUCaq8fYEUAAgRwKEAzksOhMGQEEYhEgGIiFnU4RQCCHAgQDOSw6U0YAAQQSIEAwkIAiMAQEEEAAAe8CBAPerdgTAQQQCCJAMBBEj2MRQAAB7wIEA96t2BMBBBBAwJwAwYA5S1pCAAEEEIhAgGAgAmS6QAABBJQAwQAfAwQQQCAaAYKBaJzpBQEEEECgWoBgoNqDVwgggAACCRcgGEh4gRgeAghkRoBgIDOlZCIIIJBwAYKBhBeI4SGAAAIZFSAYyGhhmRYCCCCQVQGCgaxWlnkhgEDSBAgGklYRxoMAAlkVIBjIamWZFwIIIJBsAYKBZNeH0SGAAAII1AgQDNSA8BIBBBAISYBgICRYmkUAAQRqBAgGakB4iQACCCAQiQDBQCTMdIIAAgggYEqAYMCUJO0ggAACjQUIBhr78C4CCCBgSoBgwJQk7SCAAAIItCJAMNCKFvsigAACCMQuQDAQewkYAAII5ESAYCAnhWaaCCAQuwDBQOwlYAAIIIBALgUIBnJZdiaNAAIIpFeAYCC9tWPkCCCQLgGCgXTVi9EigEB6BQgG0ls7Ro4AAgikWYBgIM3VY+wIIIBADgUIBnJYdKaMAAKxCBAMxMJOpwggkEMBgoEcFp0pI4AAAgkQIBhIQBEYAgIIIICAdwGCAe9W7IkAAggEESAYCKLHsQgggIB3AYIB71bsiQACCCBgToBgwJwlLSGAAAIIRCBAMBABMl0ggAACSoBggI8BAgggEI0AwUA0zvSCAAIIIFAtQDBQ7cErBBBAAIGECxAMJLxADA8BBDIjQDCQmVIyEQQQSLgAwUDCC8TwEEAAgYwKEAxktLBMCwEEEMiqAMFAVivLvBBAIGkCBANJqwjjQQCBrAoQDGS1sswLAQQQSLYAwUCy68PoEEAAAQRqBAgGakB4iQACCIQkQDAQEizNIoAAAjUCBAM1ILxEAAEEEIhEgGAgEmY6QQABBBAwJUAwYEqSdhBAAIHGAgQDjX14FwEEEDAlQDBgSpJ2EEAAAQRaESAYaEWLfRFAAAEEYhcgGIi9BAwAAQRyIkAwkJNCM00EEIhdgGAg9hIwAAQQQCCXAgQDuSw7k0YAAQTSK0AwkN7aMXIEEEiXAMFAuurFaBFAIL0CBAPprR0jRwABBNIsQDCQ5uoxdgQQQCCHAgQDOSw6U0YAgVgECAZiYadTBBDIoQDBQA6LzpQRQACBBAgQDCSgCAwBAQQQQMC7AMGAdyv2RAABBIIIEAwE0eNYBBBAwLsAwYB3K/ZEAAEEEDAnQDBgzpKWEEAAAQQiECAYiACZLhBAAAElQDDAxwABBBCIRoBgIBpnekEAAQQQqBYgGKj24BUCCCCAQMIFCAYSXiCGhwACmREgGMhMKZkIAggkXIBgIOEFYngIIIBARgUIBjJaWKaFAAIIZFWAYCCrlWVeCCCQNAGCgaRVhPEggEBWBQgGslpZ5oUAAggkW4BgINn1YXQIIIAAAjUCBAM1ILxEAAEEQhIgGAgJlmYRQACBGgGCgRoQXiKAAAIIRCJAMBAJM50ggAACCJgSIBgwJUk7CCCAQGMBgoHGPryLAAIImBIgGDAlSTsIIIAAAq0IEAy0osW+CCCAAAKxCxAMxF4CBoAAAjkRIBjISaGZJgIIxC5AMBB7CRgAAgggkEsBgoFclp1JI4AAAukVIBhIb+0YOQIIpEuAYCBd9WK0CCCQXgGCgfTWjpEjgAACaRYgGEhz9Rg7AgggkEMBgoEcFp0pI4BALAIEA7Gw0ykCCORQgGAgh0VnyggggEACBAgGElAEhoAAAggg4F2AYMC7FXsigAACQQQIBoLocSwCCCDgXYBgwLsVeyKAAAIImBMgGDBnSUsIIIAAAhEIEAxEgEwXCCCAgBIgGOBjgAACCEQjQDAQjTO9IIAAAghUCxAMVHvwCgEEEEAg4QIEAwkvEMNDAIHMCBAMZKaUTAQBBBIuQDCQ8AIxPAQQQCCjAgQDGS0s00IAAQSyKkAw4K+y3V3tsnnTBtnQ2V5sYGmlIFdnlmRZ/Qzy6NnQIQN9XcUmTLQXZCwciwACZgUIBsx60hoCCCDgJkAw4CbDdgQQQACBMAUIBsLUpW0EEEAAAeMCBAOtk/YN9siu9ZP31UeflVfO9FdvavFV244+ObQeNlyZviiXp3tabIHdkyzQpWq7aWOnFNbWZGZ+RQqFtSQPl7EZFiAYMAxKc6kV0AH4DXs2FcP0Y6dnZHHJX6huqp3UQjJwVwGCAVca3kAAAQQQCFGAYCBEXJpGAAEEEDAvQDDQoqm6UuCG7X0uB51UwcBWl/e8bW5XbR9UfejHpamL6ioEggFvcunYa/OefhleH+ryyqiMnb8uHQNnlEYECAaMMNJIBgR+74Ebyr8Lp+delSe/6S8kNdVOBkiZQo0AwUANCC8RQAABBCIRIBiIhJlOEEAAAQRMCRAMtCbZdd1GGenpXD9oQo6P9xa//d3Z0Sb62+DXFldba7Bmb4KBGpCUvNS172hvK14BoJeVcnrorbtUMGBdUzK3cE7OXtrktCvbMipAMGC2sPrb4hvV8mvWUm5mW6e1sATW2kQ++Ds3lH8Xjp4bk699f7mqOy+19dJOVaO8yJUAwUCuys1kEUAAgcQIEAwkphQMBAEEEEDAiwDBgBelyj72E/dnL03J3ELp2/2VPYI9s7fPFQPBLKM6Wp/w36dO+Jeu7VhQV40sqi3On4vOXZtkvwoQ9GNm/oKcv9JbfM4f+RAgGDBXZ31S+I/UyWXr792nv3xS1tac/96Z65WWTAm8/V0H5cb1q+OOnT4p33p+qdx0K7Vt1E65QZ7kUoBgIJdlZ9IIIIBA7AIEA7GXgAEggAACCLQiQDDgXUsvdLDFthTM6LkZWQl2gUBd5wQDdSSJ36A/F9vU52KwONIZFQzoqMD5BKXet6OtFAzo+wzwyJcAwYC5euu/Pf+HWo7G+nv36S+fJRgwxxt6S7p+3ev306m9yqqV2jZqJ/RJ0EGiBQgGEl0eBocAAghkVoBgILOlZWIIIIBANgUIBlqr63XlE8Aio+euqGCgq7UGmuxNMNAEKKFvVz4XV1Uw0KFGWTr5n9DhMqyYBAgGzML/QTkYuCp//qWLqnH+3pkVjq81ahuffVZ6JhjISiWZBwIIIJAuAYKBdNWL0SKAAAK5FyAYaP4R0KeaOtfXkN87XFn6ZWJyQeaurUib+gb4mvr298qq/u5i6aGP2aCWSehW6193dbSrfURWC2vFexAsLOm1lJ2/Ue4lGNBr2fdt7JQN69+2XF4tyLWF1eI62+vdu/7oUePZ2N1RXA9f76S/qannoMfm59GuJta9oV3NX2RhaUU10VY8Nder7sOg+9EPPb7Z+db68DtOPYse5a7712PT38pfXFpVY6if33LNvQBarZmuaaeqra7HTvW5KN15YkVOXVhU/RanXrSwfxtWf1a615fPWFxeLbrpcerPin4sLheKn6XS0c5/6uN1OwXVib1t+95+/YJ8tuz989xZgGDA2aWVrdZnVN9b4IG37i3/vfv7Z86W/z7ofSZnl4p/v3Tb+nfldVu6ZVX9HrhwdaHY3WD/Brlpb7+6N0ybWtJrQV4dny3vr393DfSWQl/9e97t4h59b5mhge5ie5emFl1/j+rfFcNbemTP8EbpXf+9eHl6SYXLc77vS2PNaUn9ztB964f+tbNb3Qdn51BPsZ95dc+bE2fn1E3sK8v0FHd0+UMfv1W57FXj3Kzu36Afuo1zlxfkvPqv2VVO2m3/zj5lsqF47NTcspyeuObYv5Odn9o6taM71z66xvpxeXqx6t/n4saaP67b3F38Xa5/p9Z6Ba1fKy41w+JlAAGCgQB4HIoAAggg4FuAYMA3HQcigAACCMQhQDDQXL1DnVw4oE4aNH6U1pZva+sonpTpK9+g2PmoMxfnHU8INQoG9AI1w9v7ZHD9JHJ9yzPq5JY6OVR/Dlw2b+oqnpiqP6a0ZXllSk5eKJ3gd9vHaXvbjj45tB5QjJ6bVSe9O2SXOjHl9JhbmFQ32y2FBU7v621BxqlPuO3eVglu3Pqwtp84O1s8kadPsusTaa3WbHWwR35h/eSZ1abTT/u9IuxeV6YvqhNWPbKmTizeuH4iTeS4uuJg2KmZ0jZV+xvUZ6D0mFD7Vlv79Qvy2XIfLO/UChAM1Iq0/vrm24flngObmx743E9PyI+OldZ6+823j8gt639Xn/zmmNx806C8tqYN+/53q/XvX7P+e9a+vbbTG1Q777jluuLm518alR+8pMPR6scvH9wsb/kV97/T03NX5G++fcU1VKhurfKqMqcFdbXEKXUyv0/e86bdlR2qnk3IZ5+aarj03Q17Nsk7Xrez6qjaF/95YkL++cdTtZtF3xPgPXdfL9e7/js5o/o/X9V/Zfwill3Q2lrt6AEeunlI7r156/pYjysj/VvO+dGvxv0/7rl+/c0JtW9ljkHq58fFeYRs9SNAMOBHjWMQQAABBIIKEAwEFeR4BBBAAIFIBQgGmnN7DwaWZYNaamhf8yaLezjdo6BRMGC/ca1bF2Pn56T2m/B96gT2Lg8nsEWuyqtn9LdOS999d+vDvt0+Xvt2t+eNbrgbZJxdKhQYaSEU0OM7cXZanYxT39b3WbO2rT1yaP1bxW7z1dutAEA/t3tZgUHt2I+rwEJfDeD02KD63Lfe5/LKaRk7v6W8WxA/v5+tcuc88SRAMOCJqeFOv/LaHfIm9U3/Zg/7SeI3q5O+t7metC619NSzZ+SU+na7ftj3bxQM7Fcn/d+5ftLfab/XqRCjNoAo9Vb751X5f758QX0jv3Fwaj/KPkZ95YH+pn7jhz7hPal20ddGVT9+VY3zrpqgpHqPyqvpuXF58pvzlQ3qmf0GwFVv2F7oQGZaXUFgPezjt+yC1tZqR/ehr+J6ry0o+cuvHVdXjzmHA7+mPlO/vv6Zmp4bU/MrjTNo/fy4WD78DC5AMBDckBYQQAABBFoXIBho3YwjEEAAAQRiFCAYaI6vl3rpUcvltOslY4Yq39DWyw3MFpcSKrUxp5Zc2KdOMvcUXy6oJSukuISOXn5BL0UwoE7O6+UkrMfcwjn1DfpN1sviT6cTx/qNNvWt/EPq2/nW4+ylazK3UPp2qh6XXgZBL/1QGwzUnnS+tjij+iwtsaPb0kst6GOtR6MT99Y+9p/28Va2r6ilJ5aLS1Do5T6G1RUElahhRV3VcK3uqoYg4yx+29127wd99cOpCx3FZS+0+1ZVs622Kzi0nQ5P9JIR+li/NdPuetmi6s/FivJdLi+5oU/BXVMno/RSU/ph97KCAT2GXWr81qlOa3vxANsfuoXKTY5F9TOlPgOlJYiC+Pn9bNmGxlOPAgQDHqEa7KaXLtuufo/qn5VvuK/I4e9PyIJaVkc/OtXfzbOXr5WXj7GfhLY3/dxPLxV/F9z5S9fJM/9+1mgwUHtievzSZfnac5PF3zv699LtNw7KXetXG+gxHTt9Ur71vLclf/T+jeb0n6NTaimhTnnHb+6V62xXmP345ePyry+WjHQb+lE7TpEZeerZ6aKf/rWllya6W51gt34/6WOe++kpdTVGafmiXvXvzofUFRnW4/D3z8oJFVToh67RXcr2l1To4CUYCFpbezCgv63/wd+5oTxu+3vWWPVP/Xu1chNrUZ+jMTX+5TqXVuvn18U+Np4HEyAYCObH0QgggAAC/gQIBvy5cRQCCCCAQEwCBAOtwVduMut882G9lMvKylr5pH1t693qRLy13EKhMC7Hzw5U7eJ04ljv0K7aPbgeKridvNcnoUunnytN2r8NP7dwSZ1MroQA1l4b1P0K9pUDD73W9nLdiXtr39qf9vGW3ptQx2+sOr5LhRojtlDjwtUp9c3R6nssBBlnh1rn+8BOK2CZUcvr6BNf1e33qv53ry95dO7yJRXoVByC1kzPu/K50DcfrsQgJZPKn3YvewDQpk6+HSqHF87LCbWrkOVg+R4Xqk5nVMCyHrkE8fP72arMimdeBQgGvEp526/6BrWXXA+qP4m+Ik8cPuW4nJtuxL6/2wllvV+jKwZ+W90YeZ/eST1Gz43L175f/S17vX2fWr7nt8vL9yyo5XZOVy23o/dxe9jHWNrnqjr+cjkM0dv0vwfvVePYVdpB/Vm9TI7e/Ls173/6y1fV7+/q35/6JPsH1En2yoJIlZs92w3cwg3rfi/lYagn9vE7GfupbW07d75hl7y+fCWF83JCg+qKuj9Q96ooPRbUlRtjxSs3gtbPr4vdiOfBBAgGgvlxNAIIIICAPwGCAX9uHIUAAgggEJMAwYB3eH2Sxf6N7dpv53tpqdlJbLcTx/bljK4tTsiZi5UrF9z6rf4muHVzzcoJcftxfeob69bJo7HzU+pbtNUnhuz72p/bx6tPOr16pqt8stq+X5c6MT+yfmLefkJc7xN0nD1qGaG968sIXVscVzbVYYvuo1Ot479/fR3/2v71+40ezWpW/blwDias9u1e9nF0KJsDtvDEWubIOk7/7FLhwch6eGCfZ1A/P58t+7h47l2AYMC7VbM99d+7yje9Z+TTXz5bd0LbasN+Elpv+/w/n1JXdJW+8W7tY/9p37/2ZLN9P/vJX/t+1d8WX5DPfOW4WrasdCNc+/H6uf3E/JPffFWFpnpmzR/2Mepl4D7zlbOOfVSf+Bb5q2+cUMFo6d4LW9XVYv+9vLa+qHsdnFA33i29VzuCARVqP/i2feXNlqH9Pgvjl87Il/6ltBxTeUeXJ/bx2+307n5rW9tO7ZifOPyqCoOqfX9dhQe/th4ejF8aVeNfERP18+viwsVmHwIEAz7QOAQBBBBAILAAwUBgQhpAAAEEEIhSgGDAu7Y+nRA0GKheNqb+JLLXE8dzC3NquR69RI37+LvVVQbXr19lsLwyqpYZKt0k0+kIe79O3+h3OkZvsx83MXlRpmYrSyXZj7F/K91+QlzvE3Sc9isepuYuysTV+jEU1Amwm9SJLf2o7b+4scEfzWpW/bmor6m9abtX7Tg2q3DG+kau/b4E+vjqMYicnpiThfX1soP61YYSXj5b9jnx3LsAwYB3q2Z76r93foIBt2+12/trdNLavp9bMHCjuvfA29fvPTA996paRsf9F7W9r2d+eEpeGnMPLOx924/77v8+Li8e178l6h+1S+rYT/7bT16LnFT3IGi8lNHvqasLrN9R1kn42pPvo+euyDf+vfnNlO3jt9qyRu+3trXt6PbsY7bfd0K/V2tjhR0m6ufXRY+LhxkBggEzjrSCAAIIINCaAMFAa17sjQACCCAQswDBgPcCVJ8Alrr1/O0t6WV9utXSLxvVt9m719eh1+/rJRX0ttKj/iRyoxPH9uVi1hsoLlk0cXWhavkI6z37yXi9ze2Gtvo9vU6+9ag9YW1td/rZaLz2/e1jqW3f/p4+ptVxVn+jXy/lo30r89Ft2u3cgg+/Nav+XNTXVPdvPRp5tavw4uB6eKFP0r1yZqt1mFQvI1Q9x6B+uhO7j9WpvoeF22fL2oefrQkQDLTm1WhvvyePG51Et/prdNLa2kf/dAsG7Nv1fovr9z7Qz2sf+t8H6+F0Ytt6r/an1zFWO4nYT47bgwHr2/K1/dhf3/Ube+RX1ZVL+mEfq33ZHWt/fUPk/+/HE8X78Fjb7D8bjb96zN6vBrGPyerrNb98ndyt7udQelSHH9VXUzgvj6SP81s/Py7rA+WHAQGCAQOINIEAAggg0LIAwUDLZByAAAIIIBCnAMGAd/3qE8DuwYC+ma++qW/zR/1J5EYnjvUNK7eptfQ3207iW30UCtNy8kJ7VUCwQa2dvE/dGLLVR+2J+0bHNxqv/Tj7yeva9oOOU39Pdrj25sMT6ubDBX3T5zYZVCeyhsphjMjx8Sm1hnTlZJweZ5CaVX8u6mta5bC9Tw6unwisdSioeyXcVL5Xgl6XfKa83rh9GaGZ+TNy/srmcrNB/XRDrX62yp3zpCUBgoGWuBrubPLkcW1HjU5a2/e1BwD2k9K/evuw3KVuuNvqw95Gs2O9jlG3c/e7Dspr1n/vPPXsmLrJ8nKx+bvVMkKvUf9e6YeXwMS+7JH96oYO9W/S++8/UHWj42Kj6o/F5Sn5u+9cqQsIGo3fZG31FWV/fO9+azhVSynZlxE6dvpVdfNn3bOIqfr5cSkPlCeBBQgGAhPSAAIIIICADwGCAR9oHIIAAgggEJ8AwYB3++oTwM7BgH0tfavl5ZWCLKn/9CPIFQNWez3qSoShrT3Su75mv7Vd/zx1YUadiClt6VHr6u9dX1dfb7ky3XiZiNJRar+ZxYZLFFn76Z8mggET41xQwcAt9oG5PL86c1ktJVQd2gStWfXnwn8woIds/+b+1Znzaqx9dcsI1d7bwoSfxeX1s2Xtz8/WBAgGWvNqtLfJk8e1/TQ6aW3f1y0YuOXmIfnNmytX/Dz/0hX7Ya7PX/h58yV4rIO9jlHv/5tvH5Fb1kPi5356Sn50rLRckT0YsG+3+qj9aQ8YnEKM7SqMvud1O2TIIZD++2fG1O+z9X+cVMONxm+6tvZv7v/45ePyry+qZfhU0P5BdUPl/vVJPvnNMXV/h9L4TNevFZdac177FyAY8G/HkQgggAAC/gUIBvzbcSQCCCCAQAwCBAPe0atPANcHA13qxrAj68ss6FavziypEyH160VfV/52e/1JZK8n2nX7evmfHSog6Fu/Ia3eJnJWLUFTOtVh/5b+4vJxFRpYq0OX9jTxp9fx2sdS+015+3t+xqmXbLp+uLfpdC5NLaiaVE5M6QNM1Kz6c6GX+dFXI1RfkWANrpmX/UbAVi2rlxGq1LfcprqXxMH1e0n48bPasf9s9tmy78tz7wIEA96tmu1ZffL4qrr58ISnmw87ndCu7avRSWv7vm7BgH37pamfy98/Yy0fZz862HOvY6x2EjWWygl6+1JCl6ZOqffq/72yj7I6SDihAgbnGxV3b2iXt925Q/av39S31MZZdQ+DuXJzjcZfPebgtbXPU/9e1eOoXkaoemxh1c+LSxmIJ4EFCAYCE9IAAggggIAPAYIBH2gcggACCCAQnwDBgHf76hPA9cGA/aTu4vI5dSJ+U13j1W0ECwasxnvVUgm7h0rrPotU2rSfcLdOMlvHmPrZ7ES31Y99LI2CAT/j3KDCkX29pSWTTk/Mq+V3CtKnTDrb29WSQWvqJr2rsrC4Ktq+9mGiZtU1XVFLFc3VLVVk9dvMa02t6XPj7srn5sTZWenY0l2eX+1NiXW7dls/ftbYnH66fbac9mVbcwGCgeZGXvfQf+8qNx9ekb/4pxPqyix9p5D6R6OT0PV7137D3v0EuH3JGXvgYD+xbJ2IduonyDb7nKxvwTu1162WUfsjtcyP9bB/M776hHlljX1rX/vPgvrd9Me/c0isW7s/9ewZtSTRNfsudc8P7tkk971u5/r26nsF2Mdvt9M7m66tvsH6//ztg+XxPXH4hNxy2zb59b2lEN1+3wW9U9j1a+RSHiRPAgsQDAQmpAEEEEAAAR8CBAM+0DgEAQQQQCA+AYIB7/bVJ4DrgwH7Sd+JyYsyNWudQqn00aVOUIzs6FvfUDmJb+1hb6P2BLq1j9PPylUIlRvTVt+UV+T0xJw6SV5a0sipDT/bvI7XfvK6dl5Bx9mmPA+tL6s0fnFe5lUI4PVhH7/fmunPxU51FYi1JIX93gC147D3V+tg7Wtf2kgvQ9Wm5ta5/uZxFRTU3pw5qJ/Vr9tPp8+W275sbyxAMNDYp5V39d+7Dz5QWQrmr75xQq1j7/x3v9FJaKc+b1M3rH3z+g1rp+fG5clvztftdnBkQO67Y3t5u/3ktg4m/0/buvaf/+dTcuFq42/jlxvy+MQ+J32IWx+/9tod5RPgIgvyma8cl9VCaTm16m/Nixz+/picOFd9VZU1nF+8aVB+65br1l9Wt2Pt4/TzD1SNSrf+rQ4e7OO32+k2wqjtb6nllH5xfYkjvWRQr3pu/V79y68dl0Xbv41R1M/NxcmQbf4ECAb8uXEUAggggEAwAYKBYH4cjQACCCAQsQDBgHfwZsGA/dvnpW9u629+V77B2q1u/ni9uvls5eE9GOhV34ofUKdL9Mkl9SX4qsdG9Y3QPduspXSq29y4a5PsKd+seEHGzq+KPtns9NBLEumb0M5eW3F623GblxPd+sBGwYB+P8g47VcM6Lb0ifPF5ULxagH9XP1PVldLVw5cU6GBvorAepioWe3nYmJyVoVCpT70n5VPgHJocPNha0xt6qTiofIVINZWPa8xOX52qLLB9iyIn9/Plq17nnoUIBjwCOVhN/13q3LFgL557ll58XhpqZrav3eNTkI7dbVLfdP9d8vfdBd5+gfjaomwSjhwuzpJ/sbiSXL9u7J0ern25PY71Q1/96/f8FefkH/ym+fLa9jb+9S/c/ercFMHfK+cmbW/1fC5fU7Wjk//4FxVGyNqKZ93vWGX9ba6ofmYfO371Sf+7TcU1jv+/TOn6pbAO6Daub+qnVdVO6Xfca9XwYP+t+mZFyZU4FDaZnW4Vy3x9p437V5/6feKATO1ra2pNcbF5VH5y6/W/5sXtH5+Xaxx8TO4AMFAcENaQAABBBBoXYBgoHUzjkAAAQQQiFGAYMA7vj7lsa18f4D6Kwa61An6kfIJet3uVTl7qUedyF+TLf0bau4FoN+vPomvt7idOO5WJ5SvXz/JNLewIpPq/gVt6ozSZrW+vP0eA9cWJ+TMRWtZIbWGvjpmpCqMENEnxydnl4oncfQVDANqGR4dLuhHofCKOvm8o/jcyx9u4609tlkwEGicymGHWn7H+sZ+bd+1r6fmFmTiaunkmIma6fbtDvq1rtGKCiM2q2+l2q9EsO/ndsXAkjpReHB3//qSHZUTjxeuTqkTi873Lgji5/ezpefJozUBgoHWvJrtXXtyfPTcnMypYPOXDmxWQcFxFRSUQlD7frUn8J36WFFh6p+851D5G+V6n/FL1+SMWjrnZnVTYaffNbXtbt3cLf/9nuurmtdtHH11Uv1+WJUt6nf3zeqqg93r96VZXH5ZnaC2x4hVh9a9sM/J/qb+NvyLJ6bkpuv7ZZsag/1R+814/d5OdfL+veWT96W99b1xfqra0P8+/NIvbJUt5YBDv6+vFjhTDgHs9x3Q/j95ZVI6Vciha2C/x8D4pTPypX+pLD1kH3+tne7F/r5+HbS2uqYPqZqWruOr/F595oen5KWx+qs5gtbPr4ueKw8zAgQDZhxpBQEEEECgNQGCgda82BsBBBBAIGYBggHvBdCnmHbZlowZOz9X9+17+zIwjVrW32Rvb59V3+7UrVZO9tpP0tpPHNtPKLu3OyOvjusrCqpPBm1S30Df6fANdKd2Wg0G3MZb23azYEDv73ecWnDYFtjotkq+7ifZrs6cV9+KLV29EbRmur/qGwTrLZXHuctT6iqMUo09e9muLCi1tKJqe63uapFKL/79gny27P3zvLkAwUBzo1b2qF0Kx37s0z84qX6/LhU32U/SOp2Eth9nPb/x4GZ5+680umH7VRU+LMtb1vdxavcGdeXBO2xXHlhtO/00FQw4ta23NVom6GY113saztVqdUGeOHy2GC5bW2pP4Fvbq3/OqDDhVHkJI/1es5qEUdv6sa7IZ58aVSFu9WitV0HqV9+X1ar9Z72L/V2eBxMgGAjmx9EIIIAAAv4ECAb8uXEUAggggEBMAgQDrcFvViegrVNF+sawtUsn6NaGBrpl60BpDWd763MLi3Lu0pJ0qm+Ijqhle/QVBa+c0d/Ur5zAti+LY/+GuN5jSH37s19deWCti2xve0p9S/Ti1Vm1oIPTuyId6tuSOhywrgywH6ufFwpLcmVmrXglgW2lndrd6l67jbd2x3b1zfmDg6Xvak5MTqqldkpXKNTu52ec9pPthcK4uuJBL+FUCVt0H/obrAPqZPuQcig9qu2D1Gy9Qddg46QKkJbWl2/y6lV7BcDcwiV19Ul14GP1a//pxy/oZ8veP88bCxAMNPbx867bydu/+fZJuaqurNIP+zr7bt8Qd+pbL6HzdrWETu1v1f9U36b/5x9fKAaC/9c7Sze1tV+hYG9L/86999d3lq8MsL+nny8uL8oLP58pftPe6d+T2v2t1/YTz8/88Li8ekbkPeoKhe3r6+hb+03PzcuXn51wXMbI2kf/HFT/trz9dTvqrjIo7bMiz780Lc//10UVTlb/bm1XV2y94ZYh+WV1T4ZaJ32stvru/z6nlnCr/p3vpSama1t7FcDouXG1JFJliajSXKv/9Fs/vy7VvfMqiADBQBA9jkUAAQQQ8CtAMOBXjuMQQAABBGIRIBgIh10vO9ShTpio/xVvpKi/wW7qodvUywjpE7r6JL59zXwvfegTFta49PF6qaMkPryMs12d6D+o7qNQeiyob9WrcKTmiglrblNq3zvK+9Yv46QVTNRMj3utWHX1M0ZbL36WjfVTfy6CfLasdvjpLEAw4OxiYusGteyNPrGuP8N6GS+TD922vgeA/l27pO5f4vevtb0dfd8TPV6/bdmDAfvVCjoc7OxsE/33X4+1lbBBm2m/ro7SfPVrfU8ar572vvX8rEBUtxPkEWZtWxmX3/qF5dLK2PO4L8FAHqvOnBFAAIH4BQgG4q8BI0AAAQQQaEGAYKAFLHZNnIA+WXdgZykYWF4ZVTdXvs51jG3q5N4hdZPP0qM+GHA9kDcQMCRAMGAIkmaq1uC3BwPQIIBASYBggE8CAggggEAcAgQDcajTJwIIIICAbwGCAd90HJgAgeqT/aKW27lWvPFv7dD0t2f71Q2KrWWglldOqxBhS+1uvEYgVAGCgVB5c9W42xUDuUJgsgg0ECAYaIDDWwgggAACoQkQDIRGS8MIIIAAAmEIEAyEoUqbUQnU3hC61O+CTM11qLW7V6WzvV361M2Xu7uq18V2unF0VGOmn/wKEAzkt/amZ04wYFqU9rImQDCQtYoyHwQQQCAdAgQD6agTo0QAAQQQWBcgGOCjkHYBve7zvvISQc1nc3piXhaWVpvvyB4IGBYgGDAMmuPm7lY3Gn6NuiG9frCUUI4/CEzdVYBgwJWGNxBAAAEEQhQgGAgRl6YRQAABBMwLEAyYN6XF6AX0lQMD6sqALZs2FK8O0DclrjxW5Npim0zOLsnstSW1ufrqgcp+PEMgXAGCgXB989T6r94+LHcd2Fyc8tM/+P/bs4McyW0liqK1/y16ZMALcdlAowEBTVRKIh8ZcTz5rp+ZCvKE4Mn9++uvf/77b5t/CBD4JSAM/JLwvwQIECCwUkAYWKltFgECBAg8FhAGHhN6AAECBH4kIAz8iMmXCBAg8FhAGHhM6AEECBAgcENAGLiB5icECBAgkBMQBnL2JhMg0EtAGOi1b7clQCAnIAzk7E0mQIBAZwFhoPP23Z0AAQIHCggDBy7NkQkQOFJAGDhybQ5NgMCBAsLAgUtzZAIECBQQEAYKLNEVCBAg0ElAGOi0bXclQCApIAwk9c0mQKCTgDDQadvuSoAAgX0EhIF9duEkBAgQIPADAWHgB0i+QoAAgRcEhIEXED2CAAECPxAQBn6A5CsECBAg8LqAMPA6qQcSIECAwEwBYWCmrmcTIEDgt4Aw8NvCvxEgQGCmgDAwU9ezCRAgQOBPAsLAn2T8/wQIECCwpYAwsOVaHIoAgYICwkDBpboSAQJbCggDW67FoQgQIFBeQBgov2IXJECAQC0BYaDWPt2GAIF9BYSBfXfjZAQI1BIQBmrt020IECBwioAwcMqmnJMAAQIE/hcQBrwIBAgQWCMgDKxxNoUAAQLCgHeAAAECBBICwkBC3UwCBAgQuC0gDNym80MCBAh8JCAMfMTlywQIELgtIAzcpvNDAgQIEHggIAw8wPNTAgQIEFgvIAysNzeRAIGeAsJAz727NQEC6wWEgfXmJhIgQIDA15cw4C0gQIAAgaMEhIGj1uWwBAgcLCAMHLw8RydA4CgBYeCodTksAQIEyggIA2VW6SIECBDoISAM9NizWxIgkBcQBvI7cAICBHoICAM99uyWBAgQ2E1AGNhtI85DgAABAkMBYWDI40MCBAi8JiAMvEbpQQQIEBgKCANDHh8SIECAwCQBYWASrMcSIECAwBwBYWCOq6cSIEDgKiAMXEX8TYAAgTkCwsAcV08lQIAAgbGAMDD28SkBAgQIbCYgDGy2EMchQKCsgDBQdrUuRoDAZgLCwGYLcRwCBAg0ERAGmizaNQkQIFBFQBioskn3IEBgdwFhYPcNOR8BAlUEhIEqm3QPAgQInCUgDJy1L6clQIBAewFhoP0rAIAAgUUCwsAiaGMIEGgvIAy0fwUAECBAICIgDETYDSVAgACBuwLCwF05vyNAgMBnAsLAZ16+TYAAgbsCwsBdOb8jQIAAgScCwsATPb8lQIAAgeUCwsBycgMJEGgqIAw0XbxrEyCwXEAYWE5uIAECBAh8CwgDXgMCBAgQOEpAGDhqXQ5LgMDBAsLAwctzdAIEjhIQBo5al8MSIECgjIAwUGaVLkKAAIEeAsJAjz27JQECeQFhIL8DJyBAoIeAMNBjz25JgACB3QSEgd024jwECBAgMBQQBoY8PiRAgMBrAsLAa5QeRIAAgaGAMDDk8SEBAgQITBIQBibBeiwBAgQIzBEQBua4eioBAgSuAsLAVcTfBAgQmCMgDMxx9VQCBAgQGAsIA2MfnxIgQIDAZgLCwGYLcRwCBMoKCANlV+tiBAhsJiAMbLYQxyFAgEATAWGgyaJdkwABAlUEhIEqm3QPAgR2FxAGdt+Q8xEgUEVAGKiySfcgQIDAWQLCwFn7cloCBAi0FxAG2r8CAAgQWCQgDCyCNoYAgfYCwkD7VwAAAQIEIgLCQITdUAIECBC4KyAM3JXzOwIECHwmIAx85uXbBAgQuCsgDNyV8zsCBAgQeCIgDDzR81sCBAgQWC4gDCwnN5AAgaYCwkDTxbs2AQLLBYSB5eQGEiBAgMC3gDDgNSBAgACBowSEgaPW5bAECBwsIAwcvDxHJ0DgKAFh4Kh1OSwBAgTKCAgDZVbpIgQIEOghIAz02LNbEiCQFxAG8jtwAgIEeggIAz327JYECBDYTUAY2G0jzkOAAAECQwFhYMjjQwIECLwmIAy8RulBBAgQGAoIA0MeHxIgQIDAJAFhYBKsxxIgQIDAHAFhYI6rpxIgQOAqIAxcRfxNgACBOQLCwBxXTyVAgACBsYAwMPbxKQECBAhsJiAMbLYQxyFAoKyAMFB2tS5GgMBmAsLAZgtxHAIECDQREAaaLNo1CRAgUEVAGKiySfcgQGB3AWFg9w05HwECVQSEgSqbdA8CBAicJSAMnLUvpyVAgEB7AWGg/SsAgACBRQLCwCJoYwgQaC8gDLR/BQAQIEAgIiAMRNgNJUCAAIG7AsLAXTm/I0CAwGcCwsBnXr5NgACBuwLCwF05vyNAgACBJwLCwBM9vyVAgACB5QLCwHJyAwkQaCogDDRdvGsTILBcQBhYTm4gAQIECHwLCANeAwIECBA4SkAYOGpdDkuAwMECwsDBy3N0AgSOEhAGjlqXwxIgQKCMgDBQZpUuQoAAgR4CwkCPPbslAQJ5AWEgvwMnIECgh4Aw0GPPbkmAAIHdBISB3TbiPAQIECAwFBAGhjw+JECAwGsCwsBrlB5EgACBoYAwMOTxIQECBAhMEhAGJsF6LAECBAjMERAG5rh6KgECBK4CwsBVxN8ECBCYIyAMzHH1VAIECBAYCwgDYx+fEiBAgMBmAsLAZgtxHAIEygoIA2VX62IECGwmIAxsthDHIUCAQBMBYaDJol2TAAECVQSEgSqbdA8CBHYXEAZ235DzESBQRUAYqLJJ9yBAgMBZAsLAWftyWgIECLQXEAbavwIACBBYJCAMLII2hgCB9gLCQPtXAAABAgQiAsJAhN1QAgQIELgrIAzclfM7AgQIfCYgDHzm5dsECBC4KyAM3JXzOwIECBB4IiAMPNHzWwIECBBYLiAMLCc3kACBpgLCQNPFuzYBAssFhIHl5AYSIECAwLeAMOA1IECAAIGjBISBo9blsAQIHCwgDBy8PEcnQOAoAWHgqHU5LAECBMoICANlVukiBAgQ6CEgDPTYs1sSIJAXEAbyO3ACAgR6CAgDPfbslgQIENhNQBjYbSPOQ4AAAQJDAWFgyONDAgQIvCYgDLxG6UEECBAYCggDQx4fEiBAgMAkAWFgEqzHEiBAgMAcAWFgjqunEiBA4CogDFxF/E2AAIE5AsLAHFdPJUCAAIGxgDAw9vEpAQIECGwmIAxsthDHIUCgrIAwUHa1LkaAwGYCwsBmC3EcAgQINBEQBpos2jUJECBQRUAYqLJJ9yBAYHcBYWD3DTkfAQJVBISBKpt0DwIECJwlIAyctS+nJUCAQHsBYaD9KwCAAIFFAsLAImhjCBBoLyAMtH8FABAgQCAiIAxE2A0lQIAAgbsCwsBdOb8jQIDAZwLCwGdevk2AAIG7AsLAXTm/I0CAAIEnAsLAEz2/JUCAAIHlAsLAcnIDCRBoKiAMNF28axMgsFxAGFhObiABAgQIfAsIA14DAgQIEDhKQBg4al0OS4DAwQLCwMHLc3QCBI4SEAaOWpfDEiBAoIyAMFBmlS5CgACBHgLCQI89uyUBAnkBYSC/AycgQKCHgDDQY89uSYAAgd0EhIHdNuI8BAgQIDAUEAaGPD4kQIDAawLCwGuUHkSAAIGhgDAw5PEhAQIECEwSEAYmwXosAQIECMwREAbmuHoqAQIErgLCwFXE3wQIEJgjIAzMcfVUAgQIEBgLCANjH58SIECAwGYCwsBmC3EcAgTKCggDZVfrYgQIbCYgDGy2EMchQIBAEwFhoMmiXZMAAQJVBISBKpt0DwIEdhcQBnbfkPMRIFBFQBioskn3IECAwFkCwsBZ+3JaAgQItBcQBtq/AgAIEFgkIAwsgjaGAIH2AsJA+1cAAAECBCICwkCE3VACBAgQIECAAAECBAgQIECAAAECBAgQIJAREAYy7qYSIECAAAECBAgQIECAAAECBAgQIECAAIGIgDAQYTeUAAECBAgQIECAAAECBAgQIECAAAECBAhkBISBjLupBAgQIECAAAECBAgQIECAAAECBAgQIEAgIiAMRNgNJUCAAAECBAgQIECAAAECBAgQIECAAAECGQFhIONuKgECBAgQIECAAAECBAgQIECAAAECBAgQiAgIAxF2QwkQIECAAAECBAgQIECAAAECBAgQIECAQEZAGMi4m0qAAAECBAgQIECAAAECBAgQIECAAAECBCICwkCE3VACBAgQIECAAAECBAgQIECAAAECBAgQIJAREAYy7qYSIECAAAECBAgQIECAAAECBAgQIECAAIGIgDAQYTeUAAECBAgQIECAAAECBAgQIECAAAECBAhkBISBjLupBAgQIECAAAECBAgQIECAAAECBAgQIEAgIiAMRNgNJUCAAAECBAgQIECAAAECBAgQIECAAAECGQFhIONuKgECBAgQIECAAAECBAgQIECAAAECBAgQiAgIAxF2QwkQIECAAAECBAgQIECAAAECBAgQIECAQEZAGMi4m0qAAAECBAgQIECAAAECBAgQIECAAAECBCICwkCE3VACBAgQIECAAAECBAgQIECAAAECBAgQIJAREAYy7qYSIECAAAECBAgQIECAAAECBAgQIECAAIGIgDAQYTeUAAECBAgQIECAAAECBAgQIECAAAECBAhkBISBjLupBAgQIECAAAECBAgQIECAAAECBAgQIEAgIiAMRNgNJUCAAAECBAgQIECAAAECBAgQIECAAAECGQFhIONuKgECBAgQIECAAAECBAgQIECAAAECBAgQiAgIAxF2QwkQIECAAAECBAgQIECAAAECBAgQIECAQEZAGMi4m0qAAAECBAgQIECAAAECBAgQIECAAAECBCICwkCE3VACBAgQIECAAAECBAgQIECAAAECBAgQIJAREAYy7qYSIECAAAECBAgQIECAAAECBAgQIECAAIGIgDAQYTeUAAECBAgQIECAAAECBAgQIECAAAECBAhkBISBjLupBAgQIECAAAECBAgQIECAAAECBAgQIEAgIiAMRNgNJUCAAAECBAgQIECAAAECBAgQIECAAAECGQFhIONuKgECBAgQIECAAAECBAgQIECAAAECBAgQiAgIAxF2QwkQIECAAAECBAgQIECAAAECBAgQIECAQEZAGMi4m0qAAAECBAgQIECAAAECBAgQIECAAAECBCICwkCE3VACBAgQIECAAAECBAgQIECAAAECBAgQIJAREAYy7qYSIECAAAECBAgQIECAAAECBAgQIECAAIGIgDAQYTeUAAECBAgQIECAAAECBAgQIECAAAECBAhkBISBjLupBAgQIECAAAECBAgQIECAAAECBAgQIEAgIiAMRNgNJUCAAAECBAgQIECAAAECBAgQIECAAAECGQFhIONuKgECBAgQIECAAAECBAgQIECAAAECBAgQiAgIAxF2QwkQIECAAAECBAgQIECAAAECBAgQIECAQEZAGMi4m0qAAAECBAgQIECAAAECBAgQIECAAAECBCICwkCE3VACBAgQIECAAAECBAgQIECAAAECBAgQIJAREAYy7qYSIECAAAECBAgQIECAAAECBAgQIECAAIGIgDAQYTeUAAECBAgQIECAAAECBAgQIECAAAECBAhkBISBjLupBAgQIECAAAECBAgQIECAAAECBAgQIEAgIiAMRNgNJUCAAAECBAgQIECAAAECBAgQIECAAAECGQFhIONuKgECBAgQIECAAAECBAgQIECAAAECBAgQiAgIAxF2QwkQIECAAAECBAgQIECAAAECBAgQIECAQEZAGMi4m0qAAAECBAgQIECAAAECBAgQIECAAAECBCICwkCE3VACBAgQIECAAAECBAgQIECAAAECBAgQIJAREAYy7qYSIECAAAECBAgQIECAAAECBAgQIECAAIGIgDAQYTeUAAECBAgQIECAAAECBAgQIECAAAECBAhkBISBjLupBAgQIECAAAECBAgQIECAAAECBAgQIEAgIiAMRNgNJUCAAAECBAgQIECAAAECBAgQIECAAAECGQFhIONuKgECBAgQIECAAAECBAgQIECAAAECBAgQiAgIAxF2QwkQIECAAAECBAgQIECAAAECBAgQIECAQEZAGMi4m0qAAAECBAgQIECAAAECBAgQIECAAAECBCICwkCE3VACBAgQIECAAAECBAgQIECAAAECBAgQIJAREAYy7qYSIECAAAECBAgQIECAAAECBAgQIECAAIGIgDAQYTeUAAECBAgQIECAAAECBAgQIECAAAECBAhkBISBjLupBAgQIECAAAECBAgQIECAAAECBAgQIEAgIiAMRNgNJUCAAAECBAgQIECAAAECBAgQIECAAAECGQFhIONuKgECBAgQIECAAAECBAgQIECAAAECBAgQiAgIAxF2QwkQIECAAAECBAgQIECAAAECBAgQIECAQEZAGMi4m0qAAAECBAgQIECAAAECBAgQIECAAAECBCICwkCE3VACBAgQIECAAAECBAgQIECAAAECBAgQIJAREAYy7qYSIECAAAECBAgQIECAAAECBAgQIECAAIGIgDAQYTeUAAECBAgQIECAAAECBAgQIECAAAECBAhkBISBjLupBAgQIECAAAECBAgQIECAAAECBAgQIEAgIiAMRNgNJUCAAAECBAgQIECAAAECBAgQIECAAAECGQFhIONuKgECBAgQIECAAAECBAgQIECAAAECBAgQiAgIAxF2QwkQIECAAAECBAgQIECAAAECBAgQIECAQEZAGMi4m0qAAAECBAgQIECAAAECBAgQIECAAAECBCICwkCE3VACBAgQIECAAAECBAgQIECAAAECBAgQIJAREAYy7qYSIECAAAECBAgQIECAAAECBAgQIECAAIGIgDAQYTeUAAECBAgQIECAAAECBAgQIECAAAECBAhkBISBjLupBAgQIECAAAECBAgQIECAAAECBAgQIEAgIiAMRNgNJUCAAAECBAgQIECAAAECBAgQIECAAAECGQFhIONuKgECBAgQIECAAAECBAgQIECAAAECBAgQiAgIAxF2QwkQIECAAAECBAgQIECAAAECBAgQIECAQEZAGMi4m0qAAAECBAgQIECAAAECBAgQIECAAAECBCICwkCE3VACBAgQIECAAAECBAgQIECAAAECBAgQIJAREAYy7qYSIECAAAECBAgQIECAAAECBAgQIECAAIGIgDAQYTeUAAECBAgQIECAAAECBAgQIECAAAECBAhkBISBjLupBAgQIECAAAECBAgQIECAAAECBAgQIEAgIiAMRNgNJUCAAAECBAgQIECAAAECBAgQIECAAAECGQFhIONuKgECBAgQIECAAAECBAgQIECAAAECBAgQiAgIAxF2QwkQIECAAAECBAgQIECAAAECBAgQIECAQEZAGMi4m0qAAAECBAgQIECAAAECBAgQIECAAAECBCICwkCE3VACBAgQIECAAAECBAgQIECAAAECBAgQIJAREAYy7qYSIECAAAECBAgQIECAAAECBAgQIECAAIGIgDASkbRhAAAA90lEQVQQYTeUAAECBAgQIECAAAECBAgQIECAAAECBAhkBISBjLupBAgQIECAAAECBAgQIECAAAECBAgQIEAgIiAMRNgNJUCAAAECBAgQIECAAAECBAgQIECAAAECGQFhIONuKgECBAgQIECAAAECBAgQIECAAAECBAgQiAgIAxF2QwkQIECAAAECBAgQIECAAAECBAgQIECAQEZAGMi4m0qAAAECBAgQIECAAAECBAgQIECAAAECBCICwkCE3VACBAgQIECAAAECBAgQIECAAAECBAgQIJAREAYy7qYSIECAAAECBAgQIECAAAECBAgQIECAAIGIwL/S5wiUVptj/wAAAABJRU5ErkJggg==)"
      ]
    },
    {
      "cell_type": "markdown",
      "metadata": {
        "id": "xuwkCoBc13xx"
      },
      "source": [
        "You can also extend this confusion matrix to plot multi-class classification predictions.\n",
        "\n",
        "The following is an example confusion matrix for our penguin classifying model."
      ]
    },
    {
      "cell_type": "code",
      "execution_count": 57,
      "metadata": {
        "id": "zqpktIpGy5Xu"
      },
      "outputs": [
        {
          "data": {
            "image/png": "[encoded data removed]",
            "text/plain": [
              "<Figure size 800x600 with 2 Axes>"
            ]
          },
          "metadata": {},
          "output_type": "display_data"
        }
      ],
      "source": [
        "import matplotlib.pyplot as plt\n",
        "from sklearn.metrics import confusion_matrix\n",
        "\n",
        "conf_matrix = confusion_matrix(y_testing, predictions, labels=model.classes_)\n",
        "\n",
        "# Change figure size and increase dpi for better resolution\n",
        "plt.figure(figsize=(8,6), dpi=100)\n",
        "\n",
        "# Scale up the size of all text\n",
        "sns.set(font_scale = 1.1)\n",
        "\n",
        "# Plot Confusion Matrix using Seaborn heatmap()\n",
        "# Parameters:\n",
        "# first param - confusion matrix in array format\n",
        "# annot = True: show the numbers in each heatmap cell\n",
        "# fmt = 'd': show numbers as integers.\n",
        "# cmap - set colormap\n",
        "\n",
        "ax = sns.heatmap(conf_matrix, annot=True, fmt='d', cmap='flare_r')\n",
        "\n",
        "# set x-axis label and ticks.\n",
        "ax.set_xlabel(\"Predicted label\", fontsize=14, labelpad=20)\n",
        "ax.xaxis.set_ticklabels(model.classes_)\n",
        "\n",
        "# set y-axis label and ticks\n",
        "ax.set_ylabel(\"True label\", fontsize=14, labelpad=20)\n",
        "ax.yaxis.set_ticklabels(model.classes_)\n",
        "\n",
        "# set plot title\n",
        "ax.set_title(\"Confusion Matrix\", fontsize=14, pad=20)\n",
        "\n",
        "plt.show()"
      ]
    },
    {
      "cell_type": "markdown",
      "metadata": {
        "id": "skBqdql82UFX"
      },
      "source": [
        "## Three main metrics\n",
        "The three main metrics used to evaluate a classification model are accuracy, precision, and recall.\n",
        "1. **Accuracy**\n",
        "\n",
        "It is defined as the percentage of correct predictions for the test data. It can be calculated easily by dividing the number of correct predictions by the number of total predictions.\n",
        "\n",
        "\\begin{align}\n",
        "accuracy = \\frac{TP + TN}{TP + TN + FP + FN}\n",
        "\\end{align}\n",
        "\n",
        "\n",
        "2. **Precision**\n",
        "\n",
        "It is defined as the fraction of relevant examples (true positives) among all of the examples which were predicted to belong in a certain class.\n",
        "\n",
        "\\begin{align}\n",
        "precision = \\frac{TP}{TP + FP}\n",
        "\\end{align}\n",
        "\n",
        "3. **Recall**\n",
        "\n",
        "It is defined as the fraction of examples which were predicted to belong to a class with respect to all of the examples that truly belong in the class.\n",
        "\n",
        "\\begin{align}\n",
        "recall = \\frac{TP}{TP + FN}\n",
        "\\end{align}\n",
        "\n"
      ]
    },
    {
      "cell_type": "markdown",
      "metadata": {
        "id": "2ps4k4AaFkJJ"
      },
      "source": [
        "# Exercises\n",
        "\n",
        "In the exercises, we are working with the counterfeit banknotes dataset. The dataset contains data extracted from images of both genuine and forged banknote-like specimens.\n",
        "\n",
        "For digitization, an industrial camera usually used for print inspection was used. The final images have 400x 400 pixels.\n",
        "\n",
        "Due to the object lens and distance to the investigated object grey-scale pictures with a resolution of about 660 dpi were gained.\n",
        "\n",
        "Wavelet Transform tool was used to extract features from images. The features are:\n",
        "* variance: Variance of Wavelet Transformed Image\n",
        "* skewness: Skewness of Wavelet Transformed Image\n",
        "* curtosis: Curtosis of Wavelet Transformed Image\n",
        "* entropy: Entropy of Image\n",
        "* class: Class (1: genuine, 0: forged)\n",
        "\n",
        "The dataset can be downloaded from the following link:\n",
        "\n",
        "\n",
        "https://drive.google.com/file/d/1vZl5eLTObn2RmtpYFtBgPpEhUhUMFAxS/view?usp=share_link\n",
        "\n",
        "\n"
      ]
    },
    {
      "cell_type": "markdown",
      "metadata": {
        "id": "LAtKJgmI5_bZ"
      },
      "source": [
        "## Exercise 1: Working with counterfeit banknotes dataset\n",
        "\n",
        "Perform basic data inspection on the banknotes dataset such as:\n",
        "* Load dataset into a Pandas dataframe\n",
        "* Display basic infor about data\n",
        "* Check for missing values and duplicated rows. Delete all rows that have some missing values or duplicated\n",
        "* Simple data visualization using histogram and scatterplot\n"
      ]
    },
    {
      "cell_type": "markdown",
      "metadata": {
        "id": "nhNv66dvuEZz"
      },
      "source": [
        "## Exercise 2: Implement KNN from scratch\n",
        "\n",
        "In the tutorial, we used KKN model from scikit-learn package. In this exercise, you are asked to implement K-Nearest Neighbors from scratch.\n",
        "\n",
        "Develope a K-Nearest Neighbors algorithm that can work with the banknotes dataset and use the developed algorithm to classify whether a banknote is genuine or counterfeit."
      ]
    },
    {
      "cell_type": "markdown",
      "metadata": {
        "id": "JWIXCfLFvwKC"
      },
      "source": [
        "## Exercise 3: Classification using Perceptron and SVM\n",
        "\n",
        "Using scikit-learn package to complete banknote classification task using Perceptron algorithm and then Support vector machine (SVM) algorithm.\n",
        "\n",
        "You should perform the following tasks:\n",
        "* Data preparation\n",
        "* Train Test Splitting\n",
        "* Define a model (with Perceptron algorithm and SVM algorithm)\n",
        "* Train the model\n",
        "* Make prediction using the trained models\n",
        "* Compare the classification results of the two models in terms of accuracy and confusion matrix."
      ]
    }
  ],
  "metadata": {
    "colab": {
      "provenance": []
    },
    "kernelspec": {
      "display_name": ".venv",
      "language": "python",
      "name": "python3"
    },
    "language_info": {
      "codemirror_mode": {
        "name": "ipython",
        "version": 3
      },
      "file_extension": ".py",
      "mimetype": "text/x-python",
      "name": "python",
      "nbconvert_exporter": "python",
      "pygments_lexer": "ipython3",
      "version": "3.12.3"
    }
  },
  "nbformat": 4,
  "nbformat_minor": 0
}
